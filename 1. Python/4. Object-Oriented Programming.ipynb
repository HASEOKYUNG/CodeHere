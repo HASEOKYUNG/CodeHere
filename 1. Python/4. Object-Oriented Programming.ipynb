{
 "cells": [
  {
   "cell_type": "markdown",
   "id": "b419b072",
   "metadata": {},
   "source": [
    "### 사용자 정의 함수\n",
    "특정 작업을 위해 직접 선언하는 함수이다.<br>\n",
    "$\\bullet$ PARAMETER에 Argument를 전달하는 방법으로 Positional Arguments, Keyword Arguments가 있다.<br>\n",
    "$~~$ Positional Arguments로 전달할 경우, 인자는 PARAMETER 순서에 맡게 입력되어야 한다.<br>\n",
    "$~~$ Keyword Arguments로 전달할 경우, default값이 아닌 다른 값을 인자로 한다면 PARAMETER=인자로 입력해야 한다.\n",
    "```python\n",
    "# Positioinal Arguments\n",
    "def FUNCTION_NAME(PARAMETER1, PARAMETER2, ...):\n",
    "    STATEMENTS\n",
    "    return VALUE\n",
    "\n",
    "# Keyword Arguments\n",
    "def FUNCTION_NAME(PARAMETER1=VALUE1, PARAMETER_2=VALUE2, ...):\n",
    "    STATEMENTS\n",
    "    return VALUE\n",
    "```\n",
    "$~~$ ※ Packing & Unpacking<br>\n",
    "$~~~~~~$ Packing은 미지의 개수의 PARAMETER, 어떠한 인자도 받기 위하여 함수를 **정의할 때** 미지의 객체를 하나로 합친 가변인자로 입력받도록 하는 방법이고<br>\n",
    "$~~~~~~$ Unpacking은 가변인자를 입력받게 **작성된** 함수에 하나로 합쳐진 객체를 풀어 Packing한 형태로 입력하는 방법이다.\n",
    "```python\n",
    "o Packing\n",
    "  # Positional Arguments방법에서 *args는 가변인자(args)를 구성하는 요소이고 args는 *args들을 합친 tuple이다. \n",
    "  def FUNCTION_NAME(*args):\n",
    "      STATEMENTS\n",
    "      return VALUE\n",
    "\n",
    "  # Keyword Arguments방법에서 *kwargs는 가변인자(kwargs)를 구성하는 요소이고 kwargs는 *kwargs들을 합친 dictionary이다. \n",
    "  def FUNCTION_NAME(**kwargs):\n",
    "      STATEMENTS\n",
    "      return VALUE\n",
    "\n",
    "o Unpacking\n",
    "  # dictionary가 아닌 자료형, 배열 형태의 tuple, list, set 등을 Unpacking할 경우\n",
    "  FUNCTION_NAME(*자료형)\n",
    "\n",
    "  # dictionary와 같은 자료형을 Unpacking할 경우\n",
    "  FUNCTION_NAME(**자료형)    \n",
    "```\n",
    "\n",
    "$\\bullet$ 함수를 정의할 때 변수를 함수 외에서 선언하는 전역변수, 함수 내에서 선언하는 지역변수로 구분하고 규칙을 적용한다.<br>\n",
    "$~~~\\bullet$ 지역변수는 함수 내에서만 선언, 활용되고 종료 시 삭제되어 함수 외부에서 호출, 활용할 수 없다.<br>\n",
    "$~~~~$ 동일한 명칭의 전역변수, 지역변수가 존재할 경우 함수 내에선 지역변수가, 함수 외에선 전역변수가 사용된다.<br>\n",
    "$~~~\\bullet$ 동일한 명칭의 전역변수, 지역변수가 존재할 때 전역변수를 사용하고 싶다면 인자로 전역변수를 전달하도록 함수를 선언하길 권장한다.<br>\n",
    "$~~~~$ 전역변수를 참조만 한다면 지역변수를 선언하지 않고 전역변수를 불러 사용할 수 있다.<br>\n",
    "$~~~~$ 그러나 전역변수를 부르고 같은 명칭의 변수를 재정의해야 한다면 global을 해야하며 재정의로 함수 실행 후 전역변수 데이터가 변경된다.\n",
    "\n",
    "$\\bullet$ Pass-by-Value 방식으로 Argument를 Parameter로 전달하기에 <br>\n",
    "$~~$ Argument로 전달된 값, 변수가 불변자료형(string, tuple, numeric 등)이라면 값에 의한 호출로 원본이 변경되지 않으나<br>\n",
    "$~~$ 가변자료형(list, dictionary, set 등)이면 참조에 의한 호출로 **`원본에 함수 수행, 함수 결과가 반영된다.`**"
   ]
  },
  {
   "cell_type": "code",
   "execution_count": 1,
   "id": "b2dc24fd",
   "metadata": {},
   "outputs": [
    {
     "name": "stdout",
     "output_type": "stream",
     "text": [
      "round_함수로 2.05를 반올림하여 소숫점 첫째자리까지 나타낸 값: 2.0\n",
      "round_off함수로 2.05를 반올림하여 소숫점 첫째자리까지 나타낸 값: 2.1\n"
     ]
    }
   ],
   "source": [
    "# 함수명은 함수의 목적(동사), 함수목적_함수결과(동사_명사)로 작성한다.\n",
    "def round_off(NUM, P):\n",
    "    # Basic 파일에서 설명한 내장 round함수의 단점을 보완한 함수이다.\n",
    "    string = str(NUM)\n",
    "    if int(string[string.index('.')+P+1]) < 5:\n",
    "        return float(string[:string.index('.')+P+1])\n",
    "    else:\n",
    "        return float(string[:string.index('.')+P+1])+float('0.'+'0'*(P-1)+'1')\n",
    "    \n",
    "print('round_함수로 2.05를 반올림하여 소숫점 첫째자리까지 나타낸 값:', round(2.05,1))\n",
    "print('round_off함수로 2.05를 반올림하여 소숫점 첫째자리까지 나타낸 값:', round_off(2.05,1))"
   ]
  },
  {
   "cell_type": "code",
   "execution_count": 2,
   "id": "fdc093b4",
   "metadata": {},
   "outputs": [
    {
     "name": "stdout",
     "output_type": "stream",
     "text": [
      "2022년 12월 4일은 일요일이다.\n",
      "2022년 12월 28일은 수요일이다.\n",
      "2022년 12월 29일은 목요일이다.\n"
     ]
    }
   ],
   "source": [
    "# Positional Arguments는 Keyword Arguments처럼 일일이 PARAMETER명 별 인자를 선언하지 않아도 된다는 장점이 있다.\n",
    "# 특히 변수명이 길때 유용하다. 그러나 PARAMETER 개수가 많을 때는 입력순서를 헷갈릴 수 있어 주의해야 한다.\n",
    "from datetime import datetime\n",
    "\n",
    "def print_date(YEAR, MONTH, DAY):\n",
    "    # YEAR=XXXX, YEAR=XX, DAY=XX로 입력하지 않아도 되어 유용하다.\n",
    "    dow = list('월화수목금토일')[datetime(YEAR,MONTH,DAY).weekday()]\n",
    "    return f'{YEAR}년 {MONTH}월 {DAY}일은 {dow}요일이다.'\n",
    "\n",
    "print(print_date(2022,12,4))\n",
    "print(print_date(2022,12,28))\n",
    "print(print_date(2022,12,29))"
   ]
  },
  {
   "cell_type": "code",
   "execution_count": 3,
   "id": "9ef2f0f7",
   "metadata": {},
   "outputs": [
    {
     "name": "stdout",
     "output_type": "stream",
     "text": [
      "2022년 12월 4일은 일요일이다.\n",
      "2022년 12월 28일은 수요일이다.\n",
      "2022년 12월 29일은 목요일이다.\n"
     ]
    }
   ],
   "source": [
    "# PARAMETER 개수가 많은 경우에 Keyword Arguments를 사용하면 입력순서와 무관하게 일일이 선언하여 오류발생을 막을 수 있다.\n",
    "# 이때, 대부분의 PARAMETER가 고정된 인자를 갖고 일부의 PARAMETER만 인자가 달라진다면 \n",
    "# Keyword Arguments로 default를 설정하고 일부 PARAMETER만 선언하여 함수를 동작할 수 있어 더욱 효과적이다.\n",
    "def print_date(YEAR=2022, MONTH=12, DAY=29):\n",
    "    # 2022년 12월 중 기념일 12월 29일의 다른 해, 2022년 다른 월의 29일의 요일을 출력할 경우에 효과적이다.\n",
    "    dow = list('월화수목금토일')[datetime(YEAR,MONTH,DAY).weekday()]\n",
    "    return f'{YEAR}년 {MONTH}월 {DAY}일은 {dow}요일이다.'\n",
    "\n",
    "print(print_date(DAY=4))\n",
    "print(print_date(DAY=28))\n",
    "print(print_date())"
   ]
  },
  {
   "cell_type": "code",
   "execution_count": 4,
   "id": "a27d1284",
   "metadata": {},
   "outputs": [
    {
     "name": "stdout",
     "output_type": "stream",
     "text": [
      "2022년 12월 4일은 일요일이다.\n",
      "2021년 12월 28일은 화요일이다.\n"
     ]
    }
   ],
   "source": [
    "# Positional Arguments와 Keyword Arguments를 동시에 사용해 각각의 장점을 취할 수 있다.\n",
    "# 그러나 반드시 Positional Arguments를 먼저 입력받도록 선언해야 한다.\n",
    "def print_date(DAY, YEAR=2022, MONTH=12):\n",
    "    dow = list('월화수목금토일')[datetime(YEAR,MONTH,DAY).weekday()]\n",
    "    return f'{YEAR}년 {MONTH}월 {DAY}일은 {dow}요일이다.'\n",
    "\n",
    "print(print_date(4))\n",
    "print(print_date(28, YEAR=2021))"
   ]
  },
  {
   "cell_type": "code",
   "execution_count": 5,
   "id": "6009a8ec",
   "metadata": {},
   "outputs": [
    {
     "name": "stdout",
     "output_type": "stream",
     "text": [
      "인자를 입력하는 경우: 57.5\n",
      "선언된 자료형을 입력하는 경우: 57.5\n"
     ]
    }
   ],
   "source": [
    "# Packing과 Unpacking을 통해 선언된 자료형의 값을 일일이 입력하지 않고 * 또는 **로 함수에 전달할 수 있다.\n",
    "def mean(*args):\n",
    "    return sum(args)/len(args)\n",
    "\n",
    "print('인자를 입력하는 경우:', mean(69,63,56,72,93,23,48,36))\n",
    "data = [69,63,56,72,93,23,48,36]\n",
    "print('선언된 자료형을 입력하는 경우:', mean(*data))"
   ]
  },
  {
   "cell_type": "code",
   "execution_count": 6,
   "id": "d271bf2b",
   "metadata": {},
   "outputs": [
    {
     "name": "stdout",
     "output_type": "stream",
     "text": [
      "인자를 입력하는 경우: 57.5\n",
      "선언된 자료형을 입력하는 경우: 57.5\n"
     ]
    }
   ],
   "source": [
    "# 입력되는 인자에 대한 정보가 없음을 전제로 사용하는 Packing&Unpacking에서\n",
    "# Key로 Value를 불러야 하는 dictionary를 전달하는 방법은 key만, value만 활용하는 경우에서만 국한적이게 사용된다.\n",
    "def mean(**kwargs):\n",
    "    return sum(kwargs.values())/len(kwargs)\n",
    "\n",
    "print('인자를 입력하는 경우:', mean(A=69,B=63,C=56,D=72,E=93,F=23,G=48,H=36))\n",
    "data = {'A':69,'B':63,'C':56,'D':72,'E':93,'F':23,'G':48,'H':36}\n",
    "print('선언된 자료형을 입력하는 경우:', mean(**data))"
   ]
  },
  {
   "cell_type": "code",
   "execution_count": 7,
   "id": "01e5724a",
   "metadata": {},
   "outputs": [
    {
     "name": "stdout",
     "output_type": "stream",
     "text": [
      "70\n"
     ]
    }
   ],
   "source": [
    "# 지역변수와 전역변수에 관한 설명이다. \n",
    "# 오류가 예상되는 경우에 함수의 인자로 전달하거나 동일한 변수명은 사용하지 않기에 참고만 하면 된다.\n",
    "# 1. 동일명의 지역변수가 선언되지 않았다면 자동으로 전역변수를 함수 내에서 사용한다.\n",
    "data = (69,63,56,72,93,23,48,36)\n",
    "def minmax_diff():\n",
    "    return max(data)-min(data)\n",
    "print(minmax_diff())"
   ]
  },
  {
   "cell_type": "code",
   "execution_count": 8,
   "id": "6ea5bc9b",
   "metadata": {},
   "outputs": [
    {
     "ename": "UnboundLocalError",
     "evalue": "local variable 'data' referenced before assignment",
     "output_type": "error",
     "traceback": [
      "\u001b[1;31m---------------------------------------------------------------------------\u001b[0m",
      "\u001b[1;31mUnboundLocalError\u001b[0m                         Traceback (most recent call last)",
      "\u001b[1;32m~\\AppData\\Local\\Temp/ipykernel_1732/3062756958.py\u001b[0m in \u001b[0;36m<module>\u001b[1;34m\u001b[0m\n\u001b[0;32m      6\u001b[0m     \u001b[0mdata\u001b[0m \u001b[1;33m+=\u001b[0m \u001b[1;33m[\u001b[0m\u001b[1;33m*\u001b[0m\u001b[0margs\u001b[0m\u001b[1;33m]\u001b[0m\u001b[1;33m\u001b[0m\u001b[1;33m\u001b[0m\u001b[0m\n\u001b[0;32m      7\u001b[0m     \u001b[1;32mreturn\u001b[0m \u001b[0mmax\u001b[0m\u001b[1;33m(\u001b[0m\u001b[0mdata\u001b[0m\u001b[1;33m)\u001b[0m\u001b[1;33m-\u001b[0m\u001b[0mmin\u001b[0m\u001b[1;33m(\u001b[0m\u001b[0mdata\u001b[0m\u001b[1;33m)\u001b[0m\u001b[1;33m\u001b[0m\u001b[1;33m\u001b[0m\u001b[0m\n\u001b[1;32m----> 8\u001b[1;33m \u001b[0mprint\u001b[0m\u001b[1;33m(\u001b[0m\u001b[0mminmax_diff\u001b[0m\u001b[1;33m(\u001b[0m\u001b[1;33m)\u001b[0m\u001b[1;33m)\u001b[0m\u001b[1;33m\u001b[0m\u001b[1;33m\u001b[0m\u001b[0m\n\u001b[0m",
      "\u001b[1;32m~\\AppData\\Local\\Temp/ipykernel_1732/3062756958.py\u001b[0m in \u001b[0;36mminmax_diff\u001b[1;34m(*args)\u001b[0m\n\u001b[0;32m      4\u001b[0m \u001b[1;32mdef\u001b[0m \u001b[0mminmax_diff\u001b[0m\u001b[1;33m(\u001b[0m\u001b[1;33m*\u001b[0m\u001b[0margs\u001b[0m\u001b[1;33m)\u001b[0m\u001b[1;33m:\u001b[0m\u001b[1;33m\u001b[0m\u001b[1;33m\u001b[0m\u001b[0m\n\u001b[0;32m      5\u001b[0m     \u001b[1;31m# Error!\u001b[0m\u001b[1;33m\u001b[0m\u001b[1;33m\u001b[0m\u001b[0m\n\u001b[1;32m----> 6\u001b[1;33m     \u001b[0mdata\u001b[0m \u001b[1;33m+=\u001b[0m \u001b[1;33m[\u001b[0m\u001b[1;33m*\u001b[0m\u001b[0margs\u001b[0m\u001b[1;33m]\u001b[0m\u001b[1;33m\u001b[0m\u001b[1;33m\u001b[0m\u001b[0m\n\u001b[0m\u001b[0;32m      7\u001b[0m     \u001b[1;32mreturn\u001b[0m \u001b[0mmax\u001b[0m\u001b[1;33m(\u001b[0m\u001b[0mdata\u001b[0m\u001b[1;33m)\u001b[0m\u001b[1;33m-\u001b[0m\u001b[0mmin\u001b[0m\u001b[1;33m(\u001b[0m\u001b[0mdata\u001b[0m\u001b[1;33m)\u001b[0m\u001b[1;33m\u001b[0m\u001b[1;33m\u001b[0m\u001b[0m\n\u001b[0;32m      8\u001b[0m \u001b[0mprint\u001b[0m\u001b[1;33m(\u001b[0m\u001b[0mminmax_diff\u001b[0m\u001b[1;33m(\u001b[0m\u001b[1;33m)\u001b[0m\u001b[1;33m)\u001b[0m\u001b[1;33m\u001b[0m\u001b[1;33m\u001b[0m\u001b[0m\n",
      "\u001b[1;31mUnboundLocalError\u001b[0m: local variable 'data' referenced before assignment"
     ]
    }
   ],
   "source": [
    "# 2. 동일명의 지역변수를 선언할 때 전역변수를 참조하고 싶다면 global로 불러와야 하며\n",
    "#    global로 부른 후 해당 변수를 재정의하면 전역변수가 변경된다.\n",
    "data = (69,63,56,72,93,23,48,36)\n",
    "def minmax_diff(*args):\n",
    "    # Error!\n",
    "    data += [*args] \n",
    "    return max(data)-min(data)\n",
    "print(minmax_diff())"
   ]
  },
  {
   "cell_type": "code",
   "execution_count": 9,
   "id": "15f8bbbc",
   "metadata": {},
   "outputs": [
    {
     "name": "stdout",
     "output_type": "stream",
     "text": [
      "70\n",
      "함수 동작 후 전역변수: (69, 63, 56, 72, 93, 23, 48, 36, 50, 48)\n"
     ]
    }
   ],
   "source": [
    "data = (69,63,56,72,93,23,48,36)\n",
    "def minmax_diff(*args):\n",
    "    global data\n",
    "    # 전역변수 변경(Error가 일어나지 않아 문제임)\n",
    "    data += args \n",
    "    return max(data)-min(data)\n",
    "print(minmax_diff(50,48))\n",
    "print('함수 동작 후 전역변수:', data)"
   ]
  },
  {
   "cell_type": "code",
   "execution_count": 10,
   "id": "52a6c6f5",
   "metadata": {},
   "outputs": [
    {
     "name": "stdout",
     "output_type": "stream",
     "text": [
      "70\n",
      "함수 동작 후 전역변수: (69, 63, 56, 72, 93, 23, 48, 36)\n"
     ]
    }
   ],
   "source": [
    "data = (69,63,56,72,93,23,48,36)\n",
    "def minmax_diff(*args):\n",
    "    global data\n",
    "    # 전역변수 변경을 막기 위해 다른 명칭의 지역변수를 선언\n",
    "    data2 = data\n",
    "    data2 += args \n",
    "    return max(data2)-min(data2)\n",
    "print(minmax_diff(50,48))\n",
    "print('함수 동작 후 전역변수:', data)"
   ]
  },
  {
   "cell_type": "code",
   "execution_count": 11,
   "id": "079486f0",
   "metadata": {},
   "outputs": [
    {
     "ename": "SyntaxError",
     "evalue": "name 'data' is assigned to before global declaration (Temp/ipykernel_1732/3823625432.py, line 7)",
     "output_type": "error",
     "traceback": [
      "\u001b[1;36m  File \u001b[1;32m\"C:\\Users\\ha\\AppData\\Local\\Temp/ipykernel_1732/3823625432.py\"\u001b[1;36m, line \u001b[1;32m7\u001b[0m\n\u001b[1;33m    global data\u001b[0m\n\u001b[1;37m    ^\u001b[0m\n\u001b[1;31mSyntaxError\u001b[0m\u001b[1;31m:\u001b[0m name 'data' is assigned to before global declaration\n"
     ]
    }
   ],
   "source": [
    "# 3. 동일명의 지역변수가 선언되었다면 global로도 전역변수를 부를 수 없다.\n",
    "#    굳이 동일명의 지역변수를 선언하고 함수 동작에 활용하겠다면 전역변수와 관련된 코드는 모두 지우면 된다.\n",
    "#    동일명의 지역변수를 선언했으나 함수 동작에 전역변수를 사용하겠다면 지역변수를 지우면 된다.(2번 설명의 코드 참조)\n",
    "data = (69,63,56,72,93,23,48,36)\n",
    "def minmax_diff():\n",
    "    data = [1,2,3,4,5]\n",
    "    global data\n",
    "    return max(data)-min(data)\n",
    "print(minmax_diff())"
   ]
  },
  {
   "cell_type": "code",
   "execution_count": 12,
   "id": "70226d7d",
   "metadata": {},
   "outputs": [
    {
     "name": "stdout",
     "output_type": "stream",
     "text": [
      "4\n"
     ]
    }
   ],
   "source": [
    "data = (69,63,56,72,93,23,48,36)\n",
    "def minmax_diff():\n",
    "    data = [1,2,3,4,5]\n",
    "    return max(data)-min(data)\n",
    "print(minmax_diff())"
   ]
  },
  {
   "cell_type": "code",
   "execution_count": 13,
   "id": "d9ded46c",
   "metadata": {},
   "outputs": [
    {
     "name": "stdout",
     "output_type": "stream",
     "text": [
      "A 메모리주소: 2493090503728, B 메모리주소: 2493090503728\n",
      "A: 가나다가, B: 가나다\n",
      "A 메모리주소: 2493091363696, B 메모리주소: 2493090503728\n"
     ]
    }
   ],
   "source": [
    "# 불변인 자료형은 기존 변수(A)를 참조한 새로운 변수(B)를 선언할 때 값만 참조하여 A, B는 독립적이다.\n",
    "# 이에 기존 변수(A)에 수정이 발생해도 다시 말해 Method와 함수, 복합연산자 사용으로 원본이 Update되어도\n",
    "# 기존 변수가 다른 id(메모리주소)를 갖는 새로운 변수(C)로 변경되고 B는 그대로이다.\n",
    "A = '가나다'\n",
    "B = A\n",
    "print(f'A 메모리주소: {id(A)}, B 메모리주소: {id(B)}')\n",
    "# 기존 변수의 수정이 반영된다. 변수명이 A이나 설명에서의 C와 동일하다.\n",
    "A += A[0]\n",
    "print(f'A: {A}, B: {B}')\n",
    "print(f'A 메모리주소: {id(A)}, B 메모리주소: {id(B)}')"
   ]
  },
  {
   "cell_type": "code",
   "execution_count": 14,
   "id": "b766bd0a",
   "metadata": {},
   "outputs": [
    {
     "name": "stdout",
     "output_type": "stream",
     "text": [
      "A 메모리주소: 2493090964480, B 메모리주소: 2493090964480\n",
      "A: ['가', '나', '다', 'abc'], B: ['가', '나', '다', 'abc']\n",
      "A 메모리주소: 2493090964480, B 메모리주소: 2493090964480\n"
     ]
    }
   ],
   "source": [
    "# 반면 가변인 자료형은 기존 변수(A)를 참조한 새로운 변수(B)를 선언할 때 메모리주소를 참조하여 A, B는 종속적이다.\n",
    "# 이에 기존 변수(A)에 수정이 발생하면 B도 변경된다.\n",
    "A = list('가나다')\n",
    "B = A\n",
    "print(f'A 메모리주소: {id(A)}, B 메모리주소: {id(B)}')\n",
    "# 기존 변수의 수정으로 B도 변경된다.\n",
    "A.append('abc') # A.remove('나'), A += A[0]\n",
    "print(f'A: {A}, B: {B}')\n",
    "print(f'A 메모리주소: {id(A)}, B 메모리주소: {id(B)}')"
   ]
  },
  {
   "cell_type": "code",
   "execution_count": 15,
   "id": "87d5636b",
   "metadata": {},
   "outputs": [
    {
     "name": "stdout",
     "output_type": "stream",
     "text": [
      "A 메모리주소: 2493090971904, B 메모리주소: 2493091009216\n",
      "A: ['가', '나', '다', 'abc'], B: ['가', '나', '다']\n",
      "A 메모리주소: 2493090971904, B 메모리주소: 2493091009216\n"
     ]
    }
   ],
   "source": [
    "# 가변인 자료형을 참조해 독립적인 새로운 변수를 생성하고자 한다면 [:]나 copy Method로 deepcopy하면 된다.\n",
    "A = list('가나다')\n",
    "B = A[:] # A.copy()\n",
    "print(f'A 메모리주소: {id(A)}, B 메모리주소: {id(B)}')\n",
    "# 기존 변수의 수정으로 B도 변경된다.\n",
    "A.append('abc') # A.remove('나'), A += A[0]\n",
    "print(f'A: {A}, B: {B}')\n",
    "print(f'A 메모리주소: {id(A)}, B 메모리주소: {id(B)}')"
   ]
  },
  {
   "cell_type": "code",
   "execution_count": 16,
   "id": "8d2c8526",
   "metadata": {},
   "outputs": [
    {
     "name": "stdout",
     "output_type": "stream",
     "text": [
      "local korea: ['대', '한', '민', '국', '만세'], global korea: ['대', '한', '민', '국']\n",
      "local korea: ['대', '한', '민', '국', '만세'], global korea: ['대', '한', '민', '국']\n"
     ]
    }
   ],
   "source": [
    "# 가변자료형이 함수 사용으로 변경되지 않게 하기 위해선 \n",
    "# 가변자료형을 인자로 받는 경우엔 함수에 deepcopy한 자료형을 전달하거나 deepcopy한 자료형을 지역변수로 선언해야 한다.\n",
    "korea = list('대한민국')\n",
    "def change_variable_ex(LIST):\n",
    "    LIST.append('만세')\n",
    "    return LIST\n",
    "print(f'local korea: {change_variable_ex(korea[:])}, global korea: {korea}')\n",
    "\n",
    "def change_variable_ex(LIST):\n",
    "    lst = LIST.copy() \n",
    "    lst.append('만세')\n",
    "    return lst\n",
    "print(f'local korea: {change_variable_ex(korea[:])}, global korea: {korea}')"
   ]
  },
  {
   "cell_type": "code",
   "execution_count": 17,
   "id": "bd5c2ff2",
   "metadata": {},
   "outputs": [
    {
     "name": "stdout",
     "output_type": "stream",
     "text": [
      "복수의 return값 개수에 맞게 변수를 선언할 경우: 88.0 , 11.2 , 3.3466401061363023\n",
      "복수의 return값을 한 변수로 선언할 경우: (88.0, 11.2, 3.3466401061363023)\n",
      "가변인자로 선언할 경우: 88.0 , [11.2, 3.3466401061363023]\n"
     ]
    }
   ],
   "source": [
    "# 여러 값을 return할 수 있다. \n",
    "# 한 변수로 return을 받는다면 tuple로 저장되고 별도로 가변인자를 사용해 return을 받을 경우에는 list로 저장된다.\n",
    "def stats_info(*args):\n",
    "    mean = sum(args)/len(args)\n",
    "    var = sum([(i-mean)**2 for i in args])/len(args)\n",
    "    return mean, var, var**0.5\n",
    "\n",
    "mean, var, std = stats_info(87,90,83,93,87)\n",
    "print('복수의 return값 개수에 맞게 변수를 선언할 경우:', mean,',', var,',', std)\n",
    "one_var = stats_info(87,90,83,93,87)\n",
    "print('복수의 return값을 한 변수로 선언할 경우:', one_var)\n",
    "mean, *dispersibility = stats_info(87,90,83,93,87)\n",
    "print('가변인자로 선언할 경우:', mean,',', dispersibility)"
   ]
  },
  {
   "cell_type": "markdown",
   "id": "0f23649e",
   "metadata": {},
   "source": [
    "### 예외처리\n",
    "사용자 정의 함수를 선언하거나 데이터 전처리 등 직접 코딩함에 오류, 의도한 바와 다를 때 오류 부분을 찾고 에러해결 방법을 지정하는 방법이다. \n",
    "\n",
    "```python\n",
    "try의 예외가 발생할 수 있는 STATEMENTS에서 예외가 발생한 경우에는 except의 ERROR_STATEMENTS를 동작한다.                     \\\n",
    "\n",
    "try:\n",
    "    STATEMENTS\n",
    "except:\n",
    "    ERROR_STATEMENTS\n",
    "    \n",
    "이때, except별 ERROR를 지정하여 ERROR별 출력할 MESSAGE, 작동시킬 STATEMENTS를 지정할 수 있다.                                \\\n",
    "\n",
    "try:\n",
    "    STATEMENTS\n",
    "except ERROR1 as MESSAGE1:\n",
    "    ERROR_STATEMENTS1\n",
    "except ERROR2 as MESSAGE2:\n",
    "    ERROR_STATEMENTS2\n",
    "    ...\n",
    "    \n",
    "추가적으로, 예외가 발생하지 않을 경우에 작동시킬 else의 SAFE_STATEMENTS,\n",
    "try의 STATEMENTS에 따른 ERROR_STATEMENTS, SAFE_STATEMENTS 동작이 모두 끝날 때 동작시킬 finally의 STATEMENTS를 지정할 수 있다.\\\n",
    "\n",
    "try:\n",
    "    STATEMENTS\n",
    "except:\n",
    "    ERROR_STATEMENTS\n",
    "else:\n",
    "    SAFE_STATEMENTS\n",
    "finally:\n",
    "    STATEMENTS\n",
    "```\n",
    "[Python Exception] https://www.w3schools.com/python/python_ref_exceptions.asp"
   ]
  },
  {
   "cell_type": "code",
   "execution_count": 18,
   "id": "6d97aaa5",
   "metadata": {},
   "outputs": [
    {
     "name": "stdout",
     "output_type": "stream",
     "text": [
      "division by zero\n"
     ]
    }
   ],
   "source": [
    "# 대표적인 오류로 ZeroDivisionError, TypeError, IndexError, FileNotFoundError, NotImplementedError 등이 있다.\n",
    "# try에 예외가 없을 시 실행할 코드까지 작성되어 있는 경우에 else를 선언하지 않아도 된다.\n",
    "x, y = 1000, 0 # x, y = 3, '가'\n",
    "try:\n",
    "    print(x/y)\n",
    "except ZeroDivisionError as e:\n",
    "    # ZeroDivisionError의 에러 설명 출력\n",
    "    print(e)\n",
    "except TypeError as e:\n",
    "    # TypeError의 에러 설명 출력\n",
    "    print(e)"
   ]
  },
  {
   "cell_type": "code",
   "execution_count": 19,
   "id": "e48930f0",
   "metadata": {},
   "outputs": [
    {
     "name": "stdout",
     "output_type": "stream",
     "text": [
      "Positive Infinite\n"
     ]
    }
   ],
   "source": [
    "# 의도한 바와 다르게 작동한 것이나 Python이 예외로 인정하지 않는 경우 직접 예외를 만들어 사용할 수 있다.\n",
    "class PInfError(Exception):\n",
    "    def __init__(self):\n",
    "        # 생성자로 예외시 return값을 지정한다.\n",
    "        super().__init__('Positive Infinite')                \n",
    "\n",
    "x, y = 100000000000000000000000000, 0.0000000000000000000000001\n",
    "try:\n",
    "    if x/y > 10*20:\n",
    "        raise PInfError\n",
    "    print(x/y)\n",
    "except PInfError as e:\n",
    "    print(e)"
   ]
  },
  {
   "cell_type": "code",
   "execution_count": 20,
   "id": "8cb7a835",
   "metadata": {},
   "outputs": [
    {
     "name": "stdout",
     "output_type": "stream",
     "text": [
      "0.25\n",
      "3.0\n",
      "ZeroDivisionError: do not divide 0\n"
     ]
    }
   ],
   "source": [
    "# 예외처리는 최초의 예외를 처리하고 종료되어 아래의 경우 TypeError는 예외처리 되지 않는다.\n",
    "numerator = [1, 30, 10, '가']\n",
    "denominator = [4, 10, 0, 3]\n",
    "\n",
    "try:\n",
    "    for x, y in zip(numerator, denominator):\n",
    "        print(x/y)\n",
    "except ZeroDivisionError:\n",
    "    print('ZeroDivisionError: do not divide 0')\n",
    "except TypeError:\n",
    "    print(\"TypeError: can not calculate\")    "
   ]
  },
  {
   "cell_type": "code",
   "execution_count": 21,
   "id": "34113138",
   "metadata": {},
   "outputs": [
    {
     "name": "stdout",
     "output_type": "stream",
     "text": [
      "0.25\n",
      "3.0\n",
      "ZeroDivisionError: do not divide 0\n",
      "TypeError: can not calculate\n"
     ]
    }
   ],
   "source": [
    "# 반복적인 계산에서 여러 예외를 처리하고 싶은 경우 반복문 안에서 예외처리 해야 한다.\n",
    "numerator = [1, 30, 10, '가']\n",
    "denominator = [4, 10, 0, 3]\n",
    "\n",
    "for x, y in zip(numerator, denominator):\n",
    "    try:\n",
    "        print(x/y)\n",
    "    except ZeroDivisionError:\n",
    "        print('ZeroDivisionError: do not divide 0')\n",
    "    except TypeError:\n",
    "        print(\"TypeError: can not calculate\")    "
   ]
  },
  {
   "cell_type": "code",
   "execution_count": 22,
   "id": "45959275",
   "metadata": {},
   "outputs": [
    {
     "name": "stdout",
     "output_type": "stream",
     "text": [
      "0.25\n",
      "3.0\n",
      "Error\n",
      "Error\n"
     ]
    }
   ],
   "source": [
    "# 예외별로 특정 코드가 실행되도록 설정하지 않는다면 모든 예외를 동일하게 처리한다.\n",
    "numerator = [1, 30, 10, '가']\n",
    "denominator = [4, 10, 0, 3]\n",
    "\n",
    "for x, y in zip(numerator, denominator):\n",
    "    try:\n",
    "        print(x/y)\n",
    "    except:\n",
    "        print('Error')  "
   ]
  },
  {
   "cell_type": "markdown",
   "id": "e1771c76",
   "metadata": {},
   "source": [
    "### 클래스\n",
    "Attribute(속성, 변수), Method를 묶어 사용자에게 공용 인터페이스, 필요한 정보만 제공하고 구현 세부사항은 감추는 **캡슐화**의 결과이다.<br>\n",
    "\n",
    "$\\bullet$ 클래스를 객체로 선언하기에 같은 클래스로부터 선언되어도 객체간 독립적이게 존재한다.<br>\n",
    "$\\bullet$ 사용자 정의 함수처럼 인자를 입력받을 수 있으며 **생성자**에서 Attribute를 초기화한다. self로 객체 내부에서만 Attribute를 접근할 수 있도록 한다.<br>\n",
    "$~~$ 클래스 변수는 생성자 위에서 선언하는 것이 좋고 인자를 입력받지 않고 클래스 작성 시 고정된 변수로 모든 클래스 객체에서 동일하다.\n",
    "```python\n",
    "class CLASSNAME:\n",
    "    CLASSVAR = VALUE\n",
    "    \n",
    "    def __init__(self, PARAMETER1, PARAMETER2, ...):\n",
    "        self.PARAMETER1 = PARAMETER1\n",
    "        self.PARAMETER2 = PARAMETER2\n",
    "                   ...\n",
    "```\n",
    "$\\bullet$ Method도 첫 번째 PARAMETER로 self를 입력받아 클래스 객체 내에서만 Method에 접근할 수 있도록 한다.\n",
    "```python\n",
    "class CLASSNAME:\n",
    "    def __init__(self, ...):\n",
    "            ...\n",
    "            \n",
    "    def METHOD(self, ...):\n",
    "        STATEMENTS\n",
    "```\n",
    "$\\bullet$ Python에선 클래스의 특수 Method를 지원하는 데 아래와 같다.\n",
    "- 클래스 객체를 print할 때 출력할 문자열을 설정할 수 있다. 클래스에 대해 설명하기 유용하다.\n",
    "\n",
    "```python\n",
    "    def __str__(self):\n",
    "        return 'STRING'\n",
    "```\n",
    "- 지정된 메소드명으로 Method를 선언하면 메소드명으로 호출하지 않고 연산자로 호출해도 동작한다.<br>\n",
    "  [특수메소드] https://dev-ku.tistory.com/167"
   ]
  },
  {
   "cell_type": "code",
   "execution_count": null,
   "id": "74a347fd",
   "metadata": {},
   "outputs": [],
   "source": [
    "# 관례적으로 클래스 명은 Camel Case로 작성한다.\n",
    "class MyClass:\n",
    "    ..."
   ]
  },
  {
   "cell_type": "code",
   "execution_count": 23,
   "id": "b656fb44",
   "metadata": {},
   "outputs": [],
   "source": [
    "# 클래스 생성자와 Method는 사용자 정의 함수 작성과 동일하다. \n",
    "# 때로 PARAMETER를 사용하지 않을수도, default를 설정할 수도 있고, 가변인자를 입력받을 수 있다. \n",
    "# Argument의 type을 고려해 STATEMENT를 작성해야 한다.\n",
    "\n",
    "class Statistic:\n",
    "    method_cnt = 4\n",
    "    \n",
    "    def __init__(self, *args):\n",
    "        self.data = args\n",
    "    \n",
    "    def __str__(self):\n",
    "        return '내장함수로 제공하지 않는 통계 함수를 작성한 Class이다.'\n",
    "    \n",
    "    def mean(self):\n",
    "        return sum(self.data)/len(self.data)\n",
    "\n",
    "    def diff(self):\n",
    "        return max(self.data) - min(self.data)\n",
    "\n",
    "    def var(self):\n",
    "        # 다른 Method에서 객체 내 Method는 self로 부를 수 있다.\n",
    "        m = self.mean()\n",
    "        return sum([(i-m)**2 for i in self.data])/len(self.data)\n",
    "    \n",
    "    def std(self):\n",
    "        return self.var()**0.5"
   ]
  },
  {
   "cell_type": "code",
   "execution_count": 24,
   "id": "81ca7233",
   "metadata": {
    "scrolled": true
   },
   "outputs": [
    {
     "name": "stdout",
     "output_type": "stream",
     "text": [
      "내장함수로 제공하지 않는 통계 함수를 작성한 Class이다.\n",
      "Method 개수: 4\n",
      "평균: 57.5\n",
      "범위: 70 분산: 422.25 표준편차: 20.54872258803452\n"
     ]
    }
   ],
   "source": [
    "data = (69,63,56,72,93,23,48,36)\n",
    "ex = Statistic(*data)\n",
    "print(ex)\n",
    "print('Method 개수:', ex.method_cnt)\n",
    "print('평균:', ex.mean())\n",
    "print('범위:', ex.diff(), '분산:', ex.var(), '표준편차:', ex.std())"
   ]
  },
  {
   "cell_type": "code",
   "execution_count": 25,
   "id": "4d6bb03d",
   "metadata": {},
   "outputs": [
    {
     "data": {
      "text/plain": [
       "['mean', 'method_cnt', 'std', 'var']"
      ]
     },
     "execution_count": 25,
     "metadata": {},
     "output_type": "execute_result"
    }
   ],
   "source": [
    "# 클래스 내 Method는 dir(CLASSNAME)으로 확인할 수 있다.\n",
    "dir(Statistic)[-4:]"
   ]
  },
  {
   "cell_type": "markdown",
   "id": "ace2e15b",
   "metadata": {},
   "source": [
    "### 상속\n",
    "슈퍼클래스(부모클래스)의 Attribute, Method를 이어받아 필요한 Attribute, Method만 추가, 수정하여 재활용하는 기능이다.<br><br>\n",
    "$\\bullet$ 슈퍼클래스는 서브클래스들의 공용 인터페이스를 제공하는 역할을 한다.<br>\n",
    "$~~$ 이에 서브클래스에서 슈퍼클래스의 PARAMETER를 입력받으나 슈퍼클래스의 생성자에서 초기화가 이루어지고<br>\n",
    "$~~$ 서브클래스에서 슈퍼클래스의 Method를 호출할 경우 슈퍼클래스에서 동작한다.\n",
    "```python\n",
    "class SUBCLASSNAME(SUPERCLASSNAME):\n",
    "    def __init__(self, SUPERCLASS_PARAMETERS, SUBCLASS_PARAMETERS):\n",
    "        super().__init__(SUPERCLASS_PARAMETERS)\n",
    "        self.SUBCLASS_PARAMETER1 = SUBCLASS_PARAMETER1\n",
    "        self.SUBCLASS_PARAMETER2 = SUBCLASS_PARAMETER2\n",
    "                      ...\n",
    "```\n",
    "$\\bullet$ 슈퍼클래스의 Method를 Overwriting하여 수정할 수 있다.<br>\n",
    "$~~$ 이로써 같은 슈퍼클래스에서 파생된 서브클래스 간 동일한 메소드명으로 각 클래스 특성에 부합하는 동작을 할 수 있게 다형성을 갖춘다.\n",
    "```python\n",
    "class SUBCLASSNAME(SUPERCLASSNAME):\n",
    "    def __init__(self, ...):\n",
    "           ...\n",
    "        \n",
    "    def METHOD(self):\n",
    "        OVERWRITING\n",
    "```\n",
    "$\\bullet$ 상속으로 서브클래스에서 상세히 Method를 Overwriting하기에 <br>\n",
    "$~~$ 슈퍼클래스에서 상세히 Method를 작성할 필요가 없고 공용 인터페이스를 제공하는 데에만, 추상화에만 그쳐도 된다. "
   ]
  },
  {
   "cell_type": "code",
   "execution_count": 26,
   "id": "3450e89a",
   "metadata": {},
   "outputs": [],
   "source": [
    "# 추상화한 미구현 Method를 아래와 같이 작성할 경우 \n",
    "# 협업 시 관리가 어렵고 pass로 결과가 없기에 상속과정에서 미구현 Method임을 파악하기 어렵다.\n",
    "def Unembodiment(self):\n",
    "    pass"
   ]
  },
  {
   "cell_type": "code",
   "execution_count": 27,
   "id": "3285ec88",
   "metadata": {},
   "outputs": [
    {
     "ename": "TypeError",
     "evalue": "Can't instantiate abstract class ExampleAbstract with abstract method Unembodiment",
     "output_type": "error",
     "traceback": [
      "\u001b[1;31m---------------------------------------------------------------------------\u001b[0m",
      "\u001b[1;31mTypeError\u001b[0m                                 Traceback (most recent call last)",
      "\u001b[1;32m~\\AppData\\Local\\Temp/ipykernel_1732/1511203919.py\u001b[0m in \u001b[0;36m<module>\u001b[1;34m\u001b[0m\n\u001b[0;32m     16\u001b[0m         \u001b[1;32mreturn\u001b[0m \u001b[0mself\u001b[0m\u001b[1;33m.\u001b[0m\u001b[0mA\u001b[0m\u001b[1;33m+\u001b[0m\u001b[0mother\u001b[0m\u001b[1;33m.\u001b[0m\u001b[0mA\u001b[0m\u001b[1;33m,\u001b[0m \u001b[0mself\u001b[0m\u001b[1;33m.\u001b[0m\u001b[0mB\u001b[0m\u001b[1;33m+\u001b[0m\u001b[0mother\u001b[0m\u001b[1;33m.\u001b[0m\u001b[0mB\u001b[0m\u001b[1;33m\u001b[0m\u001b[1;33m\u001b[0m\u001b[0m\n\u001b[0;32m     17\u001b[0m \u001b[1;33m\u001b[0m\u001b[0m\n\u001b[1;32m---> 18\u001b[1;33m \u001b[0mex\u001b[0m \u001b[1;33m=\u001b[0m \u001b[0mExampleAbstract\u001b[0m\u001b[1;33m(\u001b[0m\u001b[1;36m3\u001b[0m\u001b[1;33m,\u001b[0m \u001b[1;36m5\u001b[0m\u001b[1;33m)\u001b[0m\u001b[1;33m\u001b[0m\u001b[1;33m\u001b[0m\u001b[0m\n\u001b[0m",
      "\u001b[1;31mTypeError\u001b[0m: Can't instantiate abstract class ExampleAbstract with abstract method Unembodiment"
     ]
    }
   ],
   "source": [
    "# 추상화는 abc 모듈로 하길 권장한다.\n",
    "# abc 모듈의 ABC 클래스를 상속받고 추상화하려는 Method를 @abstractmethod로 알린다.\n",
    "# 이로써 추상화 Method가 있어 객체 생성이 불가하게 할 수 있다.\n",
    "from abc import ABC, abstractmethod\n",
    "\n",
    "class ExampleAbstract(ABC):\n",
    "    def __init__(self, A, B):\n",
    "        self.A = A\n",
    "        self.B = B\n",
    "        \n",
    "    @abstractmethod\n",
    "    def Unembodiment(self):\n",
    "        print('추상화 예시이다.')\n",
    "        \n",
    "    def __add__(self, other):\n",
    "        return self.A+other.A, self.B+other.B\n",
    "\n",
    "ex = ExampleAbstract(3, 5)"
   ]
  },
  {
   "cell_type": "code",
   "execution_count": 28,
   "id": "37158a0d",
   "metadata": {},
   "outputs": [
    {
     "ename": "TypeError",
     "evalue": "Can't instantiate abstract class ExampleSubAbstract with abstract method Unembodiment",
     "output_type": "error",
     "traceback": [
      "\u001b[1;31m---------------------------------------------------------------------------\u001b[0m",
      "\u001b[1;31mTypeError\u001b[0m                                 Traceback (most recent call last)",
      "\u001b[1;32m~\\AppData\\Local\\Temp/ipykernel_1732/3997750275.py\u001b[0m in \u001b[0;36m<module>\u001b[1;34m\u001b[0m\n\u001b[0;32m      4\u001b[0m         \u001b[0msuper\u001b[0m\u001b[1;33m(\u001b[0m\u001b[1;33m)\u001b[0m\u001b[1;33m.\u001b[0m\u001b[0m__init__\u001b[0m\u001b[1;33m(\u001b[0m\u001b[0mA\u001b[0m\u001b[1;33m,\u001b[0m \u001b[0mB\u001b[0m\u001b[1;33m)\u001b[0m\u001b[1;33m\u001b[0m\u001b[1;33m\u001b[0m\u001b[0m\n\u001b[0;32m      5\u001b[0m \u001b[1;33m\u001b[0m\u001b[0m\n\u001b[1;32m----> 6\u001b[1;33m \u001b[0mex_sub\u001b[0m \u001b[1;33m=\u001b[0m \u001b[0mExampleSubAbstract\u001b[0m\u001b[1;33m(\u001b[0m\u001b[1;36m3\u001b[0m\u001b[1;33m,\u001b[0m \u001b[1;36m6\u001b[0m\u001b[1;33m)\u001b[0m\u001b[1;33m\u001b[0m\u001b[1;33m\u001b[0m\u001b[0m\n\u001b[0m",
      "\u001b[1;31mTypeError\u001b[0m: Can't instantiate abstract class ExampleSubAbstract with abstract method Unembodiment"
     ]
    }
   ],
   "source": [
    "# 또한 추상화한 슈퍼클래스를 상속받은 서브클래스에서 추상화 Method를 재정의하지 않으면 서브클래스도 객체를 생성할 수 없다.\n",
    "class ExampleSubAbstract(ExampleAbstract):\n",
    "    def __init__(self, A, B):\n",
    "        super().__init__(A, B)\n",
    "\n",
    "ex_sub = ExampleSubAbstract(3, 6)"
   ]
  },
  {
   "cell_type": "code",
   "execution_count": 29,
   "id": "dccac692",
   "metadata": {},
   "outputs": [
    {
     "name": "stdout",
     "output_type": "stream",
     "text": [
      "Overwriting\n",
      "(4, 14)\n"
     ]
    }
   ],
   "source": [
    "# 슈퍼클래스를 상속받은 서브클래스에서 추상화 Method를 재정의하면 비로소 객체를 생성할 수 있고 \n",
    "# 슈퍼클래스의 Attribute, Method를 사용할 수 있다. \n",
    "class ExampleSubAbstract(ExampleAbstract):\n",
    "    def __init__(self, A, B):\n",
    "        super().__init__(A, B)\n",
    "        \n",
    "    def Unembodiment(self):\n",
    "        return 'Overwriting'\n",
    "\n",
    "ex_sub1 = ExampleSubAbstract(3, 6)\n",
    "ex_sub2 = ExampleSubAbstract(1, 8)\n",
    "print(ex_sub1.Unembodiment())\n",
    "print(ex_sub1 + ex_sub2)"
   ]
  },
  {
   "cell_type": "markdown",
   "id": "ec1b28a7",
   "metadata": {},
   "source": [
    "### 모듈\n",
    "재사용, 유지관리 측면에서 변수, 함수, 클래스 등은 모듈(py)로 저장하고 필요할 때마다 불러오는 것이 좋다.\n",
    "- 모듈 작성\n",
    "\n",
    "```python\n",
    "%%writefile Magic Command로 FILENAME.py 모듈에 STATEMENTS를 작성한다. \n",
    "'이때 Magic Command 앞에 코드, 주석을 달 경우 동작하지 않는다.'\n",
    "\n",
    "%%writefile FILENAME.py\n",
    "STATEMENTS\n",
    "\n",
    "append 모드로 Magic command를 불러 기존 파일에 STATEMENTS를 추가할 수 있다.\n",
    "\n",
    "%%writefile -a FILENAME.py\n",
    "STATEMENTS\n",
    "```\n",
    "$~~~~$ [Magic Command] https://binaryworld.tistory.com/20\n",
    "\n",
    "- 모듈 불러오기\n",
    "\n",
    "```python\n",
    "o import MODULE\n",
    "  MODULE.py의 전체를 불러오는 방법으로 MODULE 내 함수를 부를 때 MODULE.FUNCTION()과 같이 불러야 한다.\n",
    "  함수명 앞에 MODULE이 붙어 내장함수, 기존 변수와 충돌하지 않으나 메모리 상 효율적이지 않고 모듈명, 함수명이 길 때 불편하다.\n",
    "\n",
    "o import MODULE as ALIES\n",
    "  MODULE.py의 전체를 별칭(ALIES)으로 부르는 방법으로 MODULE 내 함수를 부를 때 ALIES.FUNCTION()과 같이 불러야 한다.\n",
    "  함수명 앞에 ALIES가 붙어 내장함수, 기존 변수와 충돌하지 않으며 모듈명을 짧게 해 import MODULE 방법의 단점을 보완한다.\n",
    "  그러나 여전히 메모리 상 효율적이지 못하고 함수명이 긴 경우는 보완하지 못한다.\n",
    "    \n",
    "o from MODULE import *\n",
    "  MODULE.py의 전체를 부르는 방법이나  MODULE 내 함수를 부를 때 FUNCTION()으로 불러올 수 있다.\n",
    "  앞의 두 방법과 달리 함수명만 불러도 되어 간편하나 모듈 전체를 불러 메모리 상 효율적이지 못하고 충돌 위험이 있다.\n",
    "\n",
    "o from MODULE import FUNCTION\n",
    "  MODULE.py의 특정 FUNCTION만 부르는 방법으로 함수를 함수명, FUNCTION()으로만 부르면 된다.\n",
    "  사용할 함수만 불러 메모리 상 효율적이나 충돌 위험이 있다.\n",
    "```\n",
    "\n",
    "**※ 패키지, 라이브러리**<br>\n",
    "$~~~$ Module을 모아 저장한 것을 패키지, Package를 모아 저장한 것이 라이브러리이다.<br>\n",
    "$~~~$ 위에서 모듈을 작성, 추가, 정리한 것처럼 패키지, 라이브러리를 구성할 수 있으며 불러올 수 있다.\n",
    "```python\n",
    "라이브러리를 부를 경우 위의 'MODULE' 위치에 LIBRARY, 패키지를 부를 경우 PACKAGE 또는 LIBRARY.PACKAGE\n",
    "모듈을 부를 경우 LIBRARY.PACKAGE.MODULE, PACKAGE.MODULE과 같이 부르면 된다.\n",
    "```"
   ]
  },
  {
   "cell_type": "code",
   "execution_count": 30,
   "id": "5adc2880",
   "metadata": {},
   "outputs": [
    {
     "name": "stdout",
     "output_type": "stream",
     "text": [
      " C 드라이브의 볼륨에는 이름이 없습니다.\n",
      " 볼륨 일련 번호: 3C38-4092\n",
      "\n",
      " C:\\Users\\ha\\GitHub\\1. Python 디렉터리\n",
      "\n",
      "2024-01-04  오후 10:22    <DIR>          .\n",
      "2024-01-04  오후 10:22    <DIR>          ..\n",
      "2024-01-04  오후 10:16    <DIR>          .ipynb_checkpoints\n",
      "2024-01-04  오후 10:07    <DIR>          0. PersonalFiles\n",
      "2024-01-04  오후 09:29            10,714 1. Data type & Data collection.ipynb\n",
      "2024-01-04  오후 09:31            27,463 2. Function & Method.ipynb\n",
      "2024-01-04  오후 10:11         3,317,114 2020.08. 여름방학_스터디.zip\n",
      "2024-01-04  오후 09:35             9,629 3. Condition & Loop.ipynb\n",
      "2024-01-04  오후 10:22            50,575 4. Object-Oriented Programming.ipynb\n",
      "2024-01-04  오후 10:22    <DIR>          example\n",
      "2024-01-04  오후 10:14             8,691 example.zip\n",
      "               6개 파일           3,424,186 바이트\n",
      "               5개 디렉터리  395,812,089,856 바이트 남음\n"
     ]
    }
   ],
   "source": [
    "# Python 내 유용한 Magic command는 아래와 같다.\n",
    "# 1. 사용할 수 있는 Magic command 출력\n",
    "%lsmagic\n",
    "\n",
    "# 2. 컴퓨터 내 모든 모듈 출력\n",
    "%ls "
   ]
  },
  {
   "cell_type": "code",
   "execution_count": 31,
   "id": "d1be4a4a",
   "metadata": {},
   "outputs": [
    {
     "name": "stdout",
     "output_type": "stream",
     "text": [
      "C:\\Users\\ha\n",
      "C:\\Users\\ha\\GitHub\n",
      "C:\\Users\\ha\\GitHub\\1. Python\n"
     ]
    },
    {
     "name": "stderr",
     "output_type": "stream",
     "text": [
      "하위 디렉터리 또는 파일 example이(가) 이미 있습니다.\n"
     ]
    }
   ],
   "source": [
    "# 3. change directory\n",
    "# 현재 디렉토리\n",
    "%cd          \n",
    "\n",
    "# GitHub 폴더로 이동\n",
    "%cd GitHub  \n",
    "\n",
    "# 1.Python 폴더로 이동\n",
    "%cd 1. Python  \n",
    "\n",
    "# 이전 폴더로 이동\n",
    "# %cd ..\n",
    "\n",
    "# 4. 절대경로 출력\n",
    "%pwd\n",
    "\n",
    "# 5. example 폴더 생성\n",
    "%mkdir example "
   ]
  },
  {
   "cell_type": "code",
   "execution_count": null,
   "id": "a35b17a8",
   "metadata": {},
   "outputs": [],
   "source": [
    "# 6. 현 디렉토리, 절대경로에 모듈 작성"
   ]
  },
  {
   "cell_type": "code",
   "execution_count": 32,
   "id": "3916e7bd",
   "metadata": {},
   "outputs": [
    {
     "name": "stdout",
     "output_type": "stream",
     "text": [
      "C:\\Users\\ha\\GitHub\\1. Python\\example\n"
     ]
    }
   ],
   "source": [
    "# 작성할 폴더로 이동\n",
    "%cd example"
   ]
  },
  {
   "cell_type": "code",
   "execution_count": 33,
   "id": "9a6dd4f2",
   "metadata": {},
   "outputs": [
    {
     "name": "stdout",
     "output_type": "stream",
     "text": [
      "Writing mymath.py\n"
     ]
    }
   ],
   "source": [
    "%%writefile mymath.py  \n",
    "def add(a, b):\n",
    "    return a + b\n",
    "def sub(a, b):\n",
    "    return a - b"
   ]
  },
  {
   "cell_type": "code",
   "execution_count": null,
   "id": "5d93e216",
   "metadata": {},
   "outputs": [],
   "source": [
    "# 7. 모듈 내 함수 출력"
   ]
  },
  {
   "cell_type": "code",
   "execution_count": null,
   "id": "e0db9ba7",
   "metadata": {},
   "outputs": [],
   "source": [
    "%load mymath.py"
   ]
  },
  {
   "cell_type": "code",
   "execution_count": null,
   "id": "4c0b40c4",
   "metadata": {},
   "outputs": [],
   "source": [
    "# %load mymath.py\n",
    "def add(a, b):\n",
    "    return a + b\n",
    "def sub(a, b):\n",
    "    return a - b\n"
   ]
  },
  {
   "cell_type": "code",
   "execution_count": null,
   "id": "83e4ac3e",
   "metadata": {},
   "outputs": [],
   "source": [
    "# 8. 모듈에 추가(append Mode) 작성"
   ]
  },
  {
   "cell_type": "code",
   "execution_count": 35,
   "id": "164e9d6c",
   "metadata": {},
   "outputs": [
    {
     "name": "stdout",
     "output_type": "stream",
     "text": [
      "Appending to mymath.py\n"
     ]
    }
   ],
   "source": [
    "%%writefile -a mymath.py \n",
    "def mul(a, b):\n",
    "    return a * b"
   ]
  },
  {
   "cell_type": "code",
   "execution_count": null,
   "id": "baae49af",
   "metadata": {},
   "outputs": [],
   "source": [
    "%load mymath.py"
   ]
  },
  {
   "cell_type": "code",
   "execution_count": null,
   "id": "647fa5b1",
   "metadata": {},
   "outputs": [],
   "source": [
    "# %load mymath.py\n",
    "def add(a, b):\n",
    "    return a + b\n",
    "def sub(a, b):\n",
    "    return a - b\n",
    "def mul(a, b):\n",
    "    return a * b\n"
   ]
  },
  {
   "cell_type": "code",
   "execution_count": 37,
   "id": "2f776754",
   "metadata": {},
   "outputs": [
    {
     "name": "stdout",
     "output_type": "stream",
     "text": [
      "반지름이 4인 원 넓이: 50.26548245743669\n",
      "원점과 점 (3,4) 사이 거리: 5.0\n"
     ]
    }
   ],
   "source": [
    "# from MODULE import FUNCTION1, FUNCTION2, ...로 복수의 함수를 동시에 부를 수 있다.\n",
    "from math import sqrt, pi\n",
    "\n",
    "def circle(R):\n",
    "    return R**2*pi\n",
    "\n",
    "def distance(x,y):\n",
    "    return sqrt((x-0)**2+(y-0)**2)\n",
    "\n",
    "print('반지름이 4인 원 넓이:', circle(4))\n",
    "print('원점과 점 (3,4) 사이 거리:', distance(3,4))"
   ]
  },
  {
   "cell_type": "code",
   "execution_count": 38,
   "id": "408ee015",
   "metadata": {},
   "outputs": [],
   "source": [
    "# 패키지의 모듈, 라이브러리의 패키지, 모듈을 불러오는 방법도 동일하다.\n",
    "# 예시1) scipy 패키지의 stats 모듈 불러오기\n",
    "from scipy import stats \n",
    "\n",
    "# 예시2) scipy 패키지의 stats 모듈에서 binom 함수 불러오기\n",
    "from scipy.stats import binom"
   ]
  },
  {
   "cell_type": "code",
   "execution_count": null,
   "id": "982c90d3",
   "metadata": {},
   "outputs": [],
   "source": []
  }
 ],
 "metadata": {
  "kernelspec": {
   "display_name": "Python 3 (ipykernel)",
   "language": "python",
   "name": "python3"
  },
  "language_info": {
   "codemirror_mode": {
    "name": "ipython",
    "version": 3
   },
   "file_extension": ".py",
   "mimetype": "text/x-python",
   "name": "python",
   "nbconvert_exporter": "python",
   "pygments_lexer": "ipython3",
   "version": "3.9.7"
  }
 },
 "nbformat": 4,
 "nbformat_minor": 5
}
