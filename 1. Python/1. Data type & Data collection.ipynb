{
 "cells": [
  {
   "cell_type": "markdown",
   "metadata": {},
   "source": [
    "### 변수(Variable)\n",
    "데이터를 저장하기 위한 메모리 공간이다."
   ]
  },
  {
   "cell_type": "code",
   "execution_count": null,
   "metadata": {},
   "outputs": [],
   "source": [
    "# 알파벳, 숫자, _, 한글로 선언할 수 있다. 단, 숫자로는 시작할 수 없다."
   ]
  },
  {
   "cell_type": "code",
   "execution_count": 1,
   "metadata": {
    "scrolled": false
   },
   "outputs": [
    {
     "name": "stdout",
     "output_type": "stream",
     "text": [
      "123\n",
      "<class 'str'>\n",
      "123 369 12.56\n"
     ]
    }
   ],
   "source": [
    "# 여러 개를 동시에 지정할 수 있다.\n",
    "a, b, c = 123, '369', 12.56\n",
    "print(a)\n",
    "print(type(b)) # 변수 자료형 출력\n",
    "print(a, b, c) # 여러 개 동시 출력"
   ]
  },
  {
   "cell_type": "code",
   "execution_count": 2,
   "metadata": {},
   "outputs": [],
   "source": [
    "# 빈 변수는 None으로 선언가능하다. 필요에 따라 0, 1, ''의 값을 대신 사용한다.\n",
    "a = None"
   ]
  },
  {
   "cell_type": "code",
   "execution_count": 3,
   "metadata": {},
   "outputs": [],
   "source": [
    "# 불필요한 데이터를 동시에 변수로 선언할 때 _를 사용한다.\n",
    "a, b, _, _ = 123, 45.6, \"y\", False"
   ]
  },
  {
   "cell_type": "code",
   "execution_count": 4,
   "metadata": {
    "scrolled": false
   },
   "outputs": [
    {
     "ename": "NameError",
     "evalue": "name 'a' is not defined",
     "output_type": "error",
     "traceback": [
      "\u001b[1;31m---------------------------------------------------------------------------\u001b[0m",
      "\u001b[1;31mNameError\u001b[0m                                 Traceback (most recent call last)",
      "\u001b[1;32m~\\AppData\\Local\\Temp/ipykernel_9308/574875153.py\u001b[0m in \u001b[0;36m<module>\u001b[1;34m\u001b[0m\n\u001b[0;32m      1\u001b[0m \u001b[1;31m# del을 사용하면 변수가 정의되지 않게 삭제된다.\u001b[0m\u001b[1;33m\u001b[0m\u001b[1;33m\u001b[0m\u001b[0m\n\u001b[0;32m      2\u001b[0m \u001b[1;32mdel\u001b[0m \u001b[0ma\u001b[0m\u001b[1;33m\u001b[0m\u001b[1;33m\u001b[0m\u001b[0m\n\u001b[1;32m----> 3\u001b[1;33m \u001b[0mprint\u001b[0m\u001b[1;33m(\u001b[0m\u001b[0ma\u001b[0m\u001b[1;33m)\u001b[0m\u001b[1;33m\u001b[0m\u001b[1;33m\u001b[0m\u001b[0m\n\u001b[0m",
      "\u001b[1;31mNameError\u001b[0m: name 'a' is not defined"
     ]
    }
   ],
   "source": [
    "# del을 사용하면 변수가 정의되지 않게 삭제된다.\n",
    "del a  \n",
    "print(a)"
   ]
  },
  {
   "cell_type": "markdown",
   "metadata": {},
   "source": [
    "### 자료형(Data Type)\n",
    "데이터의 형태, 종류이다.\n",
    "- Numeric(정수형, 실수형)\n",
    "- String\n",
    "  - 순서가 존재해 indexing & slicing이 가능하다. 또한 반복가능한 성질을 갖는다.\n",
    "  - 문자 집합으로 데이터 집합인 자료구조와 유사한 특징을 갖는다.\n",
    "- Boolean\n",
    "  - 0만이 False, 이외의 숫자는 True로 변환된다.\n",
    "  \n",
    "### 자료구조(Data Collection)\n",
    "여러 개의 데이터를 효과적으로 관리하도록 저장하는 구조이다.\n",
    "- List\n",
    "  - 순서가 존재해 indexing&slicing이 가능하다. 또한 반복가능한 성질을 갖는다.\n",
    "  - **가변(mutable)**적이라 원본에 함수, Method 적용 결과가 반영된다. \n",
    "- Set\n",
    "  - 순서가 없어 indexing&slicing이 불가능하다. 또한 반복가능한 성질을 갖는다.\n",
    "  - 중복을 허용하지 않으며 순서를 유지하지 않고 저장한다.\n",
    "- Dictionary\n",
    "  - 순서가 없어 indexing&slicing이 불가능하다. 또한 반복가능한 성질을 갖는다.\n",
    "  - key로 숫자, 문자열, 튜플 등 불변(immutable)인 값만 넣을 수 있다. 리스트는 key로는 넣을 수 없다.\n",
    "  - 데이터의 수정, 삭제가 item단위로 이루어져 key를 중복해 사용하여 기존의 value가 손실, 변경되지 않게 주의해야 한다.\n",
    "- Tuple\n",
    "  - 순서가 존재해 indexing&slicing이 가능하다. 또한 반복가능한 성질을 갖는다.\n",
    "  - 요소값을 수정, 삭제할 수 없어 보안을 위해 사용한다."
   ]
  },
  {
   "cell_type": "code",
   "execution_count": 5,
   "metadata": {},
   "outputs": [
    {
     "name": "stdout",
     "output_type": "stream",
     "text": [
      "숫자형 리스트: [1, 8, 192]\n",
      "복합형 리스트: [1, 9, 194, '문자', True]\n",
      "문자형 리스트: ['문', '자', '열', '시', '추', '천']\n"
     ]
    }
   ],
   "source": [
    "# 문자열로만 구성되며 각 문자가 리스트의 요소로 선언되어야 한다면 list(문자열)을 추천한다.\n",
    "lst_num = [1,8,192]               # list([1,8,192])\n",
    "print('숫자형 리스트:', lst_num)\n",
    "lst_etc = [1,9,194,'문자',True]  # list([1,9,194,'문자',True])\n",
    "print('복합형 리스트:', lst_etc)\n",
    "\n",
    "lst_str = list('문자열시추천')\n",
    "print('문자형 리스트:', lst_str)  # ['문','자','열','시','추','천']"
   ]
  },
  {
   "cell_type": "code",
   "execution_count": 6,
   "metadata": {},
   "outputs": [
    {
     "name": "stdout",
     "output_type": "stream",
     "text": [
      "자료형 변환(default): ['a', 'b']\n",
      "value 변환(default): [[1, 2, 3], [3, 4, 5]]\n"
     ]
    }
   ],
   "source": [
    "# dictionary를 다른 자료형으로 변환할 때 key에만 적용된다. \n",
    "# dictionary의 value를 담은 자료형을 만들고 싶다면 DICT.values()를 사용해야 한다.\n",
    "dic = dict({'a':[1,2,3],'b':[3,4,5]})\n",
    "print('자료형 변환(default):', list(dic))\n",
    "print('value 변환(default):', list(dic.values()))"
   ]
  },
  {
   "cell_type": "code",
   "execution_count": 7,
   "metadata": {
    "scrolled": true
   },
   "outputs": [
    {
     "name": "stdout",
     "output_type": "stream",
     "text": [
      "<class 'tuple'>\n"
     ]
    }
   ],
   "source": [
    "# 한 개의 요소를 갖는 tuple은 아래와 같이 선언한다.\n",
    "tup = (1,)\n",
    "print(type(tup))"
   ]
  },
  {
   "cell_type": "code",
   "execution_count": 8,
   "metadata": {},
   "outputs": [
    {
     "name": "stdout",
     "output_type": "stream",
     "text": [
      "수정 전: (1, 40, 23, 182, 983)\n",
      "수정 후: (1, 40, 23, 7, 983)\n"
     ]
    }
   ],
   "source": [
    "# 수정, 삭제를 고려하지 않는 tuple을 굳이 수정, 삭제하고자 하면 아래의 방법이 있다.\n",
    "# list로 변환하여 특정 값을 수정, 삭제한 뒤 다시 tuple로 변환하는 방법도 있다.\n",
    "tup = (1,40,23,182,983)  # tuple([1,40,23,182,983])\n",
    "print('수정 전:', tup)\n",
    "\n",
    "tup = tup[:3]+(7,)+tup[-1:]\n",
    "print('수정 후:', tup)"
   ]
  },
  {
   "cell_type": "markdown",
   "metadata": {},
   "source": [
    "### indexing & slicing\n",
    "순서가 있는 자료형, 자료구조에 적용하여 순서를 기준으로 index를 사용해 필요한 데이터만을 추출할 수 있다.\n",
    "```python\n",
    "# index는 데이터 위치를 나타내는 숫자로 순서대로 0부터 1씩 커지는 정수를, 역순으로 -1부터 1씩 작아지는 정수를 부여한다.\n",
    "VAR[INDEX]             COLLECTION|STR인 VAR 내 index가 INDEX인 데이터를 반환한다.\n",
    "VAR[START:STOP:STEP]   COLLECTION|STR인 VAR 내 index가 START부터 STEP 간격을 갖는 STOP-1까지인 데이터들만 반환한다.\n",
    "```"
   ]
  },
  {
   "cell_type": "code",
   "execution_count": 9,
   "metadata": {},
   "outputs": [
    {
     "name": "stdout",
     "output_type": "stream",
     "text": [
      "STEP 양수: [1, 6, 3]\n",
      "STEP 음수: [10, 9]\n"
     ]
    }
   ],
   "source": [
    "# STEP이 양수이면 START default 그대로 0이나 음수로 지정 시 START는 - 1이 된다.\n",
    "ex_1 = list([1,5,6,2,3,8,7,9,4,10])\n",
    "print('STEP 양수:', ex_1[:-5:2])  #    0부터 - 6(STOP-1)까지  2간격을 갖는 데이터\n",
    "print('STEP 음수:', ex_1[:-5:-2]) #  - 1부터 - 4(STOP+1)까지 - 2간격을 갖는 데이터"
   ]
  },
  {
   "cell_type": "code",
   "execution_count": 10,
   "metadata": {},
   "outputs": [
    {
     "name": "stdout",
     "output_type": "stream",
     "text": [
      "출력(양수): (5, 9, 8) | 미출력(양수): ()\n",
      "출력(음수): (5, 9, 8) | 미출력(음수): ()\n",
      "출력(동시): (5, 9, 8)\n",
      "출력(동시): (5, 9, 8)\n"
     ]
    }
   ],
   "source": [
    "# START, STOP 모두 양수로만, 음수로만 할 경우에는 반드시 STOP이 START보다 커야 한다.\n",
    "ex_2 = tuple([1,3,5,9,8,4,2,6])\n",
    "print('출력(양수):', ex_2[2:5], end=' | ') ; print('미출력(양수):', ex_2[5:2])\n",
    "print('출력(음수):', ex_2[-6:-3], end=' | ') ; print('미출력(음수):', ex_2[-3:-6])\n",
    "print('출력(동시):', ex_2[2:-3])\n",
    "print('출력(동시):', ex_2[-6:5])"
   ]
  },
  {
   "cell_type": "code",
   "execution_count": 11,
   "metadata": {},
   "outputs": [
    {
     "name": "stdout",
     "output_type": "stream",
     "text": [
      "특정 위치 기준 slicing: naver\n"
     ]
    }
   ],
   "source": [
    "# index를 선언할 때 연산으로 지정되도록 할 수 있다.\n",
    "ex_3 = 'XXXXX@naver.com'\n",
    "n = ex_3.index('@')\n",
    "print(\"특정 위치 기준 slicing:\", ex_3[n+1:n+6])"
   ]
  },
  {
   "cell_type": "code",
   "execution_count": 12,
   "metadata": {
    "scrolled": true
   },
   "outputs": [
    {
     "name": "stdout",
     "output_type": "stream",
     "text": [
      "인도인토마토기러기\n"
     ]
    }
   ],
   "source": [
    "# STEP을 -1로 지정하면 회문 판별을 쉽게 해결할 수 있다.\n",
    "ex_4 = \"기러기토마토인도인\"\n",
    "print(ex_4[::-1])"
   ]
  },
  {
   "cell_type": "code",
   "execution_count": null,
   "metadata": {},
   "outputs": [],
   "source": []
  }
 ],
 "metadata": {
  "kernelspec": {
   "display_name": "Python 3 (ipykernel)",
   "language": "python",
   "name": "python3"
  },
  "language_info": {
   "codemirror_mode": {
    "name": "ipython",
    "version": 3
   },
   "file_extension": ".py",
   "mimetype": "text/x-python",
   "name": "python",
   "nbconvert_exporter": "python",
   "pygments_lexer": "ipython3",
   "version": "3.9.7"
  }
 },
 "nbformat": 4,
 "nbformat_minor": 4
}
