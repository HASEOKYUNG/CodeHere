{
 "cells": [
  {
   "cell_type": "markdown",
   "id": "b9be2e6f",
   "metadata": {},
   "source": [
    "## Import"
   ]
  },
  {
   "cell_type": "code",
   "execution_count": 1,
   "id": "1087a7db",
   "metadata": {},
   "outputs": [],
   "source": [
    "import numpy as np\n",
    "np.random.seed(2024)\n",
    "from scipy import stats\n",
    "import matplotlib.pyplot as plt"
   ]
  },
  {
   "cell_type": "markdown",
   "id": "798a0771",
   "metadata": {},
   "source": [
    "## Read data"
   ]
  },
  {
   "cell_type": "code",
   "execution_count": 2,
   "id": "b5ae4d00",
   "metadata": {},
   "outputs": [],
   "source": [
    "# 정규성 검정의 예제 데이터를 생성한다.\n",
    "norm = np.random.normal(scale=3, size=25)\n",
    "non_norm = np.random.exponential(scale=1.5, size=10000)"
   ]
  },
  {
   "cell_type": "code",
   "execution_count": 3,
   "id": "d5881aa6",
   "metadata": {
    "scrolled": false
   },
   "outputs": [
    {
     "data": {
      "image/png": "[encoded data removed]",
      "text/plain": [
       "<Figure size 360x720 with 2 Axes>"
      ]
     },
     "metadata": {
      "needs_background": "light"
     },
     "output_type": "display_data"
    }
   ],
   "source": [
    "# 정규분포에서 추출되었으나 치우친 norm, 정규분포가 아닌 지수분포에서 추출한 non_norm의 분포를 확인한다.\n",
    "fig, ax = plt.subplots(2, 1, figsize=(5,10))\n",
    "ax[0].hist(norm)\n",
    "ax[0].set_title(\"Sample from a Normal distribution\")\n",
    "ax[1].hist(non_norm)\n",
    "ax[1].set_title(\"Sample from a Exponential distribution\")\n",
    "plt.show()"
   ]
  },
  {
   "cell_type": "markdown",
   "id": "3759cd6c",
   "metadata": {},
   "source": [
    "## 정규성 검정\n",
    "$$H_0: \\text{데이터는 정규분포를 따른다.}$$\n",
    "$$H_1: \\text{데이터는 정규분포를 따르지 않는다.}$$\n",
    "- $p-value$가 $\\alpha$보다 커야 유의수준 하에서 `귀무가설`(정규성)을 만족한다고 판단한다.\n",
    "- T-test, ANOVA, LinearRegression, CorrelationAnalysis, Chi-square test의 가정 검정이다.\n",
    "- 표본 크기가 30 이상이면 중심극한정리에 근거하여 정규성을 만족한다고 판단한다.\n",
    "- 정규성을 정확히 확인하기 위해선 Shapiro-Wilk Test, Kolmogorov-Smirnov Test를 해보거나 Q-Q plot을 그려보기도 한다."
   ]
  },
  {
   "cell_type": "markdown",
   "id": "b8e0651d",
   "metadata": {},
   "source": [
    "#### Shapiro-Wilk Test\n",
    "- 가장 일반적인 정규성 검정으로 데이터 크기가 작을 때 사용하기 좋다."
   ]
  },
  {
   "cell_type": "code",
   "execution_count": 4,
   "id": "ad95345f",
   "metadata": {},
   "outputs": [
    {
     "name": "stdout",
     "output_type": "stream",
     "text": [
      "norm: 유의수준 0.05하에 정규성을 만족합니다.\n"
     ]
    }
   ],
   "source": [
    "# histogram에선 정규성을 확인할 수 없었으나 정규분포에서 추출되어 정규성을 띔을 판별한다.\n",
    "alpha = 0.05\n",
    "_, p_value = stats.shapiro(norm)\n",
    "\n",
    "print(f'norm: 유의수준 {alpha}하에', '정규성을 만족합니다.' if p_value > alpha else '정규성을 만족하지 않습니다.')"
   ]
  },
  {
   "cell_type": "code",
   "execution_count": 5,
   "id": "ca690f1c",
   "metadata": {},
   "outputs": [
    {
     "name": "stdout",
     "output_type": "stream",
     "text": [
      "non_norm: 유의수준 0.05하에 정규성을 만족하지 않습니다.\n"
     ]
    },
    {
     "name": "stderr",
     "output_type": "stream",
     "text": [
      "C:\\Users\\ha\\Anaconda3\\lib\\site-packages\\scipy\\stats\\morestats.py:1760: UserWarning: p-value may not be accurate for N > 5000.\n",
      "  warnings.warn(\"p-value may not be accurate for N > 5000.\")\n"
     ]
    }
   ],
   "source": [
    "# 데이터 크기가 5000개 초과일 경우 정확하지 않다며 5000개 미만일 경우에만 사용을 권장한다.\n",
    "alpha = 0.05\n",
    "_, p_value = stats.shapiro(non_norm)\n",
    "\n",
    "print(f'non_norm: 유의수준 {alpha}하에', '정규성을 만족합니다.' if p_value > alpha else '정규성을 만족하지 않습니다.')"
   ]
  },
  {
   "cell_type": "markdown",
   "id": "f0724d00",
   "metadata": {},
   "source": [
    "#### Kolmogorov-Smirnov Test\n",
    "- 두 확률 분포의 차이를 검정하는 비모수적인 방법 중 하나이다.\n",
    "- Shapiro검정처럼 자주 사용되는 정규성 검정으로 큰 데이터셋(5000개 이상)에 적합하다."
   ]
  },
  {
   "cell_type": "code",
   "execution_count": 6,
   "id": "9aa103e3",
   "metadata": {},
   "outputs": [
    {
     "name": "stdout",
     "output_type": "stream",
     "text": [
      "norm: 유의수준 0.05하에 정규성을 만족하지 않습니다.\n"
     ]
    }
   ],
   "source": [
    "# 크기가 작은 데이터에선 정규성 판단이 어렵다.\n",
    "_, p_value = stats.kstest(norm, 'norm')\n",
    "\n",
    "print(f'norm: 유의수준 {alpha}하에', '정규성을 만족합니다.' if p_value > alpha else '정규성을 만족하지 않습니다.')"
   ]
  },
  {
   "cell_type": "code",
   "execution_count": 7,
   "id": "f0a6e4e7",
   "metadata": {
    "scrolled": false
   },
   "outputs": [
    {
     "name": "stdout",
     "output_type": "stream",
     "text": [
      "non_norm: 유의수준 0.05하에 정규성을 만족하지 않습니다.\n"
     ]
    }
   ],
   "source": [
    "_, p_value = stats.kstest(non_norm, 'norm')\n",
    "\n",
    "print(f'non_norm: 유의수준 {alpha}하에', '정규성을 만족합니다.' if p_value > alpha else '정규성을 만족하지 않습니다.')"
   ]
  },
  {
   "cell_type": "markdown",
   "id": "92c488c1",
   "metadata": {},
   "source": [
    "#### Anderson-Darling Test\n",
    "- 큰 데이터셋에 대해 Shapiro-Wilk 검정보다 정확한 정규성 검정이 필요할 때 사용한다.\n",
    "- Kolmogorov-Smirnov에서 확장된 검정이다."
   ]
  },
  {
   "cell_type": "code",
   "execution_count": 8,
   "id": "964fe4fd",
   "metadata": {},
   "outputs": [
    {
     "name": "stdout",
     "output_type": "stream",
     "text": [
      "검정통계량: 457.6674670687971\n",
      "유의수준 하의 임계값: {0.15: 0.576, 0.1: 0.656, 0.05: 0.787, 0.025: 0.918, 0.01: 1.092}\n"
     ]
    }
   ],
   "source": [
    "# Kolmogorov-Smirnov에서 확장된 검정으로 직접 검정통계량과 임계값을 비교해야 한다.\n",
    "result = stats.anderson(non_norm) \n",
    "print('검정통계량:', result.statistic)\n",
    "print('유의수준 하의 임계값:', dict(zip(result.significance_level/100, result.critical_values)))"
   ]
  },
  {
   "cell_type": "code",
   "execution_count": 9,
   "id": "aa6435f3",
   "metadata": {
    "scrolled": true
   },
   "outputs": [
    {
     "name": "stdout",
     "output_type": "stream",
     "text": [
      "non_norm: 유의수준 0.05하에 정규성을 만족하지 않습니다.\n"
     ]
    }
   ],
   "source": [
    "# 유의수준을 0.05로 통일함에 result.critical_values[2]과 검정통계량을 비교한다.\n",
    "print(f'non_norm: 유의수준 {alpha}하에', '정규성을 만족합니다.' if result.statistic < result.critical_values[2] else '정규성을 만족하지 않습니다.')"
   ]
  },
  {
   "cell_type": "markdown",
   "id": "4edad19b",
   "metadata": {},
   "source": [
    "#### Kurtosis Test\n",
    "- 첨도(뾰족한 정도, 3)를 기준으로 정규 분포와 얼마나 일치하는지를 평가한다."
   ]
  },
  {
   "cell_type": "code",
   "execution_count": 10,
   "id": "b1c0040c",
   "metadata": {
    "scrolled": false
   },
   "outputs": [
    {
     "name": "stdout",
     "output_type": "stream",
     "text": [
      "norm: 유의수준 0.05하에 정규성을 만족합니다.\n"
     ]
    }
   ],
   "source": [
    "# 데이터가 작은 경우에도 유용하다.\n",
    "_, p_value = stats.kurtosistest(norm)\n",
    "print(f'norm: 유의수준 {alpha}하에', '정규성을 만족합니다.' if p_value > alpha else '정규성을 만족하지 않습니다.')"
   ]
  },
  {
   "cell_type": "markdown",
   "id": "d9935fc1",
   "metadata": {},
   "source": [
    "#### D’Agostino-Pearson Test & Jarque-Bera Test\n",
    "- 데이터의 왜도(비대칭성)와 첨도를 사용하여 정규성을 확인하는 검정 방법이다.\n",
    "- Jarque-Bera Test보단 D’Agostino-Pearson Test이 더 널리 사용된다."
   ]
  },
  {
   "cell_type": "code",
   "execution_count": 11,
   "id": "71859da9",
   "metadata": {
    "scrolled": true
   },
   "outputs": [
    {
     "name": "stdout",
     "output_type": "stream",
     "text": [
      "두 기법 모두 정규성을 만족한다고 판단합니다.\n"
     ]
    }
   ],
   "source": [
    "# 두 기법 모두 데이터가 작은 경우에도 유용하다.\n",
    "_, DAP_p_value = stats.normaltest(norm)\n",
    "_, JB_p_value = stats.jarque_bera(norm)\n",
    "print('두 기법 모두 정규성을 만족한다고 판단합니다.' if DAP_p_value > alpha and JB_p_value > alpha else '어느 한 기법은 정규성을 만족하지 않는다고 판단합니다.')"
   ]
  },
  {
   "cell_type": "markdown",
   "id": "0d85ca6b",
   "metadata": {},
   "source": [
    "#### Q-Q plot\n",
    "- Histogram보다 정확하게 정규성, 이상치를 확인할 때 사용한다.\n",
    "- 대각선을 따라 일직선 상에 위치하면 정규분포를 따른다고 판단하고<br>\n",
    "  대각선에서 벗어나거나 휘어지는 형태이면 정규분포를 따르지 않는다고 어느 한쪽으로 치우친 형태라고 판단한다."
   ]
  },
  {
   "cell_type": "code",
   "execution_count": 12,
   "id": "62b760ef",
   "metadata": {},
   "outputs": [
    {
     "data": {
      "image/png": "[encoded data removed]",
      "text/plain": [
       "<Figure size 720x360 with 2 Axes>"
      ]
     },
     "metadata": {
      "needs_background": "light"
     },
     "output_type": "display_data"
    }
   ],
   "source": [
    "# 시각적으론 정규성을 정확히 판단하기 어렵다. 분석가마다 주관의 차이도 존재한다.\n",
    "fig, ax = plt.subplots(1, 2, figsize=(10,5), sharey=True)\n",
    "stats.probplot(norm, dist='norm', plot=ax[0])\n",
    "stats.probplot(non_norm, dist='norm', plot=ax[1])\n",
    "ax[0].set_title(\"Normal data\")\n",
    "ax[1].set_title(\"Non-Normal data\")\n",
    "ax[0].set_ylabel('Sample Quantiles')\n",
    "ax[1].set_ylabel('')\n",
    "plt.show()"
   ]
  },
  {
   "cell_type": "code",
   "execution_count": null,
   "id": "9584561c",
   "metadata": {},
   "outputs": [],
   "source": []
  }
 ],
 "metadata": {
  "kernelspec": {
   "display_name": "Python 3 (ipykernel)",
   "language": "python",
   "name": "python3"
  },
  "language_info": {
   "codemirror_mode": {
    "name": "ipython",
    "version": 3
   },
   "file_extension": ".py",
   "mimetype": "text/x-python",
   "name": "python",
   "nbconvert_exporter": "python",
   "pygments_lexer": "ipython3",
   "version": "3.9.12"
  }
 },
 "nbformat": 4,
 "nbformat_minor": 5
}
