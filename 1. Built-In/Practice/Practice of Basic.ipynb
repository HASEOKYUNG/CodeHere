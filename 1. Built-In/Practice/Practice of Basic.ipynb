{
 "cells": [
  {
   "cell_type": "markdown",
   "id": "d21bb1f6",
   "metadata": {},
   "source": [
    "**[Google_Practice, Q1]** 문자열을 입력받아 같은 문자가 연속적으로 반복되는 경우에 그 반복 횟수를 표시해 문자열을 압축하여 표시하시오.\n",
    "\n",
    "    입력 예시: aaabbcccccca\n",
    "    출력 예시: a3b2c6a1"
   ]
  },
  {
   "cell_type": "code",
   "execution_count": null,
   "id": "9e2dbcda",
   "metadata": {},
   "outputs": [],
   "source": []
  },
  {
   "cell_type": "markdown",
   "id": "0d24a809",
   "metadata": {},
   "source": [
    "**[2020_겨울방학_스터디, Q1]** 다음 주어진 리스트를 임의의 4개의 리스트로 분할 한 후 각 리스트의 중복된 원소를 제거한 후 갯수를 구하시오."
   ]
  },
  {
   "cell_type": "code",
   "execution_count": null,
   "id": "49b68ced",
   "metadata": {},
   "outputs": [],
   "source": [
    "import requests\n",
    "url = 'http://cfile221.uf.daum.net/attach/1332E3064975C0E70F1AFF' #오바마 연설문 파일\n",
    "res = requests.get(url)\n",
    "text = res.text\n",
    "words = text.split() "
   ]
  },
  {
   "cell_type": "code",
   "execution_count": null,
   "id": "d11069c4",
   "metadata": {},
   "outputs": [],
   "source": [
    "import numpy as np\n"
   ]
  },
  {
   "cell_type": "markdown",
   "id": "ea4f4958",
   "metadata": {},
   "source": [
    "**[2020_겨울방학_스터디, Q3]** 정수를 입력받아 서로 다른 자릿수에 있는 두 개의 수를 뽑고 더해 만들 수 있는 모든 수를 배열에 오름차순으로 담아 출력하시오.\n",
    "\n",
    "    입력예시1) 21341\n",
    "    출력예시1) [2,3,4,5,6,7]\n",
    "\n",
    "    입력예시2) 5027\n",
    "    출력예시2) [2,5,7,9,12]"
   ]
  },
  {
   "cell_type": "code",
   "execution_count": null,
   "id": "671db9cb",
   "metadata": {},
   "outputs": [],
   "source": []
  },
  {
   "cell_type": "markdown",
   "id": "56747d3a",
   "metadata": {},
   "source": [
    "**[2020_겨울방학_스터디, Q6]** 배열 arr의 각 원소는 숫자 0부터 9까지로 이루어져 있다. 이때, 배열에서 연속적으로 나타나는 숫자는 하나만 남기고 전부 제거하려고 한다. 단, 제거된 후 남은 수들을 반환할 때는 배열의 원소들의 순서를 유지해야 한다. 배열에서 연속적으로 나타나는 숫자는 제거하고 남은 수들을 return 하는 solution 함수를 완성하시오.\n",
    "\n",
    "    입력예시1) [1,1,3,3,0,1,1]   \n",
    "    출력예시1) [1,3,0,1]  \n",
    "\n",
    "    입력예시2) [4,4,4,3,3]   \n",
    "    출력예시2) [4,3]"
   ]
  },
  {
   "cell_type": "code",
   "execution_count": null,
   "id": "ec6b322b",
   "metadata": {},
   "outputs": [],
   "source": [
    "def solution():"
   ]
  },
  {
   "cell_type": "code",
   "execution_count": null,
   "id": "4b433b88",
   "metadata": {},
   "outputs": [],
   "source": []
  },
  {
   "cell_type": "markdown",
   "id": "869b54e5",
   "metadata": {},
   "source": [
    "**[2020_겨울방학_스터디, Q8]** 다음은 정렬(sort)하는 방법 중 하나인, bubble sort에 대한 설명이다. 이를 참조하여 리스트를 입력했을때 버블정렬을 해주는 함수를 만드시오.\n",
    "\n",
    "```\n",
    "1. 정렬할 list를 입력받는다. [2, 1, 3, 2, 5]\n",
    "2. 맨 앞의 두 원소를 서로 비교한다. (2, 1)\n",
    "3-1. 만약 앞의 원소가 뒤의 원소보다 크다면, 두 원소의 위치를 서로 바꾼다. (2, 1) -> (1, 2)\n",
    "3-2. 만약 앞의 원소보다 뒤의 원소가 크다면, 그대로 둔다.\n",
    "4. 한 칸 오른쪽으로 이동한다. (2, 3)\n",
    "5. 3의 과정을 반복한다.\n",
    "6. 정렬이 완료될 때까지 3, 4를 반복 수행한다.\n",
    "```\n",
    "- 이해가 잘 되지 않는다면, (https://www.youtube.com/watch?v=xli_FI7CuzA) 를 참조해보자."
   ]
  },
  {
   "cell_type": "code",
   "execution_count": null,
   "id": "48fc5099",
   "metadata": {},
   "outputs": [],
   "source": [
    "def bubble_sort(lst):"
   ]
  },
  {
   "cell_type": "code",
   "execution_count": null,
   "id": "12d599ab",
   "metadata": {},
   "outputs": [],
   "source": []
  },
  {
   "cell_type": "markdown",
   "id": "ae66a3d6",
   "metadata": {},
   "source": [
    "**[2020_겨울방학_스터디, Q9]** 영어 문장을 입력받고, 입력받은 문장에서 대문자는 소문자로, 소문자는 대문자로 변환하여 출력하시오. (단, upper, lower을 사용하지 말고 구글링을 이용하시오.) \n",
    "\n",
    "    입력예시) I love YOU\n",
    "    출력예시) i LOVE you"
   ]
  },
  {
   "cell_type": "code",
   "execution_count": null,
   "id": "6f601654",
   "metadata": {},
   "outputs": [],
   "source": []
  },
  {
   "cell_type": "markdown",
   "id": "5934b7ed",
   "metadata": {},
   "source": [
    "**[2020_겨울방학_스터디, Q10]** 다음은 딸기당근수박참외메론 게임에 대한 설명입니다. \n",
    "```\n",
    "1. 딸기\n",
    "2. 딸기-당근\n",
    "3. 딸기-당근-수박\n",
    "4. 딸기-당근-수박-참외\n",
    "5. 딸기-당근-수박-참외-메론\n",
    "6. 딸기-당근-수박-참외-메론-딸기\n",
    "7. 딸기-당근-수박-참외-메론-딸기-당근\n",
    "8. 딸기-당근-수박-참외-메론-딸기-당근-수박\n",
    "\n",
    "이후 7 6 5 4 3 2 1순으로 되풀이된다.\n",
    "```\n",
    "1~16 사이의 숫자 n을 입력받고, n번째 사람이 말하는 것을 반복문을 작성하세요.\n",
    " \n",
    "    입력예시) 10\n",
    "    출력예시) 10번째 사람은 딸기-당근-수박-참외-메론-딸기-당근을 말해야지!"
   ]
  },
  {
   "cell_type": "code",
   "execution_count": null,
   "id": "71d25563",
   "metadata": {},
   "outputs": [],
   "source": [
    "game_list = ['딸기','당근','수박','참외','메론']"
   ]
  },
  {
   "cell_type": "code",
   "execution_count": null,
   "id": "2438da96",
   "metadata": {},
   "outputs": [],
   "source": []
  },
  {
   "cell_type": "markdown",
   "id": "8e3b23a2",
   "metadata": {},
   "source": [
    "**[2020_겨울방학_스터디, Q11]** 주어진 input 단어들을 조건에 맞게 리스트에 집어넣으시오. - 8점\n",
    "\n",
    "    조건 : [[ㄱ으로 시작하는 단어],~ ,[ㅎ으로 시작하는 단어]]\n",
    "    \n",
    "    출력예시 : \n",
    "    [['고국', '갖다', '거지', '교양', '경영학'], ['나전칠기'], ['듣다', '다람쥐', '대나무', '도굴', '데르트'], ['레드콤보'],\n",
    "    ['막걸리', '무생체', '마리아'], ['부자', '비상', '비밀', '보유', '빅데이터경영통계'], ['소프트웨어', '실수', '수출품'], \n",
    "    ['우정', '요술'], ['좀벌레', '잘리다'], ['처량', '초최', '척도'], ['카트라이더'], ['통계학'], ['편지'], ['한국']]"
   ]
  },
  {
   "cell_type": "code",
   "execution_count": null,
   "id": "40a96949",
   "metadata": {},
   "outputs": [],
   "source": [
    "inputWord = ['막걸리', '부자', '비상', '비밀', '우정', '처량', '초최', '소프트웨어', '좀벌레', '듣다', '실수','편지',\n",
    "             '수출품', '고국', '다람쥐', '대나무', '도굴', '한국', '요술', '무생체', '보유', '갖다', '거지','카트라이더',\n",
    "             '잘리다', '데르트', '마리아', '교양', '척도', '빅데이터경영통계', '경영학','통계학','나전칠기','레드콤보']"
   ]
  },
  {
   "cell_type": "code",
   "execution_count": null,
   "id": "6f93071b",
   "metadata": {},
   "outputs": [],
   "source": []
  },
  {
   "cell_type": "markdown",
   "id": "83272a71",
   "metadata": {},
   "source": [
    "**[2020_겨울방학_스터디, Q12]** 자연수 n을 입력했을 때 n보다 작거나 같은 소수의 리스트를 반환하는 `is_prime`함수를 작성하시오. - 4점\n",
    "    \n",
    "    입력예시 : is_prime(10)\n",
    "    출력예시 : [2,3,5,7]"
   ]
  },
  {
   "cell_type": "code",
   "execution_count": null,
   "id": "db060315",
   "metadata": {},
   "outputs": [],
   "source": []
  },
  {
   "cell_type": "markdown",
   "id": "c964b0b5",
   "metadata": {},
   "source": [
    "**[2020_겨울방학_스터디, Q13]** 짝지어 제거하기란, 알파벳 소문자로 이루어진 문자열을 가지고 시작합니다. 먼저 문자열에서 같은 알파벳이 2개 붙어 있는 짝을 찾습니다. 그 다음, 그 둘을 제거한 뒤, 앞뒤로 문자열을 이어 붙입니다. 이 과정을 반복해서 문자열을 모두 제거한다면 짝지어 제거하기가 종료됩니다.  \n",
    "문자열 s가 주어졌을 때, 짝지어 제거하기를 성공하면 `성공`을 실패하면 `실패`를 출력하는 `pair`함수를 작성하시오.\n",
    "\n",
    "예시1) 문자열 s = baabaa 라면  b ***aa*** baa -> ***bb*** aa -> ***aa*** -> 의 순서로 문자열을 모두 제거할 수 있으므로 `성공`을 출력한다.<br>\n",
    "예시2) 문자열 s = cddcd 라면  c ***dd*** cd -> ***cc*** d -> d  의 순서로 문자열을 모두 제거할 수 있으므로 `실패`를 출력한다."
   ]
  },
  {
   "cell_type": "code",
   "execution_count": null,
   "id": "5427923f",
   "metadata": {},
   "outputs": [],
   "source": []
  }
 ],
 "metadata": {
  "kernelspec": {
   "display_name": "Python 3 (ipykernel)",
   "language": "python",
   "name": "python3"
  },
  "language_info": {
   "codemirror_mode": {
    "name": "ipython",
    "version": 3
   },
   "file_extension": ".py",
   "mimetype": "text/x-python",
   "name": "python",
   "nbconvert_exporter": "python",
   "pygments_lexer": "ipython3",
   "version": "3.9.12"
  }
 },
 "nbformat": 4,
 "nbformat_minor": 5
}
