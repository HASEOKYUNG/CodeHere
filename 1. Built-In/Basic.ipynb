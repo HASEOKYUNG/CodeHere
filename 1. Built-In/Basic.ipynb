{
 "cells": [
  {
   "cell_type": "markdown",
   "metadata": {},
   "source": [
    "## <font color=\"mediumblue\"> Practical explanation\n",
    "#### [$\\blacktriangleright$ 내장함수](#$\\blacktriangleright$-요소별-적용-함수)\n",
    "#### [$\\blacktriangleright$ String Method](#$\\blacktriangleright$-string)"
   ]
  },
  {
   "cell_type": "markdown",
   "metadata": {},
   "source": [
    "### 변수(Variable)\n",
    "데이터를 저장하기 위한 메모리 공간이다."
   ]
  },
  {
   "cell_type": "code",
   "execution_count": null,
   "metadata": {},
   "outputs": [],
   "source": [
    "# 알파벳, 숫자, _, 한글로 선언할 수 있다. 단, 숫자로는 시작할 수 없다."
   ]
  },
  {
   "cell_type": "code",
   "execution_count": 1,
   "metadata": {
    "scrolled": false
   },
   "outputs": [
    {
     "name": "stdout",
     "output_type": "stream",
     "text": [
      "123\n",
      "<class 'str'>\n",
      "123 369 12.56\n"
     ]
    }
   ],
   "source": [
    "# 여러 개를 동시에 지정할 수 있다.\n",
    "a, b, c = 123, '369', 12.56\n",
    "print(a)\n",
    "print(type(b)) # 변수 자료형 출력\n",
    "print(a, b, c) # 여러 개 동시 출력"
   ]
  },
  {
   "cell_type": "code",
   "execution_count": 27,
   "metadata": {},
   "outputs": [],
   "source": [
    "# 빈 변수는 None으로 선언가능하다. 필요에 따라 0, 1, ''의 값을 대신 사용한다.\n",
    "a = None"
   ]
  },
  {
   "cell_type": "code",
   "execution_count": 5,
   "metadata": {},
   "outputs": [],
   "source": [
    "# 불필요한 데이터를 동시에 변수로 선언할 때 _를 사용한다.\n",
    "a, b, _, _ = 123, 45.6, \"y\", False"
   ]
  },
  {
   "cell_type": "code",
   "execution_count": 2,
   "metadata": {
    "scrolled": false
   },
   "outputs": [
    {
     "ename": "NameError",
     "evalue": "name 'a' is not defined",
     "output_type": "error",
     "traceback": [
      "\u001b[1;31m---------------------------------------------------------------------------\u001b[0m",
      "\u001b[1;31mNameError\u001b[0m                                 Traceback (most recent call last)",
      "\u001b[1;32m<ipython-input-2-2f2a19c34fef>\u001b[0m in \u001b[0;36m<module>\u001b[1;34m\u001b[0m\n\u001b[0;32m      1\u001b[0m \u001b[1;32mdel\u001b[0m \u001b[0ma\u001b[0m  \u001b[1;31m#del을 사용하면 변수가 정의되지 않게 삭제됨\u001b[0m\u001b[1;33m\u001b[0m\u001b[1;33m\u001b[0m\u001b[0m\n\u001b[1;32m----> 2\u001b[1;33m \u001b[0mprint\u001b[0m\u001b[1;33m(\u001b[0m\u001b[0ma\u001b[0m\u001b[1;33m)\u001b[0m\u001b[1;33m\u001b[0m\u001b[1;33m\u001b[0m\u001b[0m\n\u001b[0m",
      "\u001b[1;31mNameError\u001b[0m: name 'a' is not defined"
     ]
    }
   ],
   "source": [
    "# del을 사용하면 변수가 정의되지 않게 삭제된다.\n",
    "del a  \n",
    "print(a)"
   ]
  },
  {
   "cell_type": "markdown",
   "metadata": {},
   "source": [
    "### 자료형(Data Type)\n",
    "데이터의 형태, 종류이다.\n",
    "- Numeric(정수형, 실수형)\n",
    "- String\n",
    "  - 순서가 존재해 indexing & slicing이 가능하다. 또한 반복가능한 성질을 갖는다.\n",
    "  - 문자 집합으로 데이터 집합인 자료구조와 유사한 특징을 갖는다.\n",
    "- Boolean\n",
    "  - 0만이 False, 이외의 숫자는 True로 변환된다.\n",
    "  \n",
    "### 자료구조(Data Collection)\n",
    "여러 개의 데이터를 효과적으로 관리하도록 저장하는 구조이다.\n",
    "- List\n",
    "  - 순서가 존재해 indexing&slicing이 가능하다. 또한 반복가능한 성질을 갖는다.\n",
    "  - **가변(mutable)**적이라 원본에 함수, Method 적용 결과가 반영된다. \n",
    "- Set\n",
    "  - 순서가 없어 indexing&slicing이 불가능하다. 또한 반복가능한 성질을 갖는다.\n",
    "  - 중복을 허용하지 않으며 순서를 유지하지 않고 저장한다.\n",
    "- Dictionary\n",
    "  - 순서가 없어 indexing&slicing이 불가능하다. 또한 반복가능한 성질을 갖는다.\n",
    "  - key로 숫자, 문자열, 튜플 등 불변(immutable)인 값만 넣을 수 있다. 리스트는 key로는 넣을 수 없다.\n",
    "  - 데이터의 수정, 삭제가 item단위로 이루어져 key를 중복해 사용하여 기존의 value가 손실, 변경되지 않게 주의해야 한다.\n",
    "- Tuple\n",
    "  - 순서가 존재해 indexing&slicing이 가능하다. 또한 반복가능한 성질을 갖는다.\n",
    "  - 요소값을 수정, 삭제할 수 없어 보안을 위해 사용한다."
   ]
  },
  {
   "cell_type": "code",
   "execution_count": 27,
   "metadata": {},
   "outputs": [
    {
     "name": "stdout",
     "output_type": "stream",
     "text": [
      "숫자형 리스트: [1, 8, 192]\n",
      "복합형 리스트: [1, 9, 194, '문자', True]\n",
      "문자형 리스트: ['문', '자', '열', '시', '추', '천']\n"
     ]
    }
   ],
   "source": [
    "# 문자열로만 구성되며 각 문자가 리스트의 요소로 선언되어야 한다면 list(문자열)을 추천한다.\n",
    "lst_num = [1,8,192]               # list([1,8,192])\n",
    "print('숫자형 리스트:', lst_num)\n",
    "lst_etc = [1,9,194,'문자',True]  # list([1,9,194,'문자',True])\n",
    "print('복합형 리스트:', lst_etc)\n",
    "\n",
    "lst_str = list('문자열시추천')\n",
    "print('문자형 리스트:', lst_str)  # ['문','자','열','시','추','천']"
   ]
  },
  {
   "cell_type": "code",
   "execution_count": 5,
   "metadata": {},
   "outputs": [
    {
     "name": "stdout",
     "output_type": "stream",
     "text": [
      "자료형 변환(default): ['a', 'b']\n",
      "value 변환(default): [[1, 2, 3], [3, 4, 5]]\n"
     ]
    }
   ],
   "source": [
    "# dictionary를 다른 자료형으로 변환할 때 key에만 적용된다. \n",
    "# dictionary의 value를 담은 자료형을 만들고 싶다면 DICT.values()를 사용해야 한다.\n",
    "dic = dict({'a':[1,2,3],'b':[3,4,5]})\n",
    "print('자료형 변환(default):', list(dic))\n",
    "print('value 변환(default):', list(dic.values()))"
   ]
  },
  {
   "cell_type": "code",
   "execution_count": 6,
   "metadata": {
    "scrolled": true
   },
   "outputs": [
    {
     "name": "stdout",
     "output_type": "stream",
     "text": [
      "<class 'tuple'>\n"
     ]
    }
   ],
   "source": [
    "# 한 개의 요소를 갖는 tuple은 아래와 같이 선언한다.\n",
    "tup = (1,)\n",
    "print(type(tup))"
   ]
  },
  {
   "cell_type": "code",
   "execution_count": 26,
   "metadata": {},
   "outputs": [
    {
     "name": "stdout",
     "output_type": "stream",
     "text": [
      "수정 전: (1, 40, 23, 182, 983)\n",
      "수정 후: (1, 40, 23, 7, 983)\n"
     ]
    }
   ],
   "source": [
    "# 수정, 삭제를 고려하지 않는 tuple을 굳이 수정, 삭제하고자 하면 아래의 방법이 있다.\n",
    "# list로 변환하여 특정 값을 수정, 삭제한 뒤 다시 tuple로 변환하는 방법도 있다.\n",
    "tup = (1,40,23,182,983)  # tuple([1,40,23,182,983])\n",
    "print('수정 전:', tup)\n",
    "\n",
    "tup = tup[:3]+(7,)+tup[-1:]\n",
    "print('수정 후:', tup)"
   ]
  },
  {
   "cell_type": "markdown",
   "metadata": {},
   "source": [
    "### indexing & slicing\n",
    "순서가 있는 자료형, 자료구조에 적용하여 순서를 기준으로 index를 사용해 필요한 데이터만을 추출할 수 있다.\n",
    "```python\n",
    "# index는 데이터 위치를 나타내는 숫자로 순서대로 0부터 1씩 커지는 정수를, 역순으로 -1부터 1씩 작아지는 정수를 부여한다.\n",
    "VAR[INDEX]             COLLECTION|STR인 VAR 내 index가 INDEX인 데이터를 반환한다.\n",
    "VAR[START:STOP:STEP]   COLLECTION|STR인 VAR 내 index가 START부터 STEP 간격을 갖는 STOP-1까지인 데이터들만 반환한다.\n",
    "```"
   ]
  },
  {
   "cell_type": "code",
   "execution_count": 7,
   "metadata": {},
   "outputs": [
    {
     "name": "stdout",
     "output_type": "stream",
     "text": [
      "STEP 양수: [1, 6, 3]\n",
      "STEP 음수: [10, 9]\n"
     ]
    }
   ],
   "source": [
    "# STEP이 양수이면 START default 그대로 0이나 음수로 지정 시 START는 - 1이 된다.\n",
    "ex_1 = list([1,5,6,2,3,8,7,9,4,10])\n",
    "print('STEP 양수:', ex_1[:-5:2])  #    0부터 - 6(STOP-1)까지  2간격을 갖는 데이터\n",
    "print('STEP 음수:', ex_1[:-5:-2]) #  - 1부터 - 4(STOP+1)까지 - 2간격을 갖는 데이터"
   ]
  },
  {
   "cell_type": "code",
   "execution_count": null,
   "metadata": {},
   "outputs": [],
   "source": [
    "# START, STOP 모두 양수로만, 음수로만 할 경우에는 반드시 STOP이 START보다 커야 한다.\n",
    "ex_2 = tuple([1,3,5,9,8,4,2,6])\n",
    "print('출력(양수):', ex_2[2:5], end=' | ') ; print('미출력(양수):', ex_2[5:2])\n",
    "print('출력(음수):', ex_2[-6:-3], end=' | ') ; print('미출력(음수):', ex_2[-3:-6])\n",
    "print('출력(동시):', ex_2[2:-3])\n",
    "print('출력(동시):', ex_2[-6:5])"
   ]
  },
  {
   "cell_type": "code",
   "execution_count": 8,
   "metadata": {},
   "outputs": [
    {
     "name": "stdout",
     "output_type": "stream",
     "text": [
      "특정 위치 기준 slicing: naver\n"
     ]
    }
   ],
   "source": [
    "# index를 선언할 때 연산으로 지정되도록 할 수 있다.\n",
    "ex_3 = 'XXXXX@naver.com'\n",
    "n = ex_3.index('@')\n",
    "print(\"특정 위치 기준 slicing:\", ex_3[n+1:n+6])"
   ]
  },
  {
   "cell_type": "code",
   "execution_count": 9,
   "metadata": {
    "scrolled": true
   },
   "outputs": [
    {
     "name": "stdout",
     "output_type": "stream",
     "text": [
      "인도인토마토기러기\n"
     ]
    }
   ],
   "source": [
    "# STEP을 -1로 지정하면 회문 판별을 쉽게 해결할 수 있다.\n",
    "ex_4 = \"기러기토마토인도인\"\n",
    "print(ex_4[::-1])"
   ]
  },
  {
   "cell_type": "markdown",
   "metadata": {},
   "source": [
    "### 연산자(Operator)\n",
    "- 산술연산자(Arithmetic Operator)\n",
    "\n",
    "```python\n",
    "() → ** → *, /, //, % → +, - \n",
    "```\n",
    "- 복합연산자(Assignment Operator)\n",
    "\n",
    "```python\n",
    "+=, –=, *=, /=, //=, **=, %=\n",
    "```\n",
    "- 관계연산자(Comparison Operator)\n",
    "\n",
    "```python\n",
    "<, >, ==, >=, <=, !=\n",
    "```\n",
    "- 포함연산자(Membership Operator)\n",
    "\n",
    "```python\n",
    "in, not in\n",
    "```\n",
    "- 논리연산자(Logical Operator)\n",
    "\n",
    "```python\n",
    "and, or, not\n",
    "```"
   ]
  },
  {
   "cell_type": "code",
   "execution_count": 10,
   "metadata": {},
   "outputs": [
    {
     "name": "stdout",
     "output_type": "stream",
     "text": [
      "십만자리 정수: 9\n",
      "십만자리 실수: 9.57845\n",
      "만자리: 5\n",
      "천자리: 7\n"
     ]
    }
   ],
   "source": [
    "# 산술연산자로 특정 자리의 숫자를 구할 수 있다.\n",
    "number = 957845\n",
    "print('십만자리 정수:', number // 100000)     \n",
    "print('십만자리 실수:', number / 100000)      \n",
    "print('만자리:', number // 10000 % 10) \n",
    "print('천자리:', number // 1000 % 10)  "
   ]
  },
  {
   "cell_type": "code",
   "execution_count": null,
   "metadata": {},
   "outputs": [],
   "source": [
    "# a, b값을 지정 후 서로 교체하고 싶을 때 복합연산자의 원리를 활용할 수 있다.\n",
    "a, b = 100, 10000 ; print('교체 전:', a,',',b)\n",
    "a, b = b, a ; print('교체 후:', a,',',b)"
   ]
  },
  {
   "cell_type": "code",
   "execution_count": null,
   "metadata": {},
   "outputs": [],
   "source": [
    "# string, list, tuple은 산술연산자(+, *)나 복합연산자(+=, *=)로 확장할 수 있다. \n",
    "tup = (1,4,92)\n",
    "print('산술연산자 사용 예시 1:', tup + (5,19))\n",
    "print('산술연산자 사용 예시 2:', tup * 3, end='\\n\\n')\n",
    "\n",
    "string = '안녕하세요'\n",
    "string += \" 좋은 아침입니다.\"\n",
    "print('복합연산자 사용 예시 1:', string)\n",
    "string *= 2\n",
    "print('복합연산자 사용 예시 2:', string, end='\\n\\n')"
   ]
  },
  {
   "cell_type": "code",
   "execution_count": 38,
   "metadata": {},
   "outputs": [
    {
     "name": "stdout",
     "output_type": "stream",
     "text": [
      "산술연산자 사용 예시 1: (1, 4, 92, 5, 19)\n",
      "산술연산자 사용 예시 2: (1, 4, 92, 1, 4, 92, 1, 4, 92)\n",
      "\n",
      "복합연산자 사용 예시 1: 안녕하세요 좋은 아침입니다.\n",
      "복합연산자 사용 예시 2: 안녕하세요 좋은 아침입니다.안녕하세요 좋은 아침입니다.\n",
      "\n",
      "관계연산자 사용 예시 1: True\n",
      "관계연산자 사용 예시 2: False\n",
      "관계연산자 사용 예시 3: True\n"
     ]
    }
   ],
   "source": [
    "# string, list, tuple, set에는 모든 관계연산자를 적용할 수 있으나 dictionary는 관계연산자 중 ==, !=만 가능하다.\n",
    "lst_1 = [1,4,92]\n",
    "lst_2 = [1,4,92]\n",
    "print('관계연산자 사용 예시 1:', lst_1 <= lst_2)         # 같은 위치의 값끼리 비교한다.\n",
    "string_1 = '안녕하세요'\n",
    "string_2 = '안녕못해요'\n",
    "print('관계연산자 사용 예시 2:', string_1 < string_2)    # String의 대소비교는 Ascii값으로 이루어진다.\n",
    "dict_1 = {1:[0,0,7,0], 2:[1,2,3,4]}\n",
    "dict_2 = {1:[0,0,7,0], 2:[1,2,4]}\n",
    "print('관계연산자 사용 예시 3:', dict_1 != dict_2)       # 동일 key, key별 value를 비교한다."
   ]
  },
  {
   "cell_type": "code",
   "execution_count": null,
   "metadata": {},
   "outputs": [],
   "source": [
    "# 식별연산자 중 메모리 주소를 비교하는 is, is not도 존재한다."
   ]
  },
  {
   "cell_type": "markdown",
   "metadata": {},
   "source": [
    "### 내장함수(Built-in Function)\n",
    "####  $\\blacktriangleright$ 기본 함수\n",
    "```python\n",
    "type(VALUE), len(VALUE)                    VALUE의 자료형,자료구조 유형과 요소수를 반환한다.                               \\\n",
    "str(VALUE), int(VALUE), float(VALUE)       VALUE를 문자열, 정수, 실수로 변환한다.                                          \\\n",
    "dir(VALUE)                                 VALUE의 method를 반환한다.                                                      \\\n",
    "print(VALUE, end=LAST_STR)                 VALUE를 출력한다.                                                               \\\n",
    "input(QUESTION)                            QUESTION을 제시하고 답을 입력받는다.                                            \\\n",
    "range(START_NUM, STOP_NUM, STEP)          'START_NUM부터 STOP_NUM-1까지 STEP 간격의 정수들을 자료구조로 반환한다.          \\\n",
    "                                           반복가능한 성질을 가지며 단순 출력시에는 자료형 변환이 필요하다.'\n",
    "enumerate(COLLECTION|STR, start=START)    'COLLECTION|STR 내 index와 index의 요소를 tuple로 묶은 자료구조를 반환한다.      \\\n",
    "                                           반복가능한 성질을 가지며 단순 출력시에는 자료형 변환이 필요하다.'\n",
    "```"
   ]
  },
  {
   "cell_type": "markdown",
   "metadata": {},
   "source": [
    "#### $\\blacktriangleright$ 통계 함수\n",
    "```python\n",
    "abs(NUM)                                   NUM의 절댓값을 반환한다.                                                        \\\n",
    "round(NUM, DECIMAL_PLACE)                  NUM을 DECIMAL_PLACE자리 소수로 반올림한 값을 반환한다.                          \\\n",
    "divmod(NUM_1, NUM_2)                       NUM_1을 NUM_2로 나눈 몫, 나머지를 tuple로 반환한다.                             \\\n",
    "max(COLLECTION), min(COLLECTION)           COLLECTION 요소들 중 최댓값, 최솟값을 반환한다.                                 \\\n",
    "sum(COLLECTION)                            COLLECTION 요소들의 총 합을 반환한다.                                           \\\n",
    "```"
   ]
  },
  {
   "cell_type": "markdown",
   "metadata": {},
   "source": [
    "#### $\\blacktriangleright$ 요소별 적용 함수\n",
    "$~~~$ 아래의 함수들은 조건문, 반복문에서와 달리 단순 출력을 위해선 자료형 변환이 필요하다. \n",
    "```python\n",
    "map(FUNCTION, COLLECTION)                 'COLLECTION의 각 요소에 함수를 적용한 반복가능한 자료구조를 반환한다.'\n",
    "filter(CONDICTION_FUNCTION, COLLECTION)   'COLLECTION의 각 요소에 CONDICTION_FUNCTION을 적용한 뒤 True인 요소들만 반환한다.' \n",
    "zip(COLLECTIONS)                           동일한 index를 갖는 COLLECTION별 요소들끼리 묶은 반복가능한 자료구조를 반환한다.\n",
    "```"
   ]
  },
  {
   "cell_type": "code",
   "execution_count": 7,
   "metadata": {},
   "outputs": [
    {
     "name": "stdout",
     "output_type": "stream",
     "text": [
      "2 , 2 , 4 , 4\n"
     ]
    }
   ],
   "source": [
    "# round 함수는 반올림자리수가 5일 때 최대자리수가 홀수면 올림, 짝수면 버림한다.\n",
    "print(round(1.5),',',round(2.5),',',round(3.5),',',round(4.5))"
   ]
  },
  {
   "cell_type": "code",
   "execution_count": 18,
   "metadata": {},
   "outputs": [
    {
     "ename": "TypeError",
     "evalue": "'int' object is not iterable",
     "output_type": "error",
     "traceback": [
      "\u001b[1;31m---------------------------------------------------------------------------\u001b[0m",
      "\u001b[1;31mTypeError\u001b[0m                                 Traceback (most recent call last)",
      "Input \u001b[1;32mIn [18]\u001b[0m, in \u001b[0;36m<cell line: 3>\u001b[1;34m()\u001b[0m\n\u001b[0;32m      1\u001b[0m \u001b[38;5;66;03m# map의 함수는 자료형의 원소에 각각 적용됨으로, 자료형에 적용해야 하는 max, min, sum 등은 함수로 사용할 수 없다.\u001b[39;00m\n\u001b[0;32m      2\u001b[0m lst \u001b[38;5;241m=\u001b[39m [\u001b[38;5;241m1\u001b[39m,\u001b[38;5;241m2\u001b[39m,\u001b[38;5;241m3\u001b[39m,\u001b[38;5;241m4\u001b[39m,\u001b[38;5;241m5\u001b[39m]\n\u001b[1;32m----> 3\u001b[0m \u001b[38;5;28mprint\u001b[39m(\u001b[38;5;28;43mlist\u001b[39;49m\u001b[43m(\u001b[49m\u001b[38;5;28;43mmap\u001b[39;49m\u001b[43m(\u001b[49m\u001b[38;5;28;43mmax\u001b[39;49m\u001b[43m,\u001b[49m\u001b[43m \u001b[49m\u001b[43mlst\u001b[49m\u001b[43m)\u001b[49m\u001b[43m)\u001b[49m)\n",
      "\u001b[1;31mTypeError\u001b[0m: 'int' object is not iterable"
     ]
    }
   ],
   "source": [
    "# map의 함수는 자료형의 원소에 각각 적용됨으로, 자료형에 적용해야 하는 max, min, sum 등은 함수로 사용할 수 없다.\n",
    "lst = [1,2,3,4,5]\n",
    "print(list(map(max, lst)))"
   ]
  },
  {
   "cell_type": "code",
   "execution_count": null,
   "metadata": {},
   "outputs": [],
   "source": [
    "# 연산 결과로부터 데이터를 선택할 수 있다.\n",
    "lst = [91, 39, 98, 22, 70, 63, 50, 89, 8, 90]\n",
    "print(list(filter(lambda x: divmod(x,2)[1], lst))) # 2로 나눈 나머지가 0이 아닌 홀수만을 출력한다."
   ]
  },
  {
   "cell_type": "code",
   "execution_count": 1,
   "metadata": {},
   "outputs": [
    {
     "data": {
      "text/plain": [
       "[(1, 6, 10), (2, 7, 11), (3, 8, 12), (4, 9, 13)]"
      ]
     },
     "execution_count": 1,
     "metadata": {},
     "output_type": "execute_result"
    }
   ],
   "source": [
    "# 반복가능한 자료형들의 길이가 다를 때 가장 작은 길이를 갖는 자료형을 기준으로 묶인다.\n",
    "lst_1 = [1, 2, 3, 4, 5]\n",
    "lst_2 = [6, 7, 8, 9]\n",
    "lst_3 = [10, 11, 12, 13, 14, 15]\n",
    "list(zip(lst_1, lst_2, lst_3))"
   ]
  },
  {
   "cell_type": "markdown",
   "metadata": {},
   "source": [
    "### 사용자 정의 함수\n",
    "특정 작업을 위해 반복해서 사용할 경우 선언하는 함수이다. Object-Oriented Programming 파일에서 자세히 살펴보도록 한다.\n",
    "\n",
    "### 무명함수(lambda)\n",
    "일회성으로 사용하거나 간단하게 코드를 작성할 경우에 사용하는 함수이다.<br>\n",
    "주로 조건문과 함께 쓰이는데 if else 조건문이 아닌 if 조건문, if elif 조건문은 불가하다.\n",
    "```python\n",
    "lambda FACTOR_1, FACTOR_2, ... : STATEMENT\n",
    "lambda FACTOR_1, FACTOR_2, ... : STATEMENT_1 if CONDITION_1 else(STATEMENT_2 if CONDITION_2 else(STATEMENT_3))\n",
    "```"
   ]
  },
  {
   "cell_type": "code",
   "execution_count": null,
   "metadata": {},
   "outputs": [],
   "source": [
    "# 무명함수도 이름을 부여하여 다시 사용할 수 있다.\n",
    "f = lambda a, b: a if a % 3 == 0 else(b if a % 3 == 1 else a + b)\n",
    "f(2, 3)"
   ]
  },
  {
   "cell_type": "markdown",
   "metadata": {},
   "source": [
    "### Method\n",
    "#### $\\blacktriangleright$ string \n",
    "- Staple Method\n",
    "\n",
    "| Method \t| Explanation \t|\n",
    "|:---\t|:---\t|\n",
    "| $\\textsf{STR.}\\color{mediumblue}{\\textsf{split}}\\textsf{(SEP, num)}$ \t| STR을 SEP을 기준으로 *num*개의 요소로 분리해 list로 반환한다. \t|\n",
    "| $\\textsf{STR.partition(SEP)}$ \t| STR내 왼쪽부터 SEP 이전, SEP, SEP 이후로 분리해 tuple로 반환한다. \t|\n",
    "| $\\textsf{STR.index(VALUE, start, end), STR.}\\color{mediumblue}{\\textsf{find}}\\textsf{(VALUE, start, end)}$ \t| STR[*start*:*end*] 내 VALUE index 중 최소값을 반환한다. <br>이때, VALUE가 없다면 STR.index(VALUE)는 오류를, STR.find(VALUE)는 -1을 반환한다. \t|\n",
    "| $$\\textsf{STR.rindex(VALUE, start, end), STR.}\\color{mediumblue}{\\textsf{rfind}}\\textsf{(VALUE, start, end)}$$ \t| STR[*start*:*end*] 내 VALUE index 중 최대값을 반환한다.<br>이때, VALUE가 없다면 STR.rindex(VALUE)는 오류를, STR.rfind(VALUE)는 -1을 반환한다. &emsp;\t|\n",
    "| $\\textsf{STR.count(VALUE, start, end)}$ \t| STR[*start*:*end*] 내 VALUE의 개수를 반환한다. \t|\n",
    "| $\\textsf{STR.}\\color{mediumblue}{\\textsf{replace}}\\textsf{(EXIST, NEW, num)}$ \t| STR내 왼쪽부터 *num*개의 EXIST를 NEW로 대체해 반환한다. \t|\n",
    "| $\\textsf{LINK.join(COLLECTION)}$ \t| COLLECTION의 요소를 문자열인 LINK로 연결해 한 문자열로 반환한다. \t|\n",
    "\n",
    "- Format Method\n",
    "\n",
    "```python\n",
    "   f'STR{VALUE}'               STR 내 {} 위치에 VALUE를 문자열로 변환해 대입한다.\n",
    "                               이때 {}안에 VALUE:'num'f으로 num자리까지 반올림된 VALUE를 문자열로 변환할 수 있다.          \\\n",
    "   'STR%SYMBOL'(VALUE)         STR 내 '%SYMBOL' 위치에 자료형 타입이 부합하는 VALUE를 문자열로 변환해 대입한다.\n",
    "                               이때, VALUE가 문자열이면 '%s', 정수면 '%d', 실수면 '%f'로 해야 한다.                        \\\n",
    "   'STR{}'.format(VALUE)       STR 내 {} 위치에 VALUE를 문자열로 변환해 대입한다.\n",
    "```"
   ]
  },
  {
   "cell_type": "markdown",
   "metadata": {},
   "source": [
    "- etc\n",
    "\n",
    "| Method \t| Explanation \t|\n",
    "|:---\t|:---\t|\n",
    "| $\\textsf{STR.lstrip(), STR.strip(), STR.rstrip()}$ \t| STR의 왼쪽, 양쪽, 오른쪽 공백을 지워 반환한다. \t|\n",
    "| $$\\textsf{STR.ljust(NUM, fill), STR.center(NUM, fill),STR.rjust(NUM, fill)}$$ \t| *fill* 로 채워 문자열의 길이수를 NUM으로 하고 STR을 왼쪽, 오른쪽, 가운데로 정렬해 반환한다.\t|\n",
    "| $\\textsf{STR.zfill(NUM)}$ \t| 0으로 채운 STR.rjust(NUM, 0)과 같다. \t|\n",
    "| $\\textsf{STR.capitalize()}$ \t| STR의 첫 문자열은 대문자, 이외는 소문자이게 반환한다. \t|\n",
    "| $\\textsf{STR.upper(), STR.lower()}$ \t| STR의 소문자를 대문자로, 대문자를 소문자로 바꿔 반환한다. \t|\n",
    "| $\\textsf{STR.title()}$ \t| STR내의 숫자와 특수기호(. * \\| 등)를 기준으로 나뉘어진 <br>각 문자열의 첫 문자열은 대문자, 이외는 소문자로 변경한다. \t|\n",
    "| $\\textsf{STR.startswith(VALUE), STR.endswith(VALUE)}$ \t| STR이 VALUE으로 시작, 끝나는 여부를 반환한다. \t|"
   ]
  },
  {
   "cell_type": "code",
   "execution_count": 15,
   "metadata": {},
   "outputs": [
    {
     "name": "stdout",
     "output_type": "stream",
     "text": [
      "{'대한민국': 'Korea', '미국': 'USA', '프랑스': 'France'}\n"
     ]
    }
   ],
   "source": [
    "# partition Method는 문자열 전처리에 유용하다.\n",
    "country = ['(대한민국)/(Korea)', '(미국)/(USA)', '(프랑스)/(France)']\n",
    "dict_country = {i.partition(')/(')[0][1:]:i.partition(')/(')[2][:-1]  for i in country}\n",
    "print(dict_country)"
   ]
  },
  {
   "cell_type": "code",
   "execution_count": 23,
   "metadata": {},
   "outputs": [
    {
     "name": "stdout",
     "output_type": "stream",
     "text": [
      "XXXXXX@naver.com\n"
     ]
    }
   ],
   "source": [
    "# 대부분의 Method가 index가 부여되는 방향에 따라 왼쪽부터 탐색한다.\n",
    "# 그러나, STR.rindex(VALUE), STR.rfind(VALUE), STR.rpartition(SEP)는 오른쪽부터 탐색하는 Method이다.\n",
    "email = \"sgha00@naver.com\"\n",
    "mask = \"X\"*len(email.rpartition('@')[0])+email[email.index('@'):]   # SEP가 STR 내 1개로 STR.partition(SEP)와 결과가 같다.\n",
    "print(mask)"
   ]
  },
  {
   "cell_type": "code",
   "execution_count": 21,
   "metadata": {},
   "outputs": [
    {
     "name": "stdout",
     "output_type": "stream",
     "text": [
      "비가 올 확률은 0.498입니다.\n",
      "다시말해, 비가 올 가능성은 49.837%입니다.\n"
     ]
    }
   ],
   "source": [
    "# f'' format 방법에서 긴 문자열 선언과 동일하게 ''' '''나 \"\"\" \"\"\"로 긴 문자열 format이 가능하다.\n",
    "p = 0.49837263\n",
    "print(f'''비가 올 확률은 {p:.3f}입니다.\n",
    "다시말해, 비가 올 가능성은 {p*100:.3f}%입니다.''') "
   ]
  },
  {
   "cell_type": "code",
   "execution_count": 22,
   "metadata": {},
   "outputs": [
    {
     "name": "stdout",
     "output_type": "stream",
     "text": [
      "안녕하세요   23살 입니다.\n",
      "안녕하세요 23  살 입니다.\n",
      "안녕하세요23   살 입니다.\n"
     ]
    }
   ],
   "source": [
    "# f'' format 방법 설명에서 VALUE:.3f와 유사하게 \n",
    "# VALUE:<num, VALUE:^num, VALUE:>num로 VALUE가 왼쪽, 중앙, 오른쪽으로 정렬된 num자리 문자열를 반환할 수 있다.\n",
    "age = 23\n",
    "print(f'안녕하세요{age:>5}살 입니다.') # 왼쪽으로 n칸 띄어쓴다(default), {age:5}와 동일하다.\n",
    "print(f'안녕하세요{age:^5}살 입니다.') # 중앙에서 양쪽으로 n/2칸 띄어쓴다.\n",
    "print(f'안녕하세요{age:<5}살 입니다.') # 오른쪽으로 n칸 띄어쓴다."
   ]
  },
  {
   "cell_type": "code",
   "execution_count": 1,
   "metadata": {},
   "outputs": [
    {
     "name": "stdout",
     "output_type": "stream",
     "text": [
      "국민대학교의 경영학부빅데이터경영통계에 소속되어 있으며 21살 입니다.\n",
      "국민대학교의 경영학부빅데이터경영통계에 소속되어 있으며 21살 입니다.\n"
     ]
    }
   ],
   "source": [
    "# 주로 f'' format 방법을 사용하나 다른 두 format 방법도 알아두어야 다른 개발자의 코드를 해석할 수 있다.\n",
    "# {}.format 방법은 {}안에 index를 지정할 수 있다.\n",
    "univ, depart, major, age = '국민대학교', '경영학부', '빅데이터경영통계', 21\n",
    "print('%s의 %s%s에 소속되어 있으며 %d살 입니다.'%(univ, depart, major, age))\n",
    "\n",
    "univ, depart, major, age = '국민대학교', '경영학부', '빅데이터경영통계', 21\n",
    "print('{0}의 {2}{1}에 소속되어 있으며 {3}살 입니다.'.format(univ,  major, depart, age))"
   ]
  },
  {
   "cell_type": "markdown",
   "metadata": {},
   "source": [
    "#### $\\blacktriangleright$ list\n",
    "\n",
    "| Method \t| Explanation \t|\n",
    "|:---\t|:---\t|\n",
    "| $\\textsf{LIST.copy( )}$ \t| LIST의 가변적 성질을 고려해 deepcopy를 한다. \t|\n",
    "| $\\textsf{LIST[INDEX] = NEW}$ \t| LIST[INDEX]의 값을 NEW로 변경한다. \t|\n",
    "| $\\textsf{LIST.append(VALUE)}$ \t| LIST에 VALUE를 맨끝에 추가한다. \t|\n",
    "| $\\textsf{LIST.index(VALUE)}$ \t| LIST 내 VALUE의 index를 반환한다. \t|\n",
    "| $\\textsf{LIST.insert(INDEX, VALUE)}$ \t| LIST 내 INDEX 위치에 VALUE를 추가한다. \t|\n",
    "| $\\textsf{LIST.count(VALUE)}$ \t| LIST 내 VALUE의 개수를 반환한다. \t|\n",
    "| $$\\textsf{LIST.sort( ), LIST.sort(reverse=True)}$$  \t| LIST의 요소를 오름차순, 내림차순으로 정렬한다.\t|\n",
    "| $\\textsf{LIST.reverse( )}$ \t| LIST[::-1]와 같이 LIST의 마지막 요소부터 거꾸로 정렬한다. \t|\n",
    "| $\\textsf{LIST.pop(INDEX)}$ \t| LIST 내 INDEX의 요소를 출력 후 삭제한다. del LIST[INDEX]와 같다. $\\qquad\\qquad~$ |\n",
    "| $\\textsf{LIST.}\\color{mediumblue}{\\textsf{remove}}\\textsf{(VALUE)}$ \t| LIST 내 왼쪽부터 VALUE를 삭제한다. \t|\n",
    "| $\\textsf{LIST.clear( )}$ \t| LIST의 모든 요소를 삭제한다. \t|\n",
    "\n",
    "```python\n",
    "'참고'\n",
    "아래는 위의 sort, reverse method와 같은 역할을 하나 가변적인 list도 원본에 변경이 없도록 적용되는 함수이다.                \\\n",
    "sorted(COLLECTION), sorted(COLLECTION, reverse=True)  COLLECTION의 요소를 오름차순, 내림차순으로 정렬한다.                 \\ \n",
    "reversed(COLLECTION)                                   COLLECTION의 마지막 요소부터 거꾸로 정렬시킨다.                \n",
    "                                                       단순 출력을 위해 자료형 변환이 필요하다.\n",
    "```"
   ]
  },
  {
   "cell_type": "code",
   "execution_count": 35,
   "metadata": {},
   "outputs": [
    {
     "name": "stdout",
     "output_type": "stream",
     "text": [
      "['apple', 'watermelon']\n"
     ]
    }
   ],
   "source": [
    "# 복수의 index 지정 후 값 변경 가능하다.\n",
    "thislist = [\"apple\", \"banana\", \"cherry\"]\n",
    "thislist[1:3] = [\"watermelon\"]\n",
    "print(thislist)"
   ]
  },
  {
   "cell_type": "code",
   "execution_count": 24,
   "metadata": {},
   "outputs": [
    {
     "name": "stdout",
     "output_type": "stream",
     "text": [
      "원본: [100, 50, 65, 82, 23] , DeepCopy: [50, 65, 23, 82, 100]\n"
     ]
    }
   ],
   "source": [
    "# key 함수를 적용한 결과로 정렬하도록 선언할 수 있다.\n",
    "lst = [100, 50, 65, 82, 23] \n",
    "ease = lst.copy()                    # ease = lst(shallow copy) 후 ease에 아래의 함수 적용시 원본 lst도 변경된다.\n",
    "ease.sort(key = lambda x: abs(x-50)) # list의 가변적 성질로 원본이 변경된다.\n",
    "print('원본:', lst, ',', 'DeepCopy:', ease)  "
   ]
  },
  {
   "cell_type": "code",
   "execution_count": 27,
   "metadata": {},
   "outputs": [
    {
     "name": "stdout",
     "output_type": "stream",
     "text": [
      "[100, 82, 23]\n"
     ]
    }
   ],
   "source": [
    "# del로는 복수의 요소들을 pop Method처럼 제거할 수 있다.\n",
    "lst = [100, 50, 65, 82, 23]\n",
    "del lst[1:3]\n",
    "print(lst)"
   ]
  },
  {
   "cell_type": "markdown",
   "metadata": {},
   "source": [
    "#### $\\blacktriangleright$ dictionary\n",
    "\n",
    "| Method \t| Explanation \t|\n",
    "|:---\t|:---\t|\n",
    "| $\\textsf{DICT.items()}$ \t| DICT의 key, value를 tuple로 묶은 dict_items로 반환한다. \t|\n",
    "| $$\\textsf{DICT.keys(), DICT.values()}$$ \t| DICT의 key, value만 묶어서 dict_keys, dict_values로 반환한다. \t|\n",
    "| $\\textsf{DICT[KEY] = VALUE}$ \t| DICT 내 KEY가 존재한다면 VALUE 수정, 없다면 {KEY:VALUE}가 추가된다.\t|\n",
    "| $\\textsf{DICT.update(SOME}\\_\\textsf{DICT)}$ \t| DICT에 SOME_DICT를 추가한다. \t|\n",
    "| $\\textsf{DICT.}\\color{mediumblue}{\\textsf{get}}\\textsf{(KEY, DEFAULT)}$ \t| DICT 내 KEY가 존재하다면 VALUE를, 없다면 DEFAULT를 반환한다.|\n",
    "| $\\textsf{DICT.pop(KEY, DEFAULT)}$ \t| DICT 내 KEY가 존재한다면 VALUE를, 없다면 DEFAULT를 출력하고 해당 item을 삭제한다. \t|\n",
    "| $\\textsf{DICT.clear()}$  \t| DICT의 모든 요소가 삭제되고 공집합이 된다. |"
   ]
  },
  {
   "cell_type": "code",
   "execution_count": null,
   "metadata": {},
   "outputs": [],
   "source": [
    "# 선언된 dictionary에서 값을 반환하는 get Method는 dictionary를 선언할 수 있다.\n",
    "text = 'the clown ran after the car and the car ran into the tent and the tent fell down on the clown and the car'\n",
    "words = text.split()\n",
    "\n",
    "counts = dict()\n",
    "for word in words:\n",
    "    counts[word] = counts.get(word,0) + 1\n",
    "    \n",
    "print('최빈도 단어와 횟수:', sorted([(v, k) for k, v in counts.items()], reverse=True)[:1][0][::-1])\n",
    "                            # [(k, v) for k, v in counts.items() if v==max(counts.values())][0]\n",
    "print('상위 5개 횟수와 단어:', sorted([(v, k) for k, v in counts.items()], reverse=True)[:5])\n",
    "                              # [(k, v) for k, v in counts.items() if v in sorted(counts.values(), reverse=True)[:5]]"
   ]
  },
  {
   "cell_type": "markdown",
   "metadata": {},
   "source": [
    "#### $\\blacktriangleright$ set\n",
    "\n",
    "| Method \t| Explanation \t|\n",
    "|:---\t|:---\t|\n",
    "| $\\textsf{SET1 }\\color{mediumorchid}{\\bf{|}}\\textsf{ SET2, SET1 }\\color{mediumorchid}{\\text{&}}\\textsf{ SET2}$\t| SET1과 SET2의 합집합, 교집합을 반환한다. \t|\n",
    "| $\\textsf{SET1 }\\color{mediumorchid}{\\bf{-}}\\textsf{ SET2}$ \t| SET1에서 SET1과 SET2의 교집합 이외의 집합을 반환한다. \t|\n",
    "| $\\textsf{SET1 }\\color{mediumorchid}{\\text{^}}\\textsf{ SET2}$ \t| SET1과 SET2의 교집합의 여집합, 대칭차집합을 반환한다.\t|\n",
    "| $\\textsf{SET.add(VALUE)}$ \t|SET에 VALUE를 추가한다. \t|\n",
    "| $\\textsf{SET.update(COLLECTION)}$ \t| SET에 COLLECTION을 추가한다. |\n",
    "| $$\\textsf{SET.remove(VALUE), SET.discard(VALUE)}$$ \t| SET에 VALUE를 삭제하되 SET 내 VALUE가 없을 경우 remove는 오류를 일으키고 discard는 오류를 일으키지 않는다.|\n",
    "| $\\textsf{SET.clear()}$  \t| SET의 모든 요소를 삭제한다. |\n",
    "\n",
    "#### $\\blacktriangleright$ tuple\n",
    "\n",
    "| Method \t| Explanation \t|\n",
    "|:----------\t|:--------------|\n",
    "| $$\\textsf{TUP.index(VALUE)}\\qquad\\qquad\\quad\\qquad\\quad~~$$\t| TUP 내 VALUE의 index를 반환한다.&emsp;&emsp;&emsp;&emsp;&emsp;&emsp;&emsp;&emsp;&emsp;&emsp;&emsp;&emsp;&emsp;&emsp;&emsp;&emsp;&emsp;&emsp;&emsp;&emsp;&emsp;&emsp;&emsp;&emsp;&emsp;&emsp;&emsp;&emsp;&emsp;&emsp;&emsp;&emsp;&emsp;&emsp;&emsp;&emsp;|\n",
    "| $\\textsf{TUP.count(VALUE)}$ \t| TUP 내 VALUE 개수를 반환한다.|"
   ]
  },
  {
   "cell_type": "markdown",
   "metadata": {},
   "source": [
    "### 조건문\n",
    "- #### if 형\n",
    "  \n",
    "```python\n",
    "if의 CONDITION 결과가 True일 경우에는 STATEMENTS를 실행하고 False일 경우에는 조건문을 종료한다.                           \\\n",
    "\n",
    "    if CONDITION:          \n",
    "        STATEMENTS          \n",
    "```\n",
    "- #### if else 형\n",
    "\n",
    "```python\n",
    "if의 CONDITION 결과가 True이면 if의 STATEMENTS를, False이면 else의 STATEMENTS를 실행한다.                                 \\\n",
    "\n",
    "    if CONDITION:\n",
    "        STATEMENTS\n",
    "    else:\n",
    "        STATEMENTS\n",
    "```\n",
    "- #### if elif else 형\n",
    "\n",
    "```python\n",
    "if의 CONDITION 결과가 True이면 if의 STATEMENT를, False이면 elif의 CONDITION을 실행한다.                                   \\\n",
    "elif의 CONDITION 결과가 True이면 elif의 STATEMENTS를, False이면 다음 elif의 CONDITION을 실행하길 반복하다가               \\\n",
    "모든 CONDITION에 대해 False였으면 else의 STATEMENTS를 실행하고 조건문을 종료한다.                                          \\\n",
    "    \n",
    "    if CONDITION:\n",
    "        STATEMENTS\n",
    "    elif CONDITION:\n",
    "        STATEMENTS\n",
    "        ...\n",
    "    else:\n",
    "        STATEMENTS\n",
    "```"
   ]
  },
  {
   "cell_type": "markdown",
   "metadata": {},
   "source": [
    "- #### Abbreviated CONDITION(one-line if)<br><br>$\\bullet$ lambda\n",
    "  \n",
    "```python\n",
    " lambda 함수에 조건문을 사용하듯 작성한다. 이때, lambda 함수에서와 동일하게 if else형만 사용할 수 있다.\n",
    "\n",
    "    STATEMENTS_True if CONDITION else STATEMENTS_False\n",
    "```\n",
    "#### $~~\\quad\\bullet$ Dict.get( )\n",
    "\n",
    "```python\n",
    " CONDITION를 key로하고 해당 CONDITION이 True일 때 실행할 STATEMENTS를 value로 하는 dictionary를 선언하고                  \\\n",
    " get Method에 각 CONDITION에 들어갈 값을 전달해 부합하는 STATEMENTS 결과를 반환하도록 한다.                               \\\n",
    " 이때, 반환결과가 없을 때 get Method의 default를 이용해 특정값을 반환하게 할 수 있다.\n",
    "    \n",
    "    {CONDITION_1:STATEMENTS_1, CONDITION_2:STATEMENTS_2, ... , CONDITION_n:STATEMENTS_n}.get(True, )\n",
    "    {A:STATEMENTS_1, B:STATEMENTS_2, ... , N:STATEMENTS_n}.get(K, )\n",
    "```"
   ]
  },
  {
   "cell_type": "code",
   "execution_count": 9,
   "metadata": {},
   "outputs": [
    {
     "name": "stdout",
     "output_type": "stream",
     "text": [
      "생년을 입력하시오.2000\n"
     ]
    },
    {
     "data": {
      "text/plain": [
       "'금'"
      ]
     },
     "execution_count": 9,
     "metadata": {},
     "output_type": "execute_result"
    }
   ],
   "source": [
    "# dictionary의 CONDITION이 유사한 형식이라면 CONDITION의 True/False를 판단하는 값을 key로 갖게 작성하면 더 간결하다.\n",
    "birth = int(input(\"생년을 입력하시오.\"))\n",
    "dict(zip([1,2,3,4,0],list('월화수목금'))).get(birth%5, )\n",
    "# {birth%5==1: '월', birth%5==2: '화', birth%5==3: '수', birth%5==4: '목', birth%5==0: '금'}.get(True,)"
   ]
  },
  {
   "cell_type": "markdown",
   "metadata": {},
   "source": [
    "### 반복문\n",
    "- #### for문\n",
    "\n",
    "```python\n",
    "모든 반복가능한 자료구조(COLLECTION)의 요소가 한번씩 for문의 PARAMETER에 저장되어 STATEMENTS가 실행될 때까지 반복한다.        \\\n",
    "\n",
    "for PARAMETER in COLLECTION:\n",
    "    STATEMENTS\n",
    "    \n",
    "이때, else를 사용해 for문이 종료될 때 특정 STATEMENTS를 실행시켜 for문 내 반환결과가 없어 발생하는 오류 등을 해결할 수 있다. \\\n",
    "\n",
    "for PARAMETER in COLLECTION:\n",
    "    STATEMENTS\n",
    "else:\n",
    "    STATEMENTS\n",
    "```\n",
    "\n",
    "- #### while문\n",
    "\n",
    "```python\n",
    "반복종료조건는 정의되나 반복횟수가 미지할 때 사용하는 반복문으로 CONDITION이 False가 되는 순간까지 STATEMENTS를 반복실행한다. \\\n",
    "while문을 사용할 땐 종료조건을 명확히 하지 않으면 무한반복에 빠지며 런타임오류가 날 수 있음에 유의해야 한다.                  \\\n",
    "\n",
    "while CONDITION:\n",
    "    STATEMENTS\n",
    "```\n",
    "- #### 반복제어문\n",
    "\n",
    "```python\n",
    "STATEMENTS에 반복제어문을 선언해 반복문을 제어할 수 있다.\n",
    "반복제어문으로 반복문을 종료시키는 break, 해당 회차의 STATEMENTS 실행을 건너뛰는 continue가 있다.\n",
    "```"
   ]
  },
  {
   "cell_type": "code",
   "execution_count": 15,
   "metadata": {},
   "outputs": [
    {
     "name": "stdout",
     "output_type": "stream",
     "text": [
      "1, 5\n",
      "2, 6\n",
      "3, 7\n",
      "4, 8\n"
     ]
    }
   ],
   "source": [
    "# 반복가능한 자료구조란 반복가능한 성질을 갖는 str, list, dict, tuple, set이나\n",
    "# 함수의 결과가 반복가능한 자료구조인 range, map, zip, enumerate 등이다.\n",
    "range_1, range_2, range_3 = range(1, 5), range(5, 10), range(10, 15)\n",
    "\n",
    "for x, y, _ in zip(range_1, range_2, range_3): \n",
    "    print(f'{x}, {y}')"
   ]
  },
  {
   "cell_type": "code",
   "execution_count": 12,
   "metadata": {},
   "outputs": [
    {
     "name": "stdout",
     "output_type": "stream",
     "text": [
      "22\n"
     ]
    }
   ],
   "source": [
    "# for문의 변수명을 이전에 선언된 변수명으로 하면 반복문의 마지막 인자가 이전에 선언된 변수로 저장된다.\n",
    "age = 100\n",
    "for age in [13, 17, 22]:\n",
    "    pass\n",
    "print(age) "
   ]
  },
  {
   "cell_type": "code",
   "execution_count": 13,
   "metadata": {},
   "outputs": [
    {
     "name": "stdout",
     "output_type": "stream",
     "text": [
      "모두 짝수입니다.\n"
     ]
    }
   ],
   "source": [
    "# for else로 축약된 결론을 전달할 수도 있다.\n",
    "for i in range(0, 20, 2):\n",
    "    if i % 2 == 1:\n",
    "        print('홀수입니다.')\n",
    "else:\n",
    "    print('모두 짝수입니다.')"
   ]
  },
  {
   "cell_type": "code",
   "execution_count": 23,
   "metadata": {},
   "outputs": [
    {
     "name": "stdout",
     "output_type": "stream",
     "text": [
      "1,2,4,8,16\n",
      "1,2,4,8,16\n"
     ]
    }
   ],
   "source": [
    "# while문의 CONDITION을 명시적으로 하기 위해서는\n",
    "# 전역변수를 활용하거나 CONDITION을 True로 설정하고 반복문 안에 조건문을 선언하는 방법이 있다.\n",
    "lst = [1,2,4,8,16]\n",
    "\n",
    "# 방법1) 전역변수 i 활용\n",
    "i = 0\n",
    "while i < len(lst)-1: \n",
    "    print(lst[i], end=',')\n",
    "    i += 1 \n",
    "print(lst[-1])\n",
    "\n",
    "# 방법2) 조건문 사용\n",
    "# 조건문을 사용하는 경우에는 종료조건의 STATEMENTS에 break를 반드시 선언해야 한다.\n",
    "while True: \n",
    "    if len(lst) > 1:\n",
    "        print(lst[0], end=',')\n",
    "        del lst[0]\n",
    "    else:\n",
    "        print(lst[0])\n",
    "        break"
   ]
  },
  {
   "cell_type": "markdown",
   "metadata": {},
   "source": [
    "### comprehension\n",
    "반복문의 STATEMENT 결과들을 자료구조로 반환하는 문법이다.<br>\n",
    "조건문도 사용할 수 있어 특정 STATEMENT결과만 반환하는 것도 가능하다. 그러나, 조건문으로 if형만 가능하다.\n",
    "- #### list comprehension\n",
    "\n",
    "```python\n",
    "[STATEMENT_RETURN for PARAMETER in COLLECTION if CONDITION]\n",
    "```\n",
    "- #### dictionary comprehension\n",
    "\n",
    "```python\n",
    "{KEY : STATEMENT_RETURN for PARAMETER in COLLECTION if CONDITION}\n",
    "```\n",
    "- #### set comprehension\n",
    "\n",
    "```python\n",
    "{STATEMENT_RETURN for PARAMETER in COLLECTION if CONDITION}\n",
    "```\n",
    "- tuple comprehension\n",
    "\n",
    "```python\n",
    "tuple(STATEMENT_RETURN for PARAMETER in COLLECTION if CONDITION)\n",
    "```"
   ]
  },
  {
   "cell_type": "code",
   "execution_count": 27,
   "metadata": {},
   "outputs": [
    {
     "data": {
      "text/plain": [
       "[1, 2, 3, 4, 5, 6, 7, 8, 9, 10, 11, 12]"
      ]
     },
     "execution_count": 27,
     "metadata": {},
     "output_type": "execute_result"
    }
   ],
   "source": [
    "# comprehension에서도 반복문 안에 반복문을 선언할 수 있다.\n",
    "matrix = [[1, 2, 3, 4],\n",
    "          [5, 6, 7, 8],\n",
    "          [9, 10, 11, 12]]\n",
    "flatten = [e for r in matrix for e in r]\n",
    "flatten "
   ]
  },
  {
   "cell_type": "code",
   "execution_count": null,
   "metadata": {},
   "outputs": [],
   "source": []
  },
  {
   "cell_type": "code",
   "execution_count": null,
   "metadata": {},
   "outputs": [],
   "source": []
  }
 ],
 "metadata": {
  "kernelspec": {
   "display_name": "Python 3 (ipykernel)",
   "language": "python",
   "name": "python3"
  },
  "language_info": {
   "codemirror_mode": {
    "name": "ipython",
    "version": 3
   },
   "file_extension": ".py",
   "mimetype": "text/x-python",
   "name": "python",
   "nbconvert_exporter": "python",
   "pygments_lexer": "ipython3",
   "version": "3.9.7"
  }
 },
 "nbformat": 4,
 "nbformat_minor": 4
}
