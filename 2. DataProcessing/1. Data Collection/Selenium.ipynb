{
 "cells": [
  {
   "cell_type": "markdown",
   "id": "06bb8ab3",
   "metadata": {},
   "source": [
    "## Import"
   ]
  },
  {
   "cell_type": "code",
   "execution_count": null,
   "id": "96409d6b",
   "metadata": {},
   "outputs": [],
   "source": [
    "from selenium import webdriver\n",
    "from selenium.webdriver.common.by import By\n",
    "from selenium.webdriver.chrome.service import Service\n",
    "from selenium.webdriver.common.keys import Keys\n",
    "from webdriver_manager.chrome import ChromeDriverManager\n",
    "# IP Block\n",
    "import time\n",
    "import warnings ; warnings.filterwarnings('ignore')"
   ]
  },
  {
   "cell_type": "markdown",
   "id": "1c75c170",
   "metadata": {},
   "source": [
    "## Open Chrome browser\n",
    "- 크롤링을 위해 크롬 브라우저를 사용하기로 한다. 아래의 방법으로 selenium과 함께 설치해야 한다.<br>\n",
    "[chrome driver install] chrome://settings/help로 버전 확인<br>\n",
    "$\\qquad\\qquad\\qquad\\quad \\rightarrow$ https://chromedriver.chromium.org/downloads/version-selection 에서 OS에 맞는 최신 버전 다운로드<br>\n",
    "$\\qquad\\qquad\\qquad\\quad \\rightarrow$ python 디렉토리(C:\\Users\\ `사용자명`\\AppData\\Local\\Programs\\Python)에 압축해제한 폴더 위치시키기<br>"
   ]
  },
  {
   "cell_type": "code",
   "execution_count": null,
   "id": "e74e962d",
   "metadata": {},
   "outputs": [],
   "source": [
    "driver = webdriver.Chrome(service=Service(ChromeDriverManager().install()))"
   ]
  },
  {
   "cell_type": "markdown",
   "id": "5bdc8924",
   "metadata": {},
   "source": [
    "## Access URL"
   ]
  },
  {
   "cell_type": "code",
   "execution_count": null,
   "id": "96fa50e6",
   "metadata": {},
   "outputs": [],
   "source": [
    "url = '크롤링하려는 URL'\n",
    "driver.get(url)"
   ]
  },
  {
   "cell_type": "markdown",
   "id": "ab8b20cd",
   "metadata": {},
   "source": [
    "## Get element value\n",
    "- Update된 By 사용 방법으로 추출하고픈 값을 불러온다.<br><br>\n",
    "  $\\bullet$ `By.XPATH`<br>\n",
    "  $~~$ [오른쪽 마우스] $\\rightarrow$ [검사] $\\rightarrow$ 추출하려는 위치 클릭 $\\rightarrow$ [오른쪽 마우스] $\\rightarrow$ [Copy] $\\rightarrow$ [Copy full Xpath]<br>\n",
    "  $\\bullet$ `By.CSS_SELECTOR`<br>\n",
    "  $~~$ [오른쪽 마우스] $\\rightarrow$ [검사] $\\rightarrow$ 추출하려는 위치 클릭 $\\rightarrow$ [오른쪽 마우스] $\\rightarrow$ [Copy] $\\rightarrow$ [Copy selector]<br>\n",
    "  $\\bullet$ By.CLASS_NAME<br>\n",
    "  $~~$ [오른쪽 마우스] $\\rightarrow$ [검사] $\\rightarrow$ 추출하려는 위치 클릭 $\\rightarrow$ class 값 확인<br>\n",
    "  $\\bullet$ By.TAG_NAME<br>\n",
    "  $~~$ [오른쪽 마우스] $\\rightarrow$ [검사] $\\rightarrow$ 추출하려는 위치 클릭 $\\rightarrow$ 테그명 확인<br>\n",
    "  $\\bullet$ By.LINK_TEXT 또는 By.PARTIAL_LINK_TEXT<br>\n",
    "  $~~$ 추출하려는 값에만 있는 고유 텍스트<br>\n",
    "- driver.find_element(By, form)로는 1개의 값을, driver.find_elements(By, form)로는 form에 맞는 모든 값을 추출한다."
   ]
  },
  {
   "cell_type": "code",
   "execution_count": null,
   "id": "3c5343dd",
   "metadata": {},
   "outputs": [],
   "source": [
    "xpath = 'xpath'\n",
    "driver.find_elements(By.XPATH, xpath)"
   ]
  },
  {
   "cell_type": "code",
   "execution_count": null,
   "id": "81a95424",
   "metadata": {},
   "outputs": [],
   "source": [
    "css = 'css'\n",
    "driver.find_elements(By.CSS_SELECTOR, css)"
   ]
  },
  {
   "cell_type": "code",
   "execution_count": null,
   "id": "8d27a0a2",
   "metadata": {},
   "outputs": [],
   "source": [
    "driver.find_element(By.CLASS_NAME, 'class')"
   ]
  },
  {
   "cell_type": "markdown",
   "id": "963272fc",
   "metadata": {},
   "source": [
    "## Exception handling\n",
    "- selenium.common.exceptions에서 해당 Error명을 확인하고 try-except로 해결한다."
   ]
  },
  {
   "cell_type": "code",
   "execution_count": null,
   "id": "4d8d8efe",
   "metadata": {},
   "outputs": [],
   "source": [
    "# Error\n",
    "from selenium.common.exceptions import UnexpectedAlertPresentException\n",
    "from selenium.common.exceptions import NoSuchElementException"
   ]
  },
  {
   "cell_type": "code",
   "execution_count": null,
   "id": "448b8cbc",
   "metadata": {},
   "outputs": [],
   "source": [
    "# NoSuchElementException를 해결하는 코드이다.\n",
    "try:\n",
    "    # 실행 코드\n",
    "except NoSuchElementException:\n",
    "    # 실행코드"
   ]
  },
  {
   "cell_type": "code",
   "execution_count": null,
   "id": "72a5c8a7",
   "metadata": {},
   "outputs": [],
   "source": [
    "# NoSuchElementException, UnexpectedAlertPresentException를 같은 코드로 해결한다.\n",
    "try:\n",
    "    # 실행 코드\n",
    "except (NoSuchElementException,UnexpectedAlertPresentException) as e:\n",
    "    # 실행코드"
   ]
  },
  {
   "cell_type": "code",
   "execution_count": null,
   "id": "c2a5c41f",
   "metadata": {},
   "outputs": [],
   "source": []
  }
 ],
 "metadata": {
  "kernelspec": {
   "display_name": "Python 3 (ipykernel)",
   "language": "python",
   "name": "python3"
  },
  "language_info": {
   "codemirror_mode": {
    "name": "ipython",
    "version": 3
   },
   "file_extension": ".py",
   "mimetype": "text/x-python",
   "name": "python",
   "nbconvert_exporter": "python",
   "pygments_lexer": "ipython3",
   "version": "3.9.12"
  }
 },
 "nbformat": 4,
 "nbformat_minor": 5
}
