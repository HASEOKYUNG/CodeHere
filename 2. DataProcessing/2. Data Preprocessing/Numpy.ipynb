{
 "cells": [
  {
   "cell_type": "markdown",
   "id": "3a37dc84",
   "metadata": {},
   "source": [
    "# Numerical Data\n",
    "Numpy를 통해 빠르고 간결하게 수치형 데이터 연산이 가능하며 이러한 장점으로 Pandas과 같은 패키지의 부모 클래스가 되었다."
   ]
  },
  {
   "cell_type": "code",
   "execution_count": 1,
   "id": "974c8dd4",
   "metadata": {},
   "outputs": [],
   "source": [
    "import numpy as np"
   ]
  },
  {
   "cell_type": "markdown",
   "id": "fd4f114d",
   "metadata": {},
   "source": [
    "## Data Collection\n",
    "Numpy의 자료구조는 Array(배열)로 Scaler, Vector, Matrix 등의 다차원 자료구조이다.\n",
    "\n",
    "| Function | Explanation  |\n",
    "|:-------|:-------------|\n",
    "| np.array(COLLECTION, dtype)&emsp;&emsp;&emsp;&emsp; | COLLECTION을 담은 배열을 생성한다.<br>o dtype = str &emsp;&#160; 요소의 type을 문자열로 설정<br>&ensp; dtype = int&emsp;&ensp;&#160;  요소의 type을 정수로 설정<br>&ensp; dtype = float&emsp; 요소의 type을 실수로 설정 |\n",
    "| np.zeros(SHAPE)  | 정수나 튜플인 SHAPE 크기의 영행렬을 생성한다. |\n",
    "| np.ones(SHAPE)  | 정수나 튜플인 SHAPE 크기의 모든 원소가 1인 행렬을 생성한다.  |\n",
    "| np.full(SHAPE, K) | 정수나 튜플인 SHAPE 크기의 모든 원소가 K인 행렬을 생성한다. |\n",
    "| np.eye(N) | N x N 크기의 단위행렬을 생성한다. |\n",
    "| np.arange(START, END, STEP)  | range(START, END, STEP)을 담은 배열을 생성한다. 이때, range함수와 달리 STEP으로 소수를 지정할 수 있다.&emsp;&emsp;&emsp;&emsp;&emsp;&emsp;&emsp;&emsp;&emsp;&emsp;&ensp; |\n",
    "| np.linspace(A, B, N)  | A부터 B까지 실수 중 동일한 간격을 갖는 N개 실수를 구해 배열로 생성한다. |"
   ]
  },
  {
   "cell_type": "code",
   "execution_count": 2,
   "id": "ff749a77",
   "metadata": {},
   "outputs": [
    {
     "name": "stdout",
     "output_type": "stream",
     "text": [
      "Scaler: 3\n",
      "Vector: [3]\n",
      "Matrix: [[3]]\n"
     ]
    }
   ],
   "source": [
    "# Scaler는 하나의 값만 가진 배열, Vector는 1차원 배열, Matrix는 2차원 배열을 의미한다.\n",
    "print('Scaler:', np.array(3))\n",
    "print('Vector:', np.array([3]))\n",
    "print('Matrix:', np.array([[3]]))"
   ]
  },
  {
   "cell_type": "code",
   "execution_count": 3,
   "id": "22224aa8",
   "metadata": {
    "scrolled": true
   },
   "outputs": [
    {
     "name": "stdout",
     "output_type": "stream",
     "text": [
      "26 5 14 7\n",
      "96 87 33 4\n",
      "1 42 65 77\n"
     ]
    },
    {
     "data": {
      "text/plain": [
       "array([[26,  5, 14,  7],\n",
       "       [96, 87, 33,  4],\n",
       "       [ 1, 42, 65, 77]])"
      ]
     },
     "metadata": {},
     "output_type": "display_data"
    }
   ],
   "source": [
    "# 수치형 데이터를 input으로 입력받아 Array로 생성할 때 dtype으로 간단하게 변환할 수 있다.\n",
    "display(np.array([input().split() for i in range(3)], dtype=int))"
   ]
  },
  {
   "cell_type": "code",
   "execution_count": 4,
   "id": "aef67929",
   "metadata": {},
   "outputs": [
    {
     "name": "stdout",
     "output_type": "stream",
     "text": [
      "20번 시행 중 1~9의 숫자가 뽑힌 횟수: [2 5 2 1 1 3 1 4 1 0]\n"
     ]
    }
   ],
   "source": [
    "# np.zeros()는 계산 결과를 담는 역할로 많이 사용한다.\n",
    "result = np.zeros(10)\n",
    "\n",
    "for i in np.random.choice(range(1,10), 20):\n",
    "    result[i-1] += 1\n",
    "print('20번 시행 중 1~9의 숫자가 뽑힌 횟수:', result.astype(int))"
   ]
  },
  {
   "cell_type": "code",
   "execution_count": 5,
   "id": "4eec1afb",
   "metadata": {
    "scrolled": true
   },
   "outputs": [
    {
     "data": {
      "text/plain": [
       "array([[3, 3, 3, 3],\n",
       "       [3, 3, 3, 3],\n",
       "       [3, 3, 3, 3]])"
      ]
     },
     "metadata": {},
     "output_type": "display_data"
    }
   ],
   "source": [
    "# np.zeros_like(기존 행렬), np.ones_like(기존 행렬), np.full_like(기존 행렬, K)로 기존 행렬과 동일한 크기의 행렬을 생성할 수 있다.\n",
    "ary = np.array([[2,1,3,31],[7,2,49,4],[12,62,25,1]])\n",
    "display(np.full_like(ary, 3))"
   ]
  },
  {
   "cell_type": "code",
   "execution_count": 6,
   "id": "c875e7bf",
   "metadata": {},
   "outputs": [
    {
     "data": {
      "text/plain": [
       "array([1, 2, 3, 4, 5, 6, 7, 8, 9], dtype=object)"
      ]
     },
     "metadata": {},
     "output_type": "display_data"
    }
   ],
   "source": [
    "# np.arange()에 dtype='타입'을 parameter로 넣어줘 타입 설정이 가능하다. 'f', 'i', 'O'\n",
    "display(np.arange(1, 10, dtype='object'))"
   ]
  },
  {
   "cell_type": "markdown",
   "id": "734f1551",
   "metadata": {},
   "source": [
    "## Tidy Attribute, Method & Function\n",
    "생성한 배열의 정보를 확인하고 정의와 잘못된 부분은 수정한 뒤 사용해야 오류, 에러를 막을 수 있다.\n",
    "#### $\\blacktriangleright$ Attribute\n",
    "| Attribute | Explanation  |\n",
    "|:-------|:-------------|\n",
    "| ARRAY.shape &emsp;&emsp;&emsp;&emsp;&emsp;&emsp;&emsp;&emsp;&emsp;&emsp;&emsp;&emsp;&emsp;&emsp;&emsp;&emsp;&emsp;&emsp;&emsp;&emsp;&emsp; | ARRAY의 크기를 반환한다.&emsp;&emsp;&emsp;&emsp;&emsp;&emsp;&emsp;&emsp;&emsp;&emsp;&emsp;&emsp;&emsp;&emsp;&emsp;&emsp;&emsp;&emsp;&emsp;&emsp;&emsp;&emsp;&emsp;&emsp;&emsp;&emsp;&emsp;&emsp;&emsp;&emsp;&emsp;&emsp;&emsp;&emsp;&emsp;&emsp;&emsp; |\n",
    "| ARRAY.size  | ARRAY의 원소수를 반환한다. |\n",
    "| ARRAY.ndim  | ARRAY의 차원수를 반환한다. |\n",
    "| ARRAY.dtype | ARRAY 원소의 type을 반환한다. |\n",
    "\n",
    "#### $\\blacktriangleright$ Method & Function\n",
    "| Method & Function | Explanation  |\n",
    "|:-------|:-------------|\n",
    "| ARRAY.astype(TYPE)  | ARRAY 원소의 type을 TYPE으로 설정한다.|\n",
    "| ARRAY.reshape(SHAPE) | ARRAY를 SHAPE 크기로 변환한다. |\n",
    "| np.concatenate((ARRAY1, ARRAY2, ...), axis) | tuple로 선언한 배열들을 병합한다. <br>o axis = 0 &emsp;&ensp; 같은 위치의 행끼리 병합<br>&ensp; axis = 1 &emsp;&ensp; 같은 위치의 열끼리 병합|\n",
    "| ARRAY.tile(N) | N개의 ARRAY를 concatenate한 배열을 반환한다. |\n",
    "| ARRAY.repeat(N) | ARRAY의 각 원소를 N번 반복한 배열을 반환한다. |\n",
    "| ARRAY.T | ARRAY의 전치행렬을 반환한다. |\n",
    "| np.split(ARRAY, N, axis), np.array_split(ARRAY, N, axis)&emsp;&emsp;&emsp; | ARRAY를 N개의 배열로 분할한다.<br>이때, split은 반환배열 크기가 동일할 수 없는 N이면 오류가 나나 array_split은 그렇지 않다.&emsp;&emsp;&emsp;&emsp;&emsp;&emsp;&emsp;&emsp;&emsp;&#160; <br>o axis = 0 &emsp;&ensp; 행 단위로 분할<br>&ensp; axis = 1 &emsp;&ensp; 열 단위로 분할|"
   ]
  },
  {
   "cell_type": "code",
   "execution_count": 7,
   "id": "95b01295",
   "metadata": {
    "scrolled": true
   },
   "outputs": [
    {
     "data": {
      "text/plain": [
       "array([[ 2,  1,  3, 31],\n",
       "       [ 7,  2, 49,  4],\n",
       "       [12, 62, 25,  1]])"
      ]
     },
     "metadata": {},
     "output_type": "display_data"
    },
    {
     "data": {
      "text/plain": [
       "array([[ 2,  1,  3, 31,  7,  2, 49,  4, 12, 62, 25,  1]])"
      ]
     },
     "metadata": {},
     "output_type": "display_data"
    },
    {
     "data": {
      "text/plain": [
       "array([[ 2],\n",
       "       [ 1],\n",
       "       [ 3],\n",
       "       [31],\n",
       "       [ 7],\n",
       "       [ 2],\n",
       "       [49],\n",
       "       [ 4],\n",
       "       [12],\n",
       "       [62],\n",
       "       [25],\n",
       "       [ 1]])"
      ]
     },
     "metadata": {},
     "output_type": "display_data"
    }
   ],
   "source": [
    "# reshape에 -1을 m 또는 n으로 넣으면 나머지 숫자로 행렬의 크기를 결정한다.\n",
    "display(ary)\n",
    "display(ary.reshape(1, -1)) # 행벡터\n",
    "display(ary.reshape(-1, 1)) # 열벡터"
   ]
  },
  {
   "cell_type": "code",
   "execution_count": 8,
   "id": "c4937e94",
   "metadata": {},
   "outputs": [
    {
     "name": "stdout",
     "output_type": "stream",
     "text": [
      "True\n"
     ]
    }
   ],
   "source": [
    "# 다차원 배열을 1차원 배열로 변환하는 평탄화(flatten)은 reshape로도 가능하다.\n",
    "print(np.array_equal(ary.flatten(), ary.reshape(-1)))"
   ]
  },
  {
   "cell_type": "code",
   "execution_count": 9,
   "id": "35c74b45",
   "metadata": {},
   "outputs": [
    {
     "data": {
      "text/plain": [
       "array([[ 2,  1,  3, 31],\n",
       "       [ 7,  2, 49,  4],\n",
       "       [12, 62, 25,  1]])"
      ]
     },
     "metadata": {},
     "output_type": "display_data"
    },
    {
     "data": {
      "text/plain": [
       "array([[ 2,  7, 12],\n",
       "       [ 1,  2, 62],\n",
       "       [ 3, 49, 25],\n",
       "       [31,  4,  1]])"
      ]
     },
     "metadata": {},
     "output_type": "display_data"
    }
   ],
   "source": [
    "# Transpose는 Python의 zip함수와 동일한 기능을 하며 Numpy의 column_stack 함수 기능과 같다.\n",
    "display(ary)\n",
    "display(ary.T)"
   ]
  },
  {
   "cell_type": "code",
   "execution_count": 10,
   "id": "6d8cf701",
   "metadata": {},
   "outputs": [
    {
     "name": "stdout",
     "output_type": "stream",
     "text": [
      "-------------정렬 전 행렬-------------\n"
     ]
    },
    {
     "data": {
      "text/plain": [
       "array([[ 2,  1,  3, 31],\n",
       "       [ 7,  2, 49,  4],\n",
       "       [12, 62, 25,  1]])"
      ]
     },
     "metadata": {},
     "output_type": "display_data"
    },
    {
     "name": "stdout",
     "output_type": "stream",
     "text": [
      "---행 내림차순 정렬 후 행 단위 분할---\n"
     ]
    },
    {
     "data": {
      "text/plain": [
       "[array([[31,  3,  2,  1],\n",
       "        [49,  7,  4,  2]]),\n",
       " array([[62, 25, 12,  1]])]"
      ]
     },
     "metadata": {},
     "output_type": "display_data"
    },
    {
     "name": "stdout",
     "output_type": "stream",
     "text": [
      "---열 오름차순 정렬 후 행 단위 분할---\n"
     ]
    },
    {
     "data": {
      "text/plain": [
       "[array([[ 2,  1,  3,  1],\n",
       "        [ 7,  2, 25,  4]]),\n",
       " array([[12, 62, 49, 31]])]"
      ]
     },
     "metadata": {},
     "output_type": "display_data"
    },
    {
     "name": "stdout",
     "output_type": "stream",
     "text": [
      "---행 오름차순 정렬 후 열 단위 분할---\n"
     ]
    },
    {
     "data": {
      "text/plain": [
       "[array([[ 1,  2],\n",
       "        [ 2,  4],\n",
       "        [ 1, 12]]),\n",
       " array([[ 3, 31],\n",
       "        [ 7, 49],\n",
       "        [25, 62]])]"
      ]
     },
     "metadata": {},
     "output_type": "display_data"
    },
    {
     "name": "stdout",
     "output_type": "stream",
     "text": [
      "---열 내름차순 정렬 후 열 단위 분할---\n"
     ]
    },
    {
     "data": {
      "text/plain": [
       "[array([[12, 62],\n",
       "        [ 7,  2],\n",
       "        [ 2,  1]]),\n",
       " array([[49, 31],\n",
       "        [25,  4],\n",
       "        [ 3,  1]])]"
      ]
     },
     "metadata": {},
     "output_type": "display_data"
    }
   ],
   "source": [
    "# np.split과 np.array_split이 배열 내 데이터 순서대로 분할되기에 분할 전 정렬이 필요하다면 np.sort(ARRAY, axis)를 사용하면 된다.\n",
    "print('-------------정렬 전 행렬-------------')\n",
    "display(ary)\n",
    "\n",
    "# 예시1) 행 내 요소를 내림차순으로 정렬 후 행 단위로 분할하기\n",
    "print('---행 내림차순 정렬 후 행 단위 분할---')\n",
    "ease = np.sort(ary)[:,::-1]\n",
    "display(np.array_split(ease, 2, axis=0))\n",
    "\n",
    "# 예시2) 열 내 요소를 오름차순으로 정렬 후 행 단위로 분할하기\n",
    "print('---열 오름차순 정렬 후 행 단위 분할---')\n",
    "ease = np.sort(ary, axis=0)\n",
    "display(np.array_split(ease, 2, axis=0))\n",
    "\n",
    "# 예시3) 행 내 요소를 오름차순으로 정렬 후 열 단위로 분할하기\n",
    "print('---행 오름차순 정렬 후 열 단위 분할---')\n",
    "ease = np.sort(ary)\n",
    "display(np.split(ease, 2, axis=1))\n",
    "\n",
    "# 예시4) 열 내 요소를 내림차순으로 정렬 후 열 단위로 분할하기\n",
    "print('---열 내름차순 정렬 후 열 단위 분할---')\n",
    "ease = np.sort(ary, axis=0)[::-1]\n",
    "display(np.split(ease, 2, axis=1))"
   ]
  },
  {
   "cell_type": "markdown",
   "id": "eda3f919",
   "metadata": {},
   "source": [
    "## indexing & slicing\n",
    "### $\\blacktriangleright$ Select Row, Column, Value\n",
    "\n",
    "```python\n",
    "o START:END:STEP을 지정해 원하는 데이터만 추출한다.\n",
    "  ARRAY[START:END:STEP]\n",
    "  ARRAY[:, START:END:STEP]\n",
    "\n",
    "o list로 index를 선언해 원하는 데이터만 추출한다.\n",
    "  ARRAY[[RINDEX1, RINDEX2, ...]]\n",
    "  ARRAY[:, [CINDEX1, CINDEX2, ...]]\n",
    "```"
   ]
  },
  {
   "cell_type": "markdown",
   "id": "2a0c85b0",
   "metadata": {},
   "source": [
    "### $\\blacktriangleright$ Conditional Indexing & Slicing\n",
    "\n",
    "```python\n",
    "o ARRAY로 정의한 조건식을 사용해 원하는 데이터만 추출한다.\n",
    "  ARRAY[CONDITION]\n",
    "\n",
    "o np.where에 ARRAY로 정의한 조건식을 선언해 원하는 데이터만 추출한다.\n",
    "  np.where(CONDITION, ARRAY, INSTEAD)         CONDITION에 부합하면 데이터, 아니면 INSTEAD를 반환\n",
    "```"
   ]
  },
  {
   "cell_type": "code",
   "execution_count": 11,
   "id": "84a76f80",
   "metadata": {},
   "outputs": [
    {
     "name": "stdout",
     "output_type": "stream",
     "text": [
      "홀수 요소: [ 1  3 31  7 49 25  1]\n",
      "짝수 요소: [ 2  2  4 12 62]\n"
     ]
    }
   ],
   "source": [
    "# 부정연산자를 사용해 indexing & slicing이 가능하다.\n",
    "print('홀수 요소:', ary[ary%2==1])\n",
    "print('짝수 요소:', ary[~(ary%2==1)])"
   ]
  },
  {
   "cell_type": "code",
   "execution_count": 12,
   "id": "54c8ccbe",
   "metadata": {
    "scrolled": true
   },
   "outputs": [
    {
     "name": "stdout",
     "output_type": "stream",
     "text": [
      "------홀수 요소------\n"
     ]
    },
    {
     "data": {
      "text/plain": [
       "array([[ 0,  1,  3, 31],\n",
       "       [ 7,  0, 49,  0],\n",
       "       [ 0,  0, 25,  1]])"
      ]
     },
     "metadata": {},
     "output_type": "display_data"
    },
    {
     "name": "stdout",
     "output_type": "stream",
     "text": [
      "------홀수 요소------\n"
     ]
    },
    {
     "data": {
      "text/plain": [
       "array([[ 2,  0,  0,  0],\n",
       "       [ 0,  2,  0,  4],\n",
       "       [12, 62,  0,  0]])"
      ]
     },
     "metadata": {},
     "output_type": "display_data"
    }
   ],
   "source": [
    "print('------홀수 요소------')\n",
    "display(np.where(ary%2, ary, 0))\n",
    "print('------홀수 요소------')\n",
    "display(np.where(~ary%2, ary, 0))"
   ]
  },
  {
   "cell_type": "markdown",
   "id": "b4f4e79a",
   "metadata": {},
   "source": [
    "## Operater\n",
    "같은 위치의 요소간 연산이 이루어지며 배열의 크기가 다를 경우 Broadcast되어 수행된다.\n",
    "- 산술연산자(Arithmetic Operator)\n",
    "\n",
    "```python\n",
    "() → ** → *, /, //, % → +, - \n",
    "```\n",
    "- 복합연산자(Assignment Operator)\n",
    "\n",
    "```python\n",
    "+=, –=, *=, /=, //=, **=, %=\n",
    "```\n",
    "- 관계연산자(Comparison Operator)\n",
    "\n",
    "```python\n",
    "<, >, ==, >=, <=, !=\n",
    "```\n",
    "\n",
    "$~~~~~$ ※ 배열 간 비교는 아래의 Function을 사용해야 한다.\n",
    "\n",
    "```python\n",
    "  np.array_equal(ARRAY1, ARRAY2)             ARRAY1과 ARRAY2가 같은지 확인\n",
    "```"
   ]
  },
  {
   "cell_type": "code",
   "execution_count": 13,
   "id": "7d3cc4ee",
   "metadata": {},
   "outputs": [
    {
     "data": {
      "text/plain": [
       "array([[10, 13, 23],\n",
       "       [20, 23,  6]])"
      ]
     },
     "metadata": {},
     "output_type": "display_data"
    },
    {
     "data": {
      "text/plain": [
       "array([[0],\n",
       "       [1]])"
      ]
     },
     "metadata": {},
     "output_type": "display_data"
    },
    {
     "data": {
      "text/plain": [
       "array([[10, 13, 23],\n",
       "       [21, 24,  7]])"
      ]
     },
     "metadata": {},
     "output_type": "display_data"
    }
   ],
   "source": [
    "# Broadcast 기능은 상황에 따라 편의를 제공할 수도 에러를 일으키지 않는 오류가 될 수도 있어 유의해야 한다.\n",
    "ary1 = np.array(np.random.choice(range(1, 30), 6)).reshape(2, 3) \n",
    "ary2 = np.array(range(2)).reshape(2, 1) \n",
    "display(ary1, ary2, ary1 + ary2) # ary2 = [[0, 0, 0],\n",
    "                                 #        [1, 1, 1]]"
   ]
  },
  {
   "cell_type": "markdown",
   "id": "884b8bc2",
   "metadata": {},
   "source": [
    "# Method & Function\n",
    "다양한 수학 연산기능을 제공하는 Numpy인 만큼 다양한 목적의 Method, Function이 있다.\n",
    "\n",
    "### $\\blacktriangleright$ Statistic\n",
    "$~~~~$ axis를 0으로 지정해 같은 위치의 열에, 1로 지정해 같은 위치의 행에 함수 적용이 가능하다.\n",
    "\n",
    "| Method & Function | Explanation  |\n",
    "|:-------|:-------------|\n",
    "| ARRAY.sum(axis), ARRAY.prod(axis) | ARRAY 요소합, 요소곱을 구한다. |\n",
    "| ARRAY.argmin(axis), ARRAY.argmin(axis) | ARRAY 내 최솟값, 최댓값의 index를 반환한다.<br>이때, 다차원 배열의 경우 flatten한 배열 내 index를 반환한다.|\n",
    "| ARRAY.mean(axis), np.median(ARRAY, axis) | ARRAY의 요소 평균, 중앙값을 반환한다. |\n",
    "| ARRAY.var(axis), ARRAY.std(axis) | ARRAY의 분산, 표준편차를 반환한다. |\n",
    "| np.cov(ARRAY1, ARRAY2), np.corrcoef(ARRAY1, ARRAY2)&emsp;&emsp;&emsp; | ARRAY1와 ARRAY2간 공분산, 상관계수를 반환한다.&emsp;&emsp;&emsp;&emsp;&emsp;&emsp;&emsp;&emsp;&emsp;&emsp;&emsp;&emsp;&emsp;&emsp;&emsp;&emsp;&emsp;&emsp;&emsp;&emsp;&emsp;&emsp;&emsp;&ensp; |\n",
    "\n",
    "### $\\blacktriangleright$ Feature Transformation\n",
    "$~~~~$ 자료구조 요소별로 함수를 적용하는 범용함수이다.\n",
    "\n",
    "| Function | Explanation  |\n",
    "|:-------|:-------------|\n",
    "| np.reciprocal(ARRAY) | 역수를 배열로 반환한다. |\n",
    "| np.exp(ARRAY), np.expm(ARRAY) | $e^{x}, e^{x}-1$를 적용한 값을 배열로 반환한다.  |\n",
    "| np.exp2(ARRAY) | $2^{x}$를 적용한 값을 배열로 반환한다. |\n",
    "| np.power(BASE_ARRAY, POWER_ARRAY)&emsp;&emsp;&emsp;&emsp;&emsp;&emsp;&emsp;&emsp;&emsp;&emsp; | 같은 위치의 요소에 대한 $\\text{BASE}^\\text{POWER}$ 값을 배열로 반환한다.&emsp;&emsp;&emsp;&emsp;&emsp;&emsp;&emsp;&emsp;&emsp;&emsp;&emsp;&emsp;&emsp;&emsp;&emsp;&emsp;&emsp;&emsp;&emsp; |\n",
    "| np.log(ARRAY), np.log1p(ARRAY) | $\\ln~x, \\ln~(x+1)$를 적용한 값을 배열로 반환한다.|\n",
    "| np.log2(ARRAY) | $\\log_2x$를 적용한 값을 배열로 반환한다. |\n",
    "| np.log10(ARRAY) | $\\log_{10}x$를 적용한 값을 배열로 반환한다. |\n",
    "\n",
    "### ※ Noise Data\n",
    "$~~~~$ Method, Function 적용 결과에 무한대, 결측치, 이상치가 존재할 수 있음을 항상 염두하고 확인과 처리하는 작업을 수행해야 한다.\n",
    "\n",
    "```python\n",
    "# 무한대(np.inf)는 np.isinf 함수로 확인 후 indexing & slicing으로 값을 대체하거나 제거할 수 있다.\n",
    "ARRAY[np.isinf(ARRAY)] = REPLACE\n",
    "np.delete(ARRAY, np.isinf(ARRAY), axis)\n",
    "\n",
    "# 결측치(np.nan)는 np.isnan 함수로 확인 후 indexing & slicing으로 값을 대체하거나 제거할 수 있다.\n",
    "ARRAY[np.isnan(ARRAY)] = REPLACE\n",
    "np.delete(ARRAY, np.isnan(ARRAY), axis)\n",
    "\n",
    "# 이상치는 np.clip(ARRAY, MIN, MAX)함수로 ARRAY 중 MIN과 MAX 범위를 벗어난 요소값은 MIN과 MAX 중 가까운 값으로 대체할 수 있다.\n",
    "q1, q3 = np.quantile(ARRAY, [0.25,0.75])\n",
    "np.clip(ARRAY, q1-1.5(q3-q1), q3+1.5(q3-q1))\n",
    "```"
   ]
  },
  {
   "cell_type": "code",
   "execution_count": 14,
   "id": "8e129d50",
   "metadata": {
    "scrolled": false
   },
   "outputs": [
    {
     "name": "stdout",
     "output_type": "stream",
     "text": [
      "[-inf]\n",
      "[0.]\n"
     ]
    },
    {
     "name": "stderr",
     "output_type": "stream",
     "text": [
      "C:\\Users\\ha\\AppData\\Local\\Temp\\ipykernel_12120\\456221433.py:2: RuntimeWarning: divide by zero encountered in log\n",
      "  print(np.log([0]))\n"
     ]
    }
   ],
   "source": [
    "# np.log1p는 로그함수의 정의역이 0보다 큼에 요소값이 0일 경우 np.inf가 구해짐을 방지한 함수이다.\n",
    "print(np.log([0]))\n",
    "print(np.log1p([0]))"
   ]
  },
  {
   "cell_type": "code",
   "execution_count": 15,
   "id": "af6b94b0",
   "metadata": {},
   "outputs": [
    {
     "data": {
      "text/plain": [
       "array([[  2.,   1.,   3.,  31.],\n",
       "       [  7.,   2.,  49.,   4.],\n",
       "       [ 12.,  62.,  25.,   1.],\n",
       "       [ inf, -inf,   0.,   3.],\n",
       "       [ nan,  inf,  nan,  nan]])"
      ]
     },
     "metadata": {},
     "output_type": "display_data"
    },
    {
     "data": {
      "text/plain": [
       "array([[  2.,   1.,   3.,  31.],\n",
       "       [  7.,   2.,  49.,   4.],\n",
       "       [ 12.,  62.,  25.,   1.],\n",
       "       [999., 999.,   0.,   3.],\n",
       "       [ nan, 999.,  nan,  nan]])"
      ]
     },
     "metadata": {},
     "output_type": "display_data"
    }
   ],
   "source": [
    "# np.where을 사용한 대체도 가능하다\n",
    "ary = np.concatenate([ary, [[np.inf, -1*np.inf, 0, 3], [np.nan, np.inf, np.nan, np.nan]]])\n",
    "display(ary)\n",
    "display(np.where(~np.isinf(ary), ary, 999))"
   ]
  },
  {
   "cell_type": "code",
   "execution_count": 16,
   "id": "dc28d88a",
   "metadata": {
    "scrolled": true
   },
   "outputs": [
    {
     "name": "stdout",
     "output_type": "stream",
     "text": [
      "----결측치가 있는 행 제거----\n",
      "결측치 위치: [[False False False False]\n",
      " [False False False False]\n",
      " [False False False False]\n",
      " [False False False False]\n",
      " [ True False  True  True]]\n"
     ]
    },
    {
     "data": {
      "text/plain": [
       "array([[  2.,   1.,   3.,  31.],\n",
       "       [  7.,   2.,  49.,   4.],\n",
       "       [ 12.,  62.,  25.,   1.],\n",
       "       [ inf, -inf,   0.,   3.]])"
      ]
     },
     "metadata": {},
     "output_type": "display_data"
    }
   ],
   "source": [
    "# 다차원 배열의 데이터 삭제는 어느 축을 삭제할 지 정의해줘야 한다.\n",
    "print('----결측치가 있는 행 제거----')\n",
    "print('결측치 위치:', np.isnan(ary))\n",
    "display(np.delete(ary, np.isnan(ary).max(axis=1), axis=0))"
   ]
  },
  {
   "cell_type": "markdown",
   "id": "5d2d6cd4",
   "metadata": {},
   "source": [
    "### $\\blacktriangleright$ Round\n",
    "| Function | Explanation  |\n",
    "|:-------|:-------------|\n",
    "| np.around(ARRAY, N) | ARRAY의 크기를 반환한다.|\n",
    "| np.ceil(ARRAY), np.trunc(ARRAY)&emsp;&emsp;&emsp;&emsp;&emsp;&emsp;&emsp;&emsp;&emsp;&emsp;&emsp;&emsp;&emsp;&emsp;&emsp; | 올림, 버림한 배열을 반환한다. &emsp;&emsp;&emsp;&emsp;&emsp;&emsp;&emsp;&emsp;&emsp;&emsp;&emsp;&emsp;&emsp;&ensp;&emsp;&emsp;&emsp;&emsp;&emsp;&emsp;&emsp;&emsp;&emsp;&emsp;&emsp;&emsp;&emsp;&emsp;&emsp;&emsp;&emsp;&emsp;&emsp;&emsp; |\n",
    "| np.rint(ARRAY) | ARRAY 원소별 가장 가까운 정수를 배열로 반환한다. |\n",
    "| np.fix(ARRAY) | ARRAY 원소별 0을 향해 가장 가까운 정수를 배열로 반환한다. |"
   ]
  },
  {
   "cell_type": "code",
   "execution_count": 17,
   "id": "261cc6ba",
   "metadata": {},
   "outputs": [
    {
     "name": "stdout",
     "output_type": "stream",
     "text": [
      "[-2. -1. -0.  0.  0.  2.  2.]\n",
      "[-1. -1. -0.  0.  0.  1.  2.]\n",
      "(array([1, 5], dtype=int64),)\n"
     ]
    }
   ],
   "source": [
    "# np.rint, np.fix는 코딩테스트에 유용한 함수이다. 비슷하게 0이 아닌 원소의 index를 알려주는 np.nonzero도 유용하다.\n",
    "print(np.rint([-1.9, -1.2, -0.3, 0, 0.2, 1.69, 2.4]))\n",
    "print(np.fix([-1.9, -1.2, -0.3, 0, 0.2, 1.69, 2.4]))\n",
    "print(np.nonzero([0,1,0,0,0,1]))"
   ]
  },
  {
   "cell_type": "markdown",
   "id": "22e1f8f9",
   "metadata": {},
   "source": [
    "### $\\blacktriangleright$ Frequency\n",
    "| Function | Explanation  |\n",
    "|:-------|:-------------|\n",
    "| np.unique(ARRAY, axis, return_counts, return_index)&emsp;&emsp;&emsp;&emsp;&emsp;&emsp;&emsp;   | ARRAY의 고유값을 오름차순으로 반환한다.<br>o axis = 0 &emsp;&emsp;&emsp;&emsp;&emsp;&emsp;&emsp;&emsp; 유일한 행들만 반환<br>&ensp; axis = 1 &emsp;&emsp;&emsp;&emsp;&emsp;&emsp;&emsp;&emsp; 유일한 열들만 반환<br>o return_counts = True&emsp;&emsp;&ensp;  유일값의 빈도까지 반환 <br> o return_index = True &emsp;&emsp;&ensp;&#160; 유일값의 index까지 반환|\n",
    "| np.bincount(ARRAY, minlength) | ARRAY 원소별 빈도를 반환한다.<br> o minlength = N &emsp;&emsp;&emsp;&emsp;&emsp;&ensp;  range(0, N) 원소의 빈도 반환&emsp;&emsp;&emsp; &emsp;&emsp;&emsp; &emsp;&emsp;&emsp;&emsp;&emsp;&emsp; &emsp;&emsp;&emsp;&emsp;&emsp;&emsp;&emsp; |"
   ]
  },
  {
   "cell_type": "code",
   "execution_count": 18,
   "id": "18fa946c",
   "metadata": {},
   "outputs": [
    {
     "ename": "ValueError",
     "evalue": "object too deep for desired array",
     "output_type": "error",
     "traceback": [
      "\u001b[1;31m---------------------------------------------------------------------------\u001b[0m",
      "\u001b[1;31mValueError\u001b[0m                                Traceback (most recent call last)",
      "Input \u001b[1;32mIn [18]\u001b[0m, in \u001b[0;36m<cell line: 2>\u001b[1;34m()\u001b[0m\n\u001b[0;32m      1\u001b[0m \u001b[38;5;66;03m# np.bincount는 1차원 배열에만 적용할 수 있다.\u001b[39;00m\n\u001b[1;32m----> 2\u001b[0m \u001b[43mnp\u001b[49m\u001b[38;5;241;43m.\u001b[39;49m\u001b[43mbincount\u001b[49m\u001b[43m(\u001b[49m\u001b[43mary\u001b[49m\u001b[43m)\u001b[49m\n",
      "File \u001b[1;32m<__array_function__ internals>:5\u001b[0m, in \u001b[0;36mbincount\u001b[1;34m(*args, **kwargs)\u001b[0m\n",
      "\u001b[1;31mValueError\u001b[0m: object too deep for desired array"
     ]
    }
   ],
   "source": [
    "# np.bincount는 1차원 배열에만 적용할 수 있다.\n",
    "np.bincount(ary)\n",
    "# np.bincount(ary.flatten())"
   ]
  },
  {
   "cell_type": "markdown",
   "id": "318028a0",
   "metadata": {},
   "source": [
    "## Random Module\n",
    "| Function | Explanation  |\n",
    "|:-------|:-------------|\n",
    "| np.random.uniform(A, B, SHAPE) | A부터 B까지 실수 중 SHAPE만큼 샘플을 추출해 SHAPE 크기의 배열을 생성한다. |\n",
    "| np.random.randint(A, B, SHAPE) | A부터 B까지 정수 중 SHAPE만큼 샘플을 추출해 SHAPE 크기의 배열을 생성한다. |    \n",
    "| np.random.choice(COLLECTION/N, SHAPE, replace)&emsp;&ensp; | COLLECTION 또는 range(0, N)에서 SHAPE만큼 샘플을 추출해 SHAPE 크기의 배열을 생성한다.<br>o replace=True&ensp;&ensp;&emsp;중복을 허용해 추출<br>&emsp;replace=False&ensp;&ensp;&ensp;중복을 허용하지 않고 추출 |\n",
    "| np.random.rand(SHAPE)  | 균일분포(0. ~ 1.)에서 SHAPE만큼 샘플을 추출해 SHAPE 크기의 배열을 생성한다. |\n",
    "| np.random.randn(SHAPE) | 표준정규분포에서 SHAPE만큼 샘플을 추출해 SHAPE 크기의 배열을 생성한다. |\n",
    "| np.random.normal(M, S, SHAPE) | 평균과 표준편차가 각각 M, S인 정규분포에서 SHAPE만큼 샘플을 추출해 SHAPE 크기의 배열을 생성한다.&emsp;&emsp;&emsp;&emsp;&emsp;|\n",
    "\n",
    "$~~$ ※ Random을 사용 시 seed를 설정하지 않으면 코드를 실행할 때마다 다른 결과가 나온다. 정확한 결과 확인을 위해 seed 설정을 반드시 해야 한다.<br>\n",
    "```python\n",
    "np.random.seed(N)   seed를 N으로 설정\n",
    "```"
   ]
  },
  {
   "cell_type": "code",
   "execution_count": 19,
   "id": "4be46ec1",
   "metadata": {},
   "outputs": [],
   "source": [
    "np.random.seed(1004)"
   ]
  },
  {
   "cell_type": "code",
   "execution_count": 20,
   "id": "c29edc1d",
   "metadata": {
    "scrolled": true
   },
   "outputs": [
    {
     "name": "stdout",
     "output_type": "stream",
     "text": [
      "indexing 수행 X: <class 'numpy.ndarray'>\n",
      "indexing 수행: <class 'numpy.int32'>\n"
     ]
    }
   ],
   "source": [
    "# SHAPE로 1을 지정해도 배열로 반환되어 요소를 활용하기 위해선 indexing을 해야 한다.\n",
    "print('indexing 수행 X:', type(326 + np.random.randint(1,100,1)))\n",
    "print('indexing 수행:', type(326 + np.random.randint(1,100,1)[0]))"
   ]
  },
  {
   "cell_type": "code",
   "execution_count": 21,
   "id": "5642edaa",
   "metadata": {},
   "outputs": [
    {
     "data": {
      "text/plain": [
       "array([4, 3])"
      ]
     },
     "execution_count": 21,
     "metadata": {},
     "output_type": "execute_result"
    }
   ],
   "source": [
    "# np.random.choice에서 p로 각 요소별 추출될 확률을 반영할 수 있다.\n",
    "np.random.choice(6, 2, replace=True, p=[0.35, 0.1, 0.05, 0.35, 0.1, 0.05])"
   ]
  },
  {
   "cell_type": "code",
   "execution_count": null,
   "id": "70951ac1",
   "metadata": {},
   "outputs": [],
   "source": []
  }
 ],
 "metadata": {
  "kernelspec": {
   "display_name": "Python 3 (ipykernel)",
   "language": "python",
   "name": "python3"
  },
  "language_info": {
   "codemirror_mode": {
    "name": "ipython",
    "version": 3
   },
   "file_extension": ".py",
   "mimetype": "text/x-python",
   "name": "python",
   "nbconvert_exporter": "python",
   "pygments_lexer": "ipython3",
   "version": "3.9.12"
  }
 },
 "nbformat": 4,
 "nbformat_minor": 5
}
