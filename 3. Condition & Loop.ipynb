{
 "cells": [
  {
   "cell_type": "markdown",
   "metadata": {},
   "source": [
    "### 조건문\n",
    "- #### if 형\n",
    "  \n",
    "```python\n",
    "if의 CONDITION 결과가 True일 경우에는 STATEMENTS를 실행하고 False일 경우에는 조건문을 종료한다.                           \\\n",
    "\n",
    "    if CONDITION:          \n",
    "        STATEMENTS          \n",
    "```\n",
    "- #### if else 형\n",
    "\n",
    "```python\n",
    "if의 CONDITION 결과가 True이면 if의 STATEMENTS를, False이면 else의 STATEMENTS를 실행한다.                                 \\\n",
    "\n",
    "    if CONDITION:\n",
    "        STATEMENTS\n",
    "    else:\n",
    "        STATEMENTS\n",
    "```\n",
    "- #### if elif else 형\n",
    "\n",
    "```python\n",
    "if의 CONDITION 결과가 True이면 if의 STATEMENT를, False이면 elif의 CONDITION을 실행한다.                                   \\\n",
    "elif의 CONDITION 결과가 True이면 elif의 STATEMENTS를, False이면 다음 elif의 CONDITION을 실행하길 반복하다가               \\\n",
    "모든 CONDITION에 대해 False였으면 else의 STATEMENTS를 실행하고 조건문을 종료한다.                                          \\\n",
    "    \n",
    "    if CONDITION:\n",
    "        STATEMENTS\n",
    "    elif CONDITION:\n",
    "        STATEMENTS\n",
    "        ...\n",
    "    else:\n",
    "        STATEMENTS\n",
    "```"
   ]
  },
  {
   "cell_type": "markdown",
   "metadata": {},
   "source": [
    "- #### Abbreviated CONDITION(one-line if)<br><br>$\\bullet$ lambda\n",
    "  \n",
    "```python\n",
    " lambda 함수에 조건문을 사용하듯 작성한다. 이때, lambda 함수에서와 동일하게 if else형만 사용할 수 있다.\n",
    "\n",
    "    STATEMENTS_True if CONDITION else STATEMENTS_False\n",
    "```\n",
    "#### $~~\\quad\\bullet$ Dict.get( )\n",
    "\n",
    "```python\n",
    " CONDITION를 key로하고 해당 CONDITION이 True일 때 실행할 STATEMENTS를 value로 하는 dictionary를 선언하고                  \\\n",
    " get Method에 각 CONDITION에 들어갈 값을 전달해 부합하는 STATEMENTS 결과를 반환하도록 한다.                               \\\n",
    " 이때, 반환결과가 없을 때 get Method의 default를 이용해 특정값을 반환하게 할 수 있다.\n",
    "    \n",
    "    {CONDITION_1:STATEMENTS_1, CONDITION_2:STATEMENTS_2, ... , CONDITION_n:STATEMENTS_n}.get(True, )\n",
    "    {A:STATEMENTS_1, B:STATEMENTS_2, ... , N:STATEMENTS_n}.get(K, )\n",
    "```"
   ]
  },
  {
   "cell_type": "code",
   "execution_count": 1,
   "metadata": {},
   "outputs": [
    {
     "name": "stdout",
     "output_type": "stream",
     "text": [
      "생년을 입력하시오.2000\n"
     ]
    },
    {
     "data": {
      "text/plain": [
       "'금'"
      ]
     },
     "execution_count": 1,
     "metadata": {},
     "output_type": "execute_result"
    }
   ],
   "source": [
    "# dictionary의 CONDITION이 유사한 형식이라면 CONDITION의 True/False를 판단하는 값을 key로 갖게 작성하면 더 간결하다.\n",
    "birth = int(input(\"생년을 입력하시오.\"))\n",
    "dict(zip([1,2,3,4,0],list('월화수목금'))).get(birth%5, )\n",
    "# {birth%5==1: '월', birth%5==2: '화', birth%5==3: '수', birth%5==4: '목', birth%5==0: '금'}.get(True,)"
   ]
  },
  {
   "cell_type": "markdown",
   "metadata": {},
   "source": [
    "### 반복문\n",
    "- #### for문\n",
    "\n",
    "```python\n",
    "모든 반복가능한 자료구조(COLLECTION)의 요소가 한번씩 for문의 PARAMETER에 저장되어 STATEMENTS가 실행될 때까지 반복한다.        \\\n",
    "\n",
    "for PARAMETER in COLLECTION:\n",
    "    STATEMENTS\n",
    "    \n",
    "이때, else를 사용해 for문이 종료될 때 특정 STATEMENTS를 실행시켜 for문 내 반환결과가 없어 발생하는 오류 등을 해결할 수 있다. \\\n",
    "\n",
    "for PARAMETER in COLLECTION:\n",
    "    STATEMENTS\n",
    "else:\n",
    "    STATEMENTS\n",
    "```\n",
    "\n",
    "- #### while문\n",
    "\n",
    "```python\n",
    "반복종료조건는 정의되나 반복횟수가 미지할 때 사용하는 반복문으로 CONDITION이 False가 되는 순간까지 STATEMENTS를 반복실행한다. \\\n",
    "while문을 사용할 땐 종료조건을 명확히 하지 않으면 무한반복에 빠지며 런타임오류가 날 수 있음에 유의해야 한다.                  \\\n",
    "\n",
    "while CONDITION:\n",
    "    STATEMENTS\n",
    "```\n",
    "- #### 반복제어문\n",
    "\n",
    "```python\n",
    "STATEMENTS에 반복제어문을 선언해 반복문을 제어할 수 있다.\n",
    "반복제어문으로 반복문을 종료시키는 break, 해당 회차의 STATEMENTS 실행을 건너뛰는 continue가 있다.\n",
    "```"
   ]
  },
  {
   "cell_type": "code",
   "execution_count": 2,
   "metadata": {},
   "outputs": [
    {
     "name": "stdout",
     "output_type": "stream",
     "text": [
      "1, 5\n",
      "2, 6\n",
      "3, 7\n",
      "4, 8\n"
     ]
    }
   ],
   "source": [
    "# 반복가능한 자료구조란 반복가능한 성질을 갖는 str, list, dict, tuple, set이나\n",
    "# 함수의 결과가 반복가능한 자료구조인 range, map, zip, enumerate 등이다.\n",
    "range_1, range_2, range_3 = range(1, 5), range(5, 10), range(10, 15)\n",
    "\n",
    "for x, y, _ in zip(range_1, range_2, range_3): \n",
    "    print(f'{x}, {y}')"
   ]
  },
  {
   "cell_type": "code",
   "execution_count": 3,
   "metadata": {},
   "outputs": [
    {
     "name": "stdout",
     "output_type": "stream",
     "text": [
      "22\n"
     ]
    }
   ],
   "source": [
    "# for문의 변수명을 이전에 선언된 변수명으로 하면 반복문의 마지막 인자가 이전에 선언된 변수로 저장된다.\n",
    "age = 100\n",
    "for age in [13, 17, 22]:\n",
    "    pass\n",
    "print(age) "
   ]
  },
  {
   "cell_type": "code",
   "execution_count": 4,
   "metadata": {},
   "outputs": [
    {
     "name": "stdout",
     "output_type": "stream",
     "text": [
      "모두 짝수입니다.\n"
     ]
    }
   ],
   "source": [
    "# for else로 축약된 결론을 전달할 수도 있다.\n",
    "for i in range(0, 20, 2):\n",
    "    if i % 2 == 1:\n",
    "        print('홀수입니다.')\n",
    "else:\n",
    "    print('모두 짝수입니다.')"
   ]
  },
  {
   "cell_type": "code",
   "execution_count": 5,
   "metadata": {},
   "outputs": [
    {
     "name": "stdout",
     "output_type": "stream",
     "text": [
      "1,2,4,8,16\n",
      "1,2,4,8,16\n"
     ]
    }
   ],
   "source": [
    "# while문의 CONDITION을 명시적으로 하기 위해서는\n",
    "# 전역변수를 활용하거나 CONDITION을 True로 설정하고 반복문 안에 조건문을 선언하는 방법이 있다.\n",
    "lst = [1,2,4,8,16]\n",
    "\n",
    "# 방법1) 전역변수 i 활용\n",
    "i = 0\n",
    "while i < len(lst)-1: \n",
    "    print(lst[i], end=',')\n",
    "    i += 1 \n",
    "print(lst[-1])\n",
    "\n",
    "# 방법2) 조건문 사용\n",
    "# 조건문을 사용하는 경우에는 종료조건의 STATEMENTS에 break를 반드시 선언해야 한다.\n",
    "while True: \n",
    "    if len(lst) > 1:\n",
    "        print(lst[0], end=',')\n",
    "        del lst[0]\n",
    "    else:\n",
    "        print(lst[0])\n",
    "        break"
   ]
  },
  {
   "cell_type": "markdown",
   "metadata": {},
   "source": [
    "### comprehension\n",
    "반복문의 STATEMENT 결과들을 자료구조로 반환하는 문법이다.<br>\n",
    "조건문도 사용할 수 있어 특정 STATEMENT결과만 반환하는 것도 가능하다. 그러나, 조건문으로 if형만 가능하다.\n",
    "- #### list comprehension\n",
    "\n",
    "```python\n",
    "[STATEMENT_RETURN for PARAMETER in COLLECTION if CONDITION]\n",
    "```\n",
    "- #### dictionary comprehension\n",
    "\n",
    "```python\n",
    "{KEY : STATEMENT_RETURN for PARAMETER in COLLECTION if CONDITION}\n",
    "```\n",
    "- #### set comprehension\n",
    "\n",
    "```python\n",
    "{STATEMENT_RETURN for PARAMETER in COLLECTION if CONDITION}\n",
    "```\n",
    "- tuple comprehension\n",
    "\n",
    "```python\n",
    "tuple(STATEMENT_RETURN for PARAMETER in COLLECTION if CONDITION)\n",
    "```"
   ]
  },
  {
   "cell_type": "code",
   "execution_count": 6,
   "metadata": {},
   "outputs": [
    {
     "data": {
      "text/plain": [
       "[1, 2, 3, 4, 5, 6, 7, 8, 9, 10, 11, 12]"
      ]
     },
     "execution_count": 6,
     "metadata": {},
     "output_type": "execute_result"
    }
   ],
   "source": [
    "# comprehension에서도 반복문 안에 반복문을 선언할 수 있다.\n",
    "matrix = [[1, 2, 3, 4],\n",
    "          [5, 6, 7, 8],\n",
    "          [9, 10, 11, 12]]\n",
    "flatten = [e for r in matrix for e in r]\n",
    "flatten "
   ]
  },
  {
   "cell_type": "code",
   "execution_count": null,
   "metadata": {},
   "outputs": [],
   "source": []
  }
 ],
 "metadata": {
  "kernelspec": {
   "display_name": "Python 3 (ipykernel)",
   "language": "python",
   "name": "python3"
  },
  "language_info": {
   "codemirror_mode": {
    "name": "ipython",
    "version": 3
   },
   "file_extension": ".py",
   "mimetype": "text/x-python",
   "name": "python",
   "nbconvert_exporter": "python",
   "pygments_lexer": "ipython3",
   "version": "3.9.7"
  }
 },
 "nbformat": 4,
 "nbformat_minor": 4
}
